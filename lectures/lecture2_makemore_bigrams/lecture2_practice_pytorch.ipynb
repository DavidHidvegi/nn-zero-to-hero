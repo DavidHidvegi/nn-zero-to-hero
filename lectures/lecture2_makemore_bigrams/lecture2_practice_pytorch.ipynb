{
 "cells": [
  {
   "cell_type": "code",
   "execution_count": 2,
   "id": "d76cd742-f38f-46ec-ad64-4ea43d86fc3f",
   "metadata": {
    "tags": []
   },
   "outputs": [],
   "source": [
    "# ------------------ Pracice #1 ------------------\n",
    "# https://pytorch.org/tutorials/beginner/basics/tensorqs_tutorial.html"
   ]
  },
  {
   "cell_type": "code",
   "execution_count": 3,
   "id": "3d188685-e193-4985-a3b5-926be6f5c344",
   "metadata": {
    "tags": []
   },
   "outputs": [],
   "source": [
    "import torch\n",
    "import numpy as np"
   ]
  },
  {
   "cell_type": "code",
   "execution_count": 6,
   "id": "5a056caf-dcd0-4794-a7f9-55ce27ad1261",
   "metadata": {
    "tags": []
   },
   "outputs": [],
   "source": [
    "data = [[1, 2], [3, 4]]\n",
    "x_data = torch.tensor(data)"
   ]
  },
  {
   "cell_type": "code",
   "execution_count": 8,
   "id": "bb90a3fd-3349-4c25-aea3-bc88ba02988c",
   "metadata": {
    "tags": []
   },
   "outputs": [],
   "source": [
    "np_array = np.array(data)\n",
    "x_np = torch.from_numpy(np_array)"
   ]
  },
  {
   "cell_type": "code",
   "execution_count": 20,
   "id": "5384bd75-c69d-46a9-8223-10ad917b66ad",
   "metadata": {
    "tags": []
   },
   "outputs": [
    {
     "name": "stdout",
     "output_type": "stream",
     "text": [
      "Ones Tensor:\n",
      "tensor([[1, 1],\n",
      "        [1, 1]])\n",
      "\n",
      "Random Tensor:\n",
      "tensor([[0.2040, 0.1292],\n",
      "        [0.6205, 0.7461]])\n",
      "\n"
     ]
    }
   ],
   "source": [
    "x_ones = torch.ones_like(x_data)\n",
    "print(f\"Ones Tensor:\\n{x_ones}\\n\")\n",
    "x_rand = torch.rand_like(x_data, dtype=torch.float)\n",
    "print(f\"Random Tensor:\\n{x_rand}\\n\")"
   ]
  },
  {
   "cell_type": "code",
   "execution_count": 37,
   "id": "839b3bdd-5f7c-460f-bde5-ddc59e3f0033",
   "metadata": {
    "tags": []
   },
   "outputs": [
    {
     "name": "stdout",
     "output_type": "stream",
     "text": [
      "Random Tensor:\n",
      "tensor([[0.7385, 0.9589, 0.2248],\n",
      "        [0.4033, 0.3078, 0.9899]])\n",
      "\n",
      "Ones Tensor:\n",
      "tensor([[1., 1., 1.],\n",
      "        [1., 1., 1.]])\n",
      "\n",
      "Zeros Tensor:\n",
      "tensor([[0., 0., 0.],\n",
      "        [0., 0., 0.]])\n",
      "\n"
     ]
    }
   ],
   "source": [
    "shape = (2, 3, )\n",
    "rand_tensor = torch.rand(shape)\n",
    "ones_tensor = torch.ones(shape)\n",
    "zeros_tensor = torch.zeros(shape)\n",
    "\n",
    "print(f\"Random Tensor:\\n{rand_tensor}\\n\")\n",
    "print(f\"Ones Tensor:\\n{ones_tensor}\\n\")\n",
    "print(f\"Zeros Tensor:\\n{zeros_tensor}\\n\")"
   ]
  },
  {
   "cell_type": "code",
   "execution_count": 38,
   "id": "414e85fd-51e7-4bb7-bfb8-7b8254b4a5fe",
   "metadata": {
    "tags": []
   },
   "outputs": [
    {
     "name": "stdout",
     "output_type": "stream",
     "text": [
      "Shape of tensor: torch.Size([3, 4])\n",
      "Datatype of tensor: torch.float32\n",
      "Device tensor is stored on: cpu\n"
     ]
    }
   ],
   "source": [
    "tensor = torch.rand(3, 4)\n",
    "\n",
    "print(f\"Shape of tensor: {tensor.shape}\")\n",
    "print(f\"Datatype of tensor: {tensor.dtype}\")\n",
    "print(f\"Device tensor is stored on: {tensor.device}\")"
   ]
  },
  {
   "cell_type": "code",
   "execution_count": 59,
   "id": "8de6c13a-f83c-4161-8f61-fce0c044410c",
   "metadata": {
    "tags": []
   },
   "outputs": [
    {
     "name": "stdout",
     "output_type": "stream",
     "text": [
      "33.1 ms ± 1.9 ms per loop (mean ± std. dev. of 10 runs, 100 loops each)\n"
     ]
    }
   ],
   "source": [
    "# Question: Can I move the tensor to the gpu of the M1?\n",
    "# Solution: https://stackoverflow.com/questions/68820453/how-to-run-pytorch-on-macbook-pro-m1-gpu\n",
    "\n",
    "device = torch.device('cpu')\n",
    "x = torch.rand((10000,10000), dtype =torch.float32)\n",
    "y = torch.rand((10000,10000), dtype =torch.float32)\n",
    "x = x.to(device)\n",
    "y = y.to(device)\n",
    "\n",
    "%timeit -n 100 -r 10 x * y"
   ]
  },
  {
   "cell_type": "code",
   "execution_count": 61,
   "id": "bc7bc703-deda-4131-b824-8f8415a0183f",
   "metadata": {
    "tags": []
   },
   "outputs": [
    {
     "name": "stdout",
     "output_type": "stream",
     "text": [
      "19.1 ms ± 3.84 ms per loop (mean ± std. dev. of 10 runs, 100 loops each)\n"
     ]
    }
   ],
   "source": [
    "device = torch.device('mps')\n",
    "x = torch.rand((10000,10000), dtype =torch.float32)\n",
    "y = torch.rand((10000,10000), dtype =torch.float32)\n",
    "x = x.to(device)\n",
    "y = y.to(device)\n",
    "\n",
    "%timeit -n 100 -r 10 x * y"
   ]
  },
  {
   "cell_type": "code",
   "execution_count": 62,
   "id": "f5152338-a02d-4745-9e9a-60dd84123258",
   "metadata": {
    "tags": []
   },
   "outputs": [],
   "source": [
    "# We move our tensor to the GPU if available\n",
    "if torch.cuda.is_available():\n",
    "    tensor = tensor.to(\"cuda\")"
   ]
  },
  {
   "cell_type": "code",
   "execution_count": 67,
   "id": "7a4a378e-6eee-422f-8bef-b69040cd14be",
   "metadata": {
    "tags": []
   },
   "outputs": [
    {
     "name": "stdout",
     "output_type": "stream",
     "text": [
      "First row: tensor([1., 1., 1., 1.])\n",
      "First column: tensor([1., 1., 1., 1.])\n",
      "Last column: tensor([1., 1., 1., 1.])\n",
      "tensor([[1., 0., 1., 1.],\n",
      "        [1., 0., 1., 1.],\n",
      "        [1., 0., 1., 1.],\n",
      "        [1., 0., 1., 1.]])\n"
     ]
    }
   ],
   "source": [
    "tensor = torch.ones(4, 4)\n",
    "print(f\"First row: {tensor[0]}\")\n",
    "print(f\"First column: {tensor[:,0]}\")\n",
    "print(f\"Last column: {tensor[..., -1]}\")\n",
    "tensor[:,1] = 0\n",
    "print(tensor)"
   ]
  },
  {
   "cell_type": "code",
   "execution_count": 68,
   "id": "42bead0d-ba25-422e-ab79-ba068a24bb7c",
   "metadata": {
    "tags": []
   },
   "outputs": [
    {
     "name": "stdout",
     "output_type": "stream",
     "text": [
      "tensor([[1., 0., 1., 1., 1., 0., 1., 1., 1., 0., 1., 1.],\n",
      "        [1., 0., 1., 1., 1., 0., 1., 1., 1., 0., 1., 1.],\n",
      "        [1., 0., 1., 1., 1., 0., 1., 1., 1., 0., 1., 1.],\n",
      "        [1., 0., 1., 1., 1., 0., 1., 1., 1., 0., 1., 1.]])\n"
     ]
    }
   ],
   "source": [
    "t1 = torch.cat([tensor, tensor, tensor], dim=1)\n",
    "print(t1)"
   ]
  },
  {
   "cell_type": "code",
   "execution_count": 79,
   "id": "0c5b6dd8-442b-4f81-8a24-a9fd2953c9a6",
   "metadata": {
    "tags": []
   },
   "outputs": [
    {
     "data": {
      "text/plain": [
       "(tensor([[3., 3., 3., 3.],\n",
       "         [3., 3., 3., 3.],\n",
       "         [3., 3., 3., 3.],\n",
       "         [3., 3., 3., 3.]]),\n",
       " tensor([[3., 3., 3., 3.],\n",
       "         [3., 3., 3., 3.],\n",
       "         [3., 3., 3., 3.],\n",
       "         [3., 3., 3., 3.]]),\n",
       " tensor([[3., 3., 3., 3.],\n",
       "         [3., 3., 3., 3.],\n",
       "         [3., 3., 3., 3.],\n",
       "         [3., 3., 3., 3.]]))"
      ]
     },
     "execution_count": 79,
     "metadata": {},
     "output_type": "execute_result"
    }
   ],
   "source": [
    "# Matrix multiplication between two tensors, y1, y2, y3 has the same result\n",
    "\n",
    "y1 = tensor @ tensor.T\n",
    "y2 = tensor.matmul(tensor.T)\n",
    "\n",
    "y3 = torch.rand_like(y1)\n",
    "torch.matmul(tensor, tensor.T, out=y3)\n",
    "\n",
    "y1, y2, y3"
   ]
  },
  {
   "cell_type": "code",
   "execution_count": 81,
   "id": "12381155-b5e0-4e31-8816-468332ad5922",
   "metadata": {
    "tags": []
   },
   "outputs": [
    {
     "data": {
      "text/plain": [
       "(tensor([[1., 0., 1., 1.],\n",
       "         [1., 0., 1., 1.],\n",
       "         [1., 0., 1., 1.],\n",
       "         [1., 0., 1., 1.]]),\n",
       " tensor([[1., 0., 1., 1.],\n",
       "         [1., 0., 1., 1.],\n",
       "         [1., 0., 1., 1.],\n",
       "         [1., 0., 1., 1.]]),\n",
       " tensor([[1., 0., 1., 1.],\n",
       "         [1., 0., 1., 1.],\n",
       "         [1., 0., 1., 1.],\n",
       "         [1., 0., 1., 1.]]))"
      ]
     },
     "execution_count": 81,
     "metadata": {},
     "output_type": "execute_result"
    }
   ],
   "source": [
    "z1 = tensor * tensor\n",
    "z2 = tensor.mul(tensor)\n",
    "\n",
    "z3 = torch.rand_like(tensor)\n",
    "torch.mul(tensor, tensor, out=z3)\n",
    "\n",
    "z1, z2, z3"
   ]
  },
  {
   "cell_type": "code",
   "execution_count": 82,
   "id": "75c22137-c455-469d-ac06-7df224e5ad20",
   "metadata": {
    "tags": []
   },
   "outputs": [
    {
     "name": "stdout",
     "output_type": "stream",
     "text": [
      "12.0 <class 'float'>\n"
     ]
    }
   ],
   "source": [
    "agg = tensor.sum()\n",
    "agg_item = agg.item()\n",
    "print(agg_item, type(agg_item))"
   ]
  },
  {
   "cell_type": "code",
   "execution_count": 83,
   "id": "a19b22ac-483d-4b6a-8595-ef44a97d89e8",
   "metadata": {
    "tags": []
   },
   "outputs": [
    {
     "name": "stdout",
     "output_type": "stream",
     "text": [
      "tensor([[1., 0., 1., 1.],\n",
      "        [1., 0., 1., 1.],\n",
      "        [1., 0., 1., 1.],\n",
      "        [1., 0., 1., 1.]])\n",
      "tensor([[6., 5., 6., 6.],\n",
      "        [6., 5., 6., 6.],\n",
      "        [6., 5., 6., 6.],\n",
      "        [6., 5., 6., 6.]])\n"
     ]
    }
   ],
   "source": [
    "print(f\"{tensor}\")\n",
    "tensor.add_(5)\n",
    "print(f\"{tensor}\")"
   ]
  },
  {
   "cell_type": "code",
   "execution_count": 84,
   "id": "97ad8f42-7a35-4bb3-a767-c1974569bdaa",
   "metadata": {
    "tags": []
   },
   "outputs": [
    {
     "name": "stdout",
     "output_type": "stream",
     "text": [
      "t: tensor([1., 1., 1., 1., 1.])\n",
      "t: [1. 1. 1. 1. 1.]\n"
     ]
    }
   ],
   "source": [
    "t = torch.ones(5)\n",
    "print(f\"t: {t}\")\n",
    "n = t.numpy()\n",
    "print(f\"n: {n}\")"
   ]
  },
  {
   "cell_type": "code",
   "execution_count": 86,
   "id": "c045affd-85f9-479f-aa46-83b6c845a8c9",
   "metadata": {
    "tags": []
   },
   "outputs": [
    {
     "name": "stdout",
     "output_type": "stream",
     "text": [
      "t: tensor([3., 3., 3., 3., 3.])\n",
      "n: [3. 3. 3. 3. 3.]\n"
     ]
    }
   ],
   "source": [
    "t.add_(1)\n",
    "print(f\"t: {t}\")\n",
    "print(f\"n: {n}\")"
   ]
  },
  {
   "cell_type": "code",
   "execution_count": 88,
   "id": "fb2f409a-f4d1-4851-abf5-90ecaad29741",
   "metadata": {
    "tags": []
   },
   "outputs": [],
   "source": [
    "n = np.ones(5)\n",
    "t = torch.from_numpy(n)"
   ]
  },
  {
   "cell_type": "code",
   "execution_count": 89,
   "id": "e382e1ba-e66e-4366-bbe8-37d053e4d41d",
   "metadata": {
    "tags": []
   },
   "outputs": [
    {
     "name": "stdout",
     "output_type": "stream",
     "text": [
      "t: tensor([2., 2., 2., 2., 2.], dtype=torch.float64)\n",
      "n: [2. 2. 2. 2. 2.]\n"
     ]
    }
   ],
   "source": [
    "np.add(n, 1, out=n)\n",
    "print(f\"t: {t}\")\n",
    "print(f\"n: {n}\")"
   ]
  },
  {
   "cell_type": "code",
   "execution_count": 90,
   "id": "2608dd9a-b02c-4384-bb7e-befd8755ccc3",
   "metadata": {
    "tags": []
   },
   "outputs": [],
   "source": [
    "# ------------------ Pracice #2 ------------------\n",
    "# https://pytorch.org/tutorials/beginner/nlp/pytorch_tutorial.html"
   ]
  },
  {
   "cell_type": "code",
   "execution_count": 92,
   "id": "7b83ce7e-3c0c-4edd-9b81-2d8b9cb0c3b2",
   "metadata": {
    "tags": []
   },
   "outputs": [
    {
     "data": {
      "text/plain": [
       "<torch._C.Generator at 0x104948130>"
      ]
     },
     "execution_count": 92,
     "metadata": {},
     "output_type": "execute_result"
    }
   ],
   "source": [
    "import torch\n",
    "torch.manual_seed(1)"
   ]
  },
  {
   "cell_type": "code",
   "execution_count": 98,
   "id": "eecc3a3e-1ca8-4ba6-a613-d26dbe53d12e",
   "metadata": {
    "tags": []
   },
   "outputs": [
    {
     "name": "stdout",
     "output_type": "stream",
     "text": [
      "tensor([1., 2., 3.])\n",
      "tensor([[1., 2., 3.],\n",
      "        [4., 5., 6.]])\n",
      "tensor([[[1., 2.],\n",
      "         [3., 4.]],\n",
      "\n",
      "        [[5., 6.],\n",
      "         [7., 8.]]])\n"
     ]
    }
   ],
   "source": [
    "V_data = [1., 2., 3.]\n",
    "V = torch.tensor(V_data)\n",
    "print(V)\n",
    "\n",
    "# Creates a matric\n",
    "M_data = [[1., 2., 3.], [4., 5., 6.]]\n",
    "M = torch.tensor(M_data)\n",
    "print(M)\n",
    "\n",
    "# Create a 3D tensor of size 2x2x2\n",
    "T_data = [[[1., 2.], \n",
    "           [3., 4.]],\n",
    "          [[5., 6.],\n",
    "           [7., 8.]]]\n",
    "T = torch.tensor(T_data)\n",
    "print(T)"
   ]
  },
  {
   "cell_type": "code",
   "execution_count": 102,
   "id": "0916df69-2398-4cd6-8839-6536a0363506",
   "metadata": {
    "tags": []
   },
   "outputs": [
    {
     "name": "stdout",
     "output_type": "stream",
     "text": [
      "tensor(1.)\n",
      "tensor([1., 2., 3.])\n",
      "tensor([[1., 2.],\n",
      "        [3., 4.]])\n"
     ]
    }
   ],
   "source": [
    "# Indexing into a vector\n",
    "print(V[0])\n",
    "\n",
    "# Indexing into a matricx\n",
    "print(M[0])\n",
    "\n",
    "# Indexing into a 3D tensor\n",
    "print(T[0])"
   ]
  },
  {
   "cell_type": "code",
   "execution_count": 108,
   "id": "1475f699-cdfc-4631-818d-2cb3c93e92e4",
   "metadata": {
    "tags": []
   },
   "outputs": [
    {
     "name": "stdout",
     "output_type": "stream",
     "text": [
      "tensor([[[-0.8262, -0.2221, -1.7949,  0.7299, -0.5619],\n",
      "         [-0.1579,  1.5043, -1.3950,  0.5935,  0.3314],\n",
      "         [-1.0592, -0.6280, -0.2713,  1.8469, -0.0313],\n",
      "         [-0.0939, -1.6804,  1.3299,  0.1383,  1.0735]],\n",
      "\n",
      "        [[ 0.4096, -1.5421, -1.0129, -0.0297,  1.2996],\n",
      "         [ 0.4201,  2.4291,  1.3981, -0.6281,  1.1969],\n",
      "         [ 0.6110, -0.4548,  1.3261,  0.5883, -1.2548],\n",
      "         [ 1.3883, -0.4552,  0.3186, -0.3549,  0.6859]],\n",
      "\n",
      "        [[ 0.8202, -0.1630, -0.8551, -0.7517, -0.0077],\n",
      "         [ 2.6158, -0.0639,  0.2609,  1.2374, -1.5462],\n",
      "         [ 0.7172,  0.7770,  0.4739,  0.9988, -0.1120],\n",
      "         [-1.7404, -0.0340,  0.5267, -0.0861, -1.6190]]])\n"
     ]
    }
   ],
   "source": [
    "x = torch.randn((3, 4, 5))\n",
    "print(x)"
   ]
  },
  {
   "cell_type": "code",
   "execution_count": 109,
   "id": "fbb35bd8-c6d8-4d43-b180-72f3733882aa",
   "metadata": {
    "tags": []
   },
   "outputs": [
    {
     "name": "stdout",
     "output_type": "stream",
     "text": [
      "tensor([5., 7., 9.])\n"
     ]
    }
   ],
   "source": [
    "x = torch.tensor([1., 2., 3.])\n",
    "y = torch.tensor([4., 5., 6.])\n",
    "z = x + y\n",
    "print(z)"
   ]
  },
  {
   "cell_type": "code",
   "execution_count": 112,
   "id": "06bf8dd7-bc24-45c8-a0a9-8be7bc675545",
   "metadata": {
    "tags": []
   },
   "outputs": [
    {
     "name": "stdout",
     "output_type": "stream",
     "text": [
      "tensor([[1., 1., 1., 1., 1.],\n",
      "        [1., 1., 1., 1., 1.],\n",
      "        [0., 0., 0., 0., 0.],\n",
      "        [0., 0., 0., 0., 0.],\n",
      "        [0., 0., 0., 0., 0.]])\n",
      "tensor([[1., 1., 1., 0., 0., 0., 0., 0.],\n",
      "        [1., 1., 1., 0., 0., 0., 0., 0.]])\n"
     ]
    }
   ],
   "source": [
    "x_1 = torch.ones(2, 5)\n",
    "y_1 = torch.zeros(3, 5)\n",
    "z_1 = torch.cat([x_1, y_1])\n",
    "print(z_1)\n",
    "\n",
    "x_2 = torch.ones(2, 3)\n",
    "y_2 = torch.zeros(2, 5)\n",
    "z_2 = torch.cat([x_2, y_2], 1)\n",
    "print(z_2)"
   ]
  },
  {
   "cell_type": "code",
   "execution_count": 113,
   "id": "f3b7c948-7a27-4602-8dd3-26e06d6517df",
   "metadata": {
    "tags": []
   },
   "outputs": [
    {
     "name": "stdout",
     "output_type": "stream",
     "text": [
      "tensor([[[-0.7129, -0.0639,  1.0757, -0.5536],\n",
      "         [-1.6160,  0.0934, -1.3898, -0.3105],\n",
      "         [-0.3884, -0.0316, -0.5606, -0.6555]],\n",
      "\n",
      "        [[ 0.7262,  0.6789, -0.4302, -0.3849],\n",
      "         [-1.5083, -0.7200, -1.1910,  1.3271],\n",
      "         [-2.1984,  0.2861, -0.2010, -2.5349]]])\n",
      "tensor([[-0.7129, -0.0639,  1.0757, -0.5536, -1.6160,  0.0934, -1.3898, -0.3105,\n",
      "         -0.3884, -0.0316, -0.5606, -0.6555],\n",
      "        [ 0.7262,  0.6789, -0.4302, -0.3849, -1.5083, -0.7200, -1.1910,  1.3271,\n",
      "         -2.1984,  0.2861, -0.2010, -2.5349]])\n"
     ]
    }
   ],
   "source": [
    "x = torch.randn(2, 3, 4)\n",
    "print(x)\n",
    "print(x.view(2, 12))"
   ]
  },
  {
   "cell_type": "code",
   "execution_count": 115,
   "id": "6d78351d-660b-4923-8a4f-f9f1fabaff2a",
   "metadata": {
    "tags": []
   },
   "outputs": [
    {
     "name": "stdout",
     "output_type": "stream",
     "text": [
      "tensor([[-0.7129, -0.0639,  1.0757, -0.5536, -1.6160,  0.0934, -1.3898, -0.3105,\n",
      "         -0.3884, -0.0316, -0.5606, -0.6555],\n",
      "        [ 0.7262,  0.6789, -0.4302, -0.3849, -1.5083, -0.7200, -1.1910,  1.3271,\n",
      "         -2.1984,  0.2861, -0.2010, -2.5349]])\n"
     ]
    }
   ],
   "source": [
    "print(x.view(2, -1))"
   ]
  },
  {
   "cell_type": "code",
   "execution_count": 119,
   "id": "1c3e51f1-c7a0-4f6c-a90a-6022c208b2e7",
   "metadata": {
    "tags": []
   },
   "outputs": [
    {
     "name": "stdout",
     "output_type": "stream",
     "text": [
      "tensor([5., 7., 9.], grad_fn=<AddBackward0>)\n",
      "<AddBackward0 object at 0x117a88280>\n"
     ]
    }
   ],
   "source": [
    "x = torch.tensor([1., 2., 3.], requires_grad=True)\n",
    "\n",
    "y = torch.tensor([4., 5., 6.], requires_grad=True)\n",
    "z = x + y\n",
    "print(z)\n",
    "\n",
    "print(z.grad_fn)"
   ]
  },
  {
   "cell_type": "code",
   "execution_count": 120,
   "id": "e5a26c89-4652-4b48-8ad2-ad1d2f8249cd",
   "metadata": {
    "tags": []
   },
   "outputs": [
    {
     "name": "stdout",
     "output_type": "stream",
     "text": [
      "tensor(21., grad_fn=<SumBackward0>)\n",
      "<SumBackward0 object at 0x117949e50>\n"
     ]
    }
   ],
   "source": [
    "s = z.sum()\n",
    "print(s)\n",
    "print(s.grad_fn)"
   ]
  },
  {
   "cell_type": "code",
   "execution_count": 130,
   "id": "a6f37e25-052d-47cc-8c5d-763d8a3a94e4",
   "metadata": {
    "tags": []
   },
   "outputs": [
    {
     "name": "stdout",
     "output_type": "stream",
     "text": [
      "tensor([1., 1., 1.])\n"
     ]
    }
   ],
   "source": [
    "x.grad = None # without this line, it accummulates the grad\n",
    "s.backward()\n",
    "print(x.grad)"
   ]
  },
  {
   "cell_type": "code",
   "execution_count": 131,
   "id": "f2b8ba02-eb12-4d20-bb84-d7b83a30d47e",
   "metadata": {
    "tags": []
   },
   "outputs": [
    {
     "name": "stdout",
     "output_type": "stream",
     "text": [
      "False False\n",
      "None\n"
     ]
    }
   ],
   "source": [
    "x = torch.randn(2, 2)\n",
    "y = torch.randn(2, 2)\n",
    "\n",
    "print(x.requires_grad, y.requires_grad)\n",
    "z = x + y\n",
    "print(z.grad_fn)"
   ]
  },
  {
   "cell_type": "code",
   "execution_count": 133,
   "id": "9cfc99a8-25eb-4db0-942f-b95b6ffa5ec2",
   "metadata": {
    "tags": []
   },
   "outputs": [
    {
     "name": "stdout",
     "output_type": "stream",
     "text": [
      "<AddBackward0 object at 0x117ab0400>\n",
      "True\n"
     ]
    }
   ],
   "source": [
    "x = x.requires_grad_()\n",
    "y = y.requires_grad_()\n",
    "z = x + y\n",
    "print(z.grad_fn)\n",
    "print(z.requires_grad)"
   ]
  },
  {
   "cell_type": "code",
   "execution_count": 134,
   "id": "0f7c46a0-be39-41a2-9b4f-e22f311f18f5",
   "metadata": {
    "tags": []
   },
   "outputs": [
    {
     "name": "stdout",
     "output_type": "stream",
     "text": [
      "None\n"
     ]
    }
   ],
   "source": [
    "new_z = z.detach()\n",
    "print(new_z.grad_fn)"
   ]
  },
  {
   "cell_type": "code",
   "execution_count": 137,
   "id": "4fd3814c-c99c-4b8d-a7c9-8a5deec8d12b",
   "metadata": {
    "tags": []
   },
   "outputs": [
    {
     "name": "stdout",
     "output_type": "stream",
     "text": [
      "True\n",
      "True\n",
      "False\n"
     ]
    }
   ],
   "source": [
    "print(x.requires_grad)\n",
    "print((x ** 2).requires_grad)\n",
    "\n",
    "with torch.no_grad():\n",
    "    print((x ** 2).requires_grad)"
   ]
  }
 ],
 "metadata": {
  "kernelspec": {
   "display_name": "Python 3 (ipykernel)",
   "language": "python",
   "name": "python3"
  },
  "language_info": {
   "codemirror_mode": {
    "name": "ipython",
    "version": 3
   },
   "file_extension": ".py",
   "mimetype": "text/x-python",
   "name": "python",
   "nbconvert_exporter": "python",
   "pygments_lexer": "ipython3",
   "version": "3.9.16"
  }
 },
 "nbformat": 4,
 "nbformat_minor": 5
}
