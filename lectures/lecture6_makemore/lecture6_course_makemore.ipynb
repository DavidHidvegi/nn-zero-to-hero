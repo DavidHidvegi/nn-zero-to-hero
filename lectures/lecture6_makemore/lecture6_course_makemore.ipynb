{
 "cells": [
  {
   "cell_type": "markdown",
   "id": "c1d5f430-9865-4626-bcea-f85447db49f5",
   "metadata": {},
   "source": [
    "# makemore: part 5"
   ]
  },
  {
   "cell_type": "code",
   "execution_count": 1,
   "id": "1bb5ea83-f796-486f-ba19-41297a7e7247",
   "metadata": {
    "tags": []
   },
   "outputs": [],
   "source": [
    "import torch\n",
    "import torch.nn.functional as F\n",
    "import matplotlib.pyplot as plt\n",
    "%matplotlib inline"
   ]
  },
  {
   "cell_type": "code",
   "execution_count": 2,
   "id": "6acf54a4-877a-4397-b4cc-0571af0774c7",
   "metadata": {
    "tags": []
   },
   "outputs": [
    {
     "name": "stdout",
     "output_type": "stream",
     "text": [
      "32033\n",
      "15\n",
      "['emma', 'olivia', 'ava', 'isabella', 'sophia', 'charlotte', 'mia', 'amelia']\n"
     ]
    }
   ],
   "source": [
    "# read in all the words\n",
    "words = open('names.txt', 'r').read().splitlines()\n",
    "print(len(words))\n",
    "print(max(len(w) for w in words))\n",
    "print(words[:8])"
   ]
  },
  {
   "cell_type": "code",
   "execution_count": 3,
   "id": "d206e00e-2d8c-426f-bdcc-5a1475b97559",
   "metadata": {
    "tags": []
   },
   "outputs": [
    {
     "name": "stdout",
     "output_type": "stream",
     "text": [
      "{1: 'a', 2: 'b', 3: 'c', 4: 'd', 5: 'e', 6: 'f', 7: 'g', 8: 'h', 9: 'i', 10: 'j', 11: 'k', 12: 'l', 13: 'm', 14: 'n', 15: 'o', 16: 'p', 17: 'q', 18: 'r', 19: 's', 20: 't', 21: 'u', 22: 'v', 23: 'w', 24: 'x', 25: 'y', 26: 'z', 0: '.'}\n",
      "27\n"
     ]
    }
   ],
   "source": [
    "# build the vocabulary of characters and mappins to/from integers\n",
    "chars = sorted(list(set(''.join(words))))\n",
    "stoi = {s:i+1 for i,s in enumerate(chars)}\n",
    "stoi['.'] = 0\n",
    "itos = {i:s for s, i in stoi.items()}\n",
    "vocab_size = len(itos)\n",
    "print(itos)\n",
    "print(vocab_size)"
   ]
  },
  {
   "cell_type": "code",
   "execution_count": 4,
   "id": "f6ed4eba-cd99-4e83-ab94-d5cab614e470",
   "metadata": {
    "tags": []
   },
   "outputs": [],
   "source": [
    "# shuffle up the words\n",
    "import random \n",
    "random.seed(42)\n",
    "random.shuffle(words)"
   ]
  },
  {
   "cell_type": "code",
   "execution_count": 214,
   "id": "d009c3c5-1f33-4166-b447-18e0c56d6624",
   "metadata": {
    "tags": []
   },
   "outputs": [
    {
     "name": "stdout",
     "output_type": "stream",
     "text": [
      "torch.Size([182484, 8]) torch.Size([182484])\n",
      "torch.Size([22869, 8]) torch.Size([22869])\n",
      "torch.Size([22793, 8]) torch.Size([22793])\n"
     ]
    }
   ],
   "source": [
    "# build the dataset\n",
    "\n",
    "block_size = 8 # context length: how many characters do we take to predict the next one?\n",
    "\n",
    "def build_dataset(words):\n",
    "    X, Y = [], []\n",
    "    for w in words:\n",
    "        # print(w)\n",
    "\n",
    "        context = [0] * block_size\n",
    "        for ch in w + '.':\n",
    "            ix = stoi[ch]\n",
    "            X.append(context)\n",
    "            Y.append(ix)\n",
    "            context = context[1:] + [ix] # crop and append\n",
    "\n",
    "    X = torch.tensor(X)\n",
    "    Y = torch.tensor(Y)\n",
    "    print(X.shape, Y.shape)\n",
    "    return X, Y\n",
    "    \n",
    "import random\n",
    "random.seed(42)\n",
    "random.shuffle(words)\n",
    "n1 = int(0.8 * len(words))\n",
    "n2 = int(0.9 * len(words))\n",
    "\n",
    "Xtr, Ytr = build_dataset(words[:n1])       # 80%\n",
    "Xdev, Ydev = build_dataset(words[n1:n2])   # 10%\n",
    "Xte, Yte = build_dataset(words[n2:])   # 10%"
   ]
  },
  {
   "cell_type": "code",
   "execution_count": 215,
   "id": "2d115f9b-767c-4fe4-8d03-378f88ade79a",
   "metadata": {
    "tags": []
   },
   "outputs": [
    {
     "name": "stdout",
     "output_type": "stream",
     "text": [
      "........ --> j\n",
      ".......j --> a\n",
      "......ja --> y\n",
      ".....jay --> r\n",
      "....jayr --> i\n",
      "...jayri --> e\n",
      "..jayrie --> l\n",
      ".jayriel --> .\n",
      "........ --> j\n",
      ".......j --> a\n",
      "......ja --> x\n",
      ".....jax --> l\n",
      "....jaxl --> y\n",
      "...jaxly --> n\n",
      "..jaxlyn --> n\n",
      ".jaxlynn --> .\n",
      "........ --> o\n",
      ".......o --> a\n",
      "......oa --> k\n",
      ".....oak --> l\n"
     ]
    }
   ],
   "source": [
    "for x,y in zip(Xtr[:20],Ytr[:20]):\n",
    "    print(''.join(itos[ix.item()] for ix in x), '-->', itos[y.item()])"
   ]
  },
  {
   "cell_type": "code",
   "execution_count": 216,
   "id": "b7838183-bb22-46dc-bf1e-2ba55977faac",
   "metadata": {
    "tags": []
   },
   "outputs": [],
   "source": [
    "# Copy pasted from lecture4\n",
    "\n",
    "# -----------------------------------------------------------------------------------\n",
    "class Linear:\n",
    "    \n",
    "    def __init__(self, fan_in, fan_out, bias=True):\n",
    "        self.weight = torch.randn((fan_in, fan_out)) / fan_in**0.5\n",
    "        self.bias = torch.zeros(fan_out) if bias else None\n",
    "        \n",
    "    def __call__(self, x):\n",
    "        self.out = x @ self.weight\n",
    "        if self.bias is not None:\n",
    "            self.out += self.bias\n",
    "        return self.out\n",
    "    \n",
    "    def parameters(self):\n",
    "        return [self.weight] + ([] if self.bias is None else [self.bias])\n",
    "\n",
    "# -----------------------------------------------------------------------------------\n",
    "class BatchNorm1d:\n",
    "    \n",
    "    def __init__(self, dim, eps=1e-5, momentum=0.1):\n",
    "        self.eps = eps\n",
    "        self.momentum = momentum\n",
    "        self.training = True\n",
    "        # parameters (trained with backprop)\n",
    "        self.gamma = torch.ones(dim)\n",
    "        self.beta = torch.zeros(dim)\n",
    "        # buffers (trained with a running 'momentum update')\n",
    "        self.running_mean = torch.zeros(dim)\n",
    "        self.running_var = torch.ones(dim)\n",
    "        \n",
    "    def __call__(self, x):\n",
    "        # calculate the forward pass\n",
    "        if x.ndim == 2:\n",
    "            dim = 0\n",
    "        elif x.ndim == 3:\n",
    "            dim = (0,1)\n",
    "        if self.training:\n",
    "            xmean = x.mean(dim, keepdim=True) # batch mean\n",
    "            xvar = x.var(dim, keepdim=True) # batch variance\n",
    "        else:\n",
    "            xmean = self.running_mean\n",
    "            xvar = self.running_var\n",
    "        xhat = (x - xmean) / torch.sqrt(xvar + self.eps)\n",
    "        self.out = self.gamma * xhat + self.beta\n",
    "        # update the buffers\n",
    "        if self.training:\n",
    "            with torch.no_grad():\n",
    "                self.running_mean = (1 - self.momentum) * self.running_mean + self.momentum * xmean\n",
    "                self.running_var = (1 - self.momentum) * self.running_var + self.momentum * xvar\n",
    "        return self.out\n",
    "    \n",
    "    def parameters(self):\n",
    "        return [self.gamma, self.beta]\n",
    "\n",
    "# -----------------------------------------------------------------------------------\n",
    "class Tanh:\n",
    "    def __call__(self, x):\n",
    "        self.out = torch.tanh(x)\n",
    "        return self.out\n",
    "    def parameters(self):\n",
    "        return []\n",
    "\n",
    "# -----------------------------------------------------------------------------------\n",
    "class Embedding:\n",
    "    \n",
    "    def __init__(self, num_embeddings, embedding_dim):\n",
    "        self.weight = torch.randn((num_embeddings, embedding_dim))\n",
    "        \n",
    "    def __call__(self, IX):\n",
    "        self.out = self.weight[IX]\n",
    "        return self.out\n",
    "    \n",
    "    def parameters(self):\n",
    "        return [self.weight]\n",
    "\n",
    "# -----------------------------------------------------------------------------------\n",
    "class FlattenConsecutive:\n",
    "    \n",
    "    def __init__(self, n):\n",
    "        self.n = n\n",
    "    \n",
    "    def __call__(self, x):\n",
    "        B, T, C = x.shape\n",
    "        x = x.view(B, T//self.n, C*self.n)\n",
    "        if x.shape[1] == 1:\n",
    "            x = x.squeeze(1)\n",
    "        self.out = x\n",
    "        return self.out\n",
    "    \n",
    "    def parameters(self):\n",
    "        return []\n",
    "    \n",
    "# -----------------------------------------------------------------------------------\n",
    "class Sequential:\n",
    "    \n",
    "    def __init__(self, layers):\n",
    "        self.layers = layers\n",
    "        \n",
    "    def __call__(self, x):\n",
    "        for layer in self.layers:\n",
    "            x = layer(x)\n",
    "        self.out = x\n",
    "        return self.out\n",
    "    \n",
    "    def parameters(self):\n",
    "        # get parameters for all layers and strech them out into one list\n",
    "        return [p for layer in self.layers for p in layer.parameters()]"
   ]
  },
  {
   "cell_type": "code",
   "execution_count": 217,
   "id": "b79a72d5-9046-4a23-9bd3-f31cebda29ee",
   "metadata": {
    "tags": []
   },
   "outputs": [],
   "source": [
    "torch.manual_seed(42);"
   ]
  },
  {
   "cell_type": "code",
   "execution_count": 218,
   "id": "ac7ab2d8-5b75-4573-92b2-75930b194436",
   "metadata": {
    "tags": []
   },
   "outputs": [
    {
     "name": "stdout",
     "output_type": "stream",
     "text": [
      "83371\n"
     ]
    }
   ],
   "source": [
    "n_embd = 48 # dimensionality of the character embedding vectors\n",
    "n_hidden = 128 # the number of neurons in the hidden layer of the MLP\n",
    "\n",
    "model = Sequential([\n",
    "    Embedding(vocab_size, n_embd),\n",
    "    FlattenConsecutive(2), Linear(n_embd * 2, n_hidden, bias=False), BatchNorm1d(n_hidden), Tanh(),\n",
    "    FlattenConsecutive(2), Linear(n_hidden * 2, n_hidden, bias=False), BatchNorm1d(n_hidden), Tanh(),\n",
    "    FlattenConsecutive(2), Linear(n_hidden * 2, n_hidden, bias=False), BatchNorm1d(n_hidden), Tanh(),\n",
    "    Linear(n_hidden, vocab_size)\n",
    "])\n",
    "\n",
    "with torch.no_grad():\n",
    "    model.layers[-1].weight *= 0.1 # last layer: make less confident\n",
    "            \n",
    "parameters = model.parameters()\n",
    "print(sum(p.nelement() for p in parameters)) # number of parameters in total\n",
    "for p in parameters:\n",
    "    p.requires_grad = True"
   ]
  },
  {
   "cell_type": "code",
   "execution_count": 206,
   "id": "dcdab866-ecde-47d9-a9d2-032c925d3b3e",
   "metadata": {
    "jupyter": {
     "source_hidden": true
    },
    "tags": []
   },
   "outputs": [
    {
     "name": "stdout",
     "output_type": "stream",
     "text": [
      "torch.Size([4, 8])\n"
     ]
    },
    {
     "data": {
      "text/plain": [
       "tensor([[ 0,  0,  0,  0,  0,  1, 14, 14],\n",
       "        [ 5, 20,  8,  1, 14,  9,  5, 12],\n",
       "        [ 0,  0,  0,  1, 14, 14,  1, 12],\n",
       "        [ 0,  0,  0, 26, 21,  8,  1,  9]])"
      ]
     },
     "execution_count": 206,
     "metadata": {},
     "output_type": "execute_result"
    }
   ],
   "source": [
    "ix = torch.randint(0, Xtr.shape[0], (4,)) # let's look at a batch of just 4 examples\n",
    "Xb, Yb = Xtr[ix], Ytr[ix]\n",
    "logits = model(Xb)\n",
    "print(Xb.shape)\n",
    "Xb"
   ]
  },
  {
   "cell_type": "code",
   "execution_count": 207,
   "id": "12f77eeb-bc26-4fb9-8658-e5ea60f2633a",
   "metadata": {
    "jupyter": {
     "source_hidden": true
    },
    "tags": []
   },
   "outputs": [
    {
     "name": "stdout",
     "output_type": "stream",
     "text": [
      "Embedding : (4, 8, 30)\n",
      "FlattenConsecutive : (4, 4, 60)\n",
      "Linear : (4, 4, 100)\n",
      "BatchNorm1d : (4, 4, 100)\n",
      "Tanh : (4, 4, 100)\n",
      "FlattenConsecutive : (4, 2, 200)\n",
      "Linear : (4, 2, 100)\n",
      "BatchNorm1d : (4, 2, 100)\n",
      "Tanh : (4, 2, 100)\n",
      "FlattenConsecutive : (4, 200)\n",
      "Linear : (4, 100)\n",
      "BatchNorm1d : (4, 100)\n",
      "Tanh : (4, 100)\n",
      "Linear : (4, 27)\n"
     ]
    }
   ],
   "source": [
    "for layer in model.layers:\n",
    "    print(layer.__class__.__name__, ':', tuple(layer.out.shape))"
   ]
  },
  {
   "cell_type": "code",
   "execution_count": 208,
   "id": "4ad190fb-5d65-4b26-ae2f-686c980fe0c6",
   "metadata": {
    "jupyter": {
     "source_hidden": true
    },
    "tags": []
   },
   "outputs": [
    {
     "name": "stdout",
     "output_type": "stream",
     "text": [
      "torch.Size([1, 1, 68])\n"
     ]
    },
    {
     "data": {
      "text/plain": [
       "torch.Size([32, 4, 68])"
      ]
     },
     "execution_count": 208,
     "metadata": {},
     "output_type": "execute_result"
    }
   ],
   "source": [
    "e = torch.randn(32, 4, 68)\n",
    "emean = e.mean((0,1), keepdim=True) # 1, 1, 68\n",
    "print(emean.shape)\n",
    "evar = e.var((0,1), keepdim=True) # 1, 1, 68\n",
    "ehat = (e - emean) / torch.sqrt(evar + 1e-5) # 32, 4, 68\n",
    "ehat.shape"
   ]
  },
  {
   "cell_type": "code",
   "execution_count": 219,
   "id": "c12cdda8-d429-441b-b1be-6bba4a0087d5",
   "metadata": {
    "tags": []
   },
   "outputs": [
    {
     "name": "stdout",
     "output_type": "stream",
     "text": [
      "      0/ 200000: 3.3088\n",
      "  10000/ 200000: 2.3432\n",
      "  20000/ 200000: 2.0128\n",
      "  30000/ 200000: 2.1816\n",
      "  40000/ 200000: 2.4165\n",
      "  50000/ 200000: 2.2166\n",
      "  60000/ 200000: 1.5353\n",
      "  70000/ 200000: 2.1488\n",
      "  80000/ 200000: 1.9960\n",
      "  90000/ 200000: 1.8119\n",
      " 100000/ 200000: 2.1973\n",
      " 110000/ 200000: 1.5662\n",
      " 120000/ 200000: 1.3955\n",
      " 130000/ 200000: 1.1703\n",
      " 140000/ 200000: 2.1496\n",
      " 150000/ 200000: 1.7552\n",
      " 160000/ 200000: 1.8570\n",
      " 170000/ 200000: 1.5590\n",
      " 180000/ 200000: 1.9277\n",
      " 190000/ 200000: 2.1257\n"
     ]
    }
   ],
   "source": [
    "# same optimization as last time\n",
    "max_steps = 200000\n",
    "batch_size = 32\n",
    "lossi = []\n",
    "\n",
    "for i in range(max_steps):\n",
    "    \n",
    "    # minibatch construct\n",
    "    ix = torch.randint(0, Xtr.shape[0], (batch_size,))\n",
    "    Xb, Yb, = Xtr[ix], Ytr[ix] # # batch X, Y\n",
    "\n",
    "    # forward pass\n",
    "    logits = model(Xb)\n",
    "    loss = F.cross_entropy(logits, Yb) # loss function\n",
    "\n",
    "    # backward pass\n",
    "    for p in parameters:\n",
    "        p.grad = None\n",
    "    loss.backward()\n",
    "\n",
    "    # update: simple SGD\n",
    "    lr = 0.1 if i < 150000 else 0.01 \n",
    "    for p in parameters:\n",
    "        p.data += -lr * p.grad\n",
    "        \n",
    "    # track stats\n",
    "    if i % 10000 == 0:\n",
    "        print(f\"{i:7d}/{max_steps:7d}: {loss.item():.4f}\")\n",
    "    lossi.append(loss.log10().item())"
   ]
  },
  {
   "cell_type": "code",
   "execution_count": 220,
   "id": "fdb470f0-f4c6-4a58-b2c4-3c2c9a217368",
   "metadata": {
    "tags": []
   },
   "outputs": [
    {
     "data": {
      "image/png": "[encoded data removed]",
      "text/plain": [
       "<Figure size 640x480 with 1 Axes>"
      ]
     },
     "metadata": {},
     "output_type": "display_data"
    }
   ],
   "source": [
    "plt.plot(torch.tensor(lossi).view(-1,1000).mean(1));"
   ]
  },
  {
   "cell_type": "code",
   "execution_count": 221,
   "id": "1eecd691-e5c0-456b-a68f-95b4c6df4f67",
   "metadata": {
    "tags": []
   },
   "outputs": [
    {
     "name": "stdout",
     "output_type": "stream",
     "text": [
      "train 1.7649389505386353\n",
      "val 1.9827508926391602\n"
     ]
    }
   ],
   "source": [
    "for layer in model.layers:\n",
    "    layer.training = False\n",
    "\n",
    "@torch.no_grad() # this decorator disables gradient tracking\n",
    "def split_loss(split):\n",
    "    x, y = {\n",
    "        'train': (Xtr, Ytr),\n",
    "        'val': (Xdev, Ydev),\n",
    "        'test': (Xte, Yte)\n",
    "    }[split]\n",
    "    logits = model(x)\n",
    "    loss = F.cross_entropy(logits, y)\n",
    "    print(split, loss.item())\n",
    "    \n",
    "split_loss('train')\n",
    "split_loss('val')"
   ]
  },
  {
   "cell_type": "markdown",
   "id": "5dd77830-4132-4a77-b580-00b72c1079db",
   "metadata": {},
   "source": [
    "## performance log\n",
    "\n",
    "- original (3 char context, 200 hidden neurons, 12K params): train 2.05, val 2.105\n",
    "- context: 3 --> 8 (22K params): train 1.92, val 2.02\n",
    "- flat --> hierarhical, fixed batchnorm: 1.901 val 2.018\n",
    "- scaled up model 8 char context, 24 emb, 128 hidden neurons, (77k params): train 1.768 val 1.988\n",
    "- 16 char context, 24 emb, 48 hidden, 18k params: train 1.84 val 2.07\n",
    "- 8 char context, 48 emb, 128 hidden, 83k params: train 1.765 val 1.982"
   ]
  },
  {
   "cell_type": "code",
   "execution_count": 223,
   "id": "b153f625-c985-47c0-a69d-2993756f3420",
   "metadata": {
    "tags": []
   },
   "outputs": [
    {
     "name": "stdout",
     "output_type": "stream",
     "text": [
      "bronce.\n",
      "hanad.\n",
      "jackin.\n",
      "audoriah.\n",
      "danbel.\n",
      "muelo.\n",
      "yarold.\n",
      "reve.\n",
      "zoella.\n",
      "xiyenne.\n",
      "kamal.\n",
      "rophe.\n",
      "amarri.\n",
      "abdulmariarose.\n",
      "azael.\n",
      "russeda.\n",
      "birky.\n",
      "ally.\n",
      "wagor.\n",
      "mykia.\n"
     ]
    }
   ],
   "source": [
    "#sample from the model\n",
    "\n",
    "for _ in range(20):\n",
    "    \n",
    "    out = []\n",
    "    context = [0] * block_size # initialize with all ...\n",
    "    while True:\n",
    "        #forward pass the neural net\n",
    "        logits = model(torch.tensor([context]))\n",
    "        probs = F.softmax(logits, dim=1)\n",
    "        # sample from the distribution\n",
    "        ix = torch.multinomial(probs, num_samples=1).item()\n",
    "        #shift the context window and track the samples\n",
    "        context = context[1:] + [ix]\n",
    "        out.append(ix)\n",
    "        # break if we get .\n",
    "        if ix == 0:\n",
    "            break\n",
    "            \n",
    "    print(''.join(itos[i] for i in out)) # decode and print the generated word"
   ]
  },
  {
   "cell_type": "code",
   "execution_count": null,
   "id": "821b7860-f4ad-49d8-9e31-38f98b705739",
   "metadata": {},
   "outputs": [],
   "source": []
  }
 ],
 "metadata": {
  "kernelspec": {
   "display_name": "Python 3 (ipykernel)",
   "language": "python",
   "name": "python3"
  },
  "language_info": {
   "codemirror_mode": {
    "name": "ipython",
    "version": 3
   },
   "file_extension": ".py",
   "mimetype": "text/x-python",
   "name": "python",
   "nbconvert_exporter": "python",
   "pygments_lexer": "ipython3",
   "version": "3.9.16"
  }
 },
 "nbformat": 4,
 "nbformat_minor": 5
}
