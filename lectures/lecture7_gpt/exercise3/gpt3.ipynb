{
 "cells": [
  {
   "cell_type": "code",
   "execution_count": null,
   "metadata": {},
   "outputs": [],
   "source": [
    "# EX3: Find a dataset that is very large, so large that you can't see a gap between train and val loss. \n",
    "#      Pretrain the transformer on this data, then initialize with that model and finetune it on tiny \n",
    "#      shakespeare with a smaller number of steps and lower learning rate. Can you obtain a lower \n",
    "#      validation loss by the use of pretraining?"
   ]
  }
 ],
 "metadata": {
  "language_info": {
   "name": "python"
  },
  "orig_nbformat": 4
 },
 "nbformat": 4,
 "nbformat_minor": 2
}
