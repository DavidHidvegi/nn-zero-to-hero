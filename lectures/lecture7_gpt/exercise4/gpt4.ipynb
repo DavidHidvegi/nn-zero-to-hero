{
 "cells": [
  {
   "cell_type": "code",
   "execution_count": null,
   "metadata": {},
   "outputs": [],
   "source": [
    "# EX4: Read some transformer papers and implement one additional feature or change that people seem to use. \n",
    "#      Does it improve the performance of your GPT?"
   ]
  }
 ],
 "metadata": {
  "language_info": {
   "name": "python"
  },
  "orig_nbformat": 4
 },
 "nbformat": 4,
 "nbformat_minor": 2
}
