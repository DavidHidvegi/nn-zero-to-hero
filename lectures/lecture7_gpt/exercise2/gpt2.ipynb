{
 "cells": [
  {
   "cell_type": "code",
   "execution_count": 123,
   "metadata": {},
   "outputs": [],
   "source": [
    "# EX2: Train the GPT on your own dataset of choice! What other data could be fun to blabber on about?\n",
    "#      A fun advanced suggestion if you like: train a GPT to do addition of two numbers, i.e. a+b=c. \n",
    "#      You may find it helpful to predict the digits of c in reverse order, as the typical addition \n",
    "#       algorithm (that you're hoping it learns) would proceed right to left too. \n",
    "#      You may want to modify the data loader to simply serve random problems and skip the generation \n",
    "#       of train.bin, val.bin. \n",
    "#      You may want to mask out the loss at the input positions of a+b that just specify the problem \n",
    "#       using y=-1 in the targets (see CrossEntropyLoss ignore_index). \n",
    "#      Does your Transformer learn to add? \n",
    "#      Once you have this, swole doge project: build a calculator clone in GPT, for all of +-*/. \n",
    "#      Not an easy problem. You may need Chain of Thought traces."
   ]
  },
  {
   "cell_type": "code",
   "execution_count": 124,
   "metadata": {},
   "outputs": [],
   "source": [
    "import torch\n",
    "import torch.nn as nn\n",
    "from torch.nn import functional as F"
   ]
  },
  {
   "cell_type": "code",
   "execution_count": 125,
   "metadata": {},
   "outputs": [],
   "source": [
    "# hyperparameters\n",
    "batch_size = 64 # how many independent sequences will we process in parallel?\n",
    "block_size = 32 # what is the maximum context length for predictions?\n",
    "max_iters = 5001\n",
    "eval_interval = 500\n",
    "learning_rate = 1e-3\n",
    "device = torch.device(\"cuda\" if torch.cuda.is_available() else \"cpu\")\n",
    "eval_iters = 200\n",
    "n_embd = 32\n",
    "n_head = 4 \n",
    "n_layer = 4\n",
    "dropout = 0.1"
   ]
  },
  {
   "cell_type": "code",
   "execution_count": 126,
   "metadata": {},
   "outputs": [],
   "source": [
    "# prepare data\n",
    "\n",
    "text = \"\"\n",
    "\n",
    "for _ in range(10000):\n",
    "    op_id = torch.multinomial(torch.ones(4), num_samples=1).item()\n",
    "    operation = [\"+\", \"-\", \"*\", \"/\"][op_id]\n",
    "    operation_token = [\"add\", \"sub\", \"mul\", \"div\"][op_id]\n",
    "    num1 = torch.randint(0, 100, (1,)).item()\n",
    "    num2 = torch.randint(0, 100, (1,)).item()\n",
    "\n",
    "    text += f\"{num1} {operation} {num2} = \" # question\n",
    "    text += f\"<{operation_token}> {num1} {num2} <end> <Stop> \" # solution\n",
    "\n",
    "len(text)\n"
   ]
  },
  {
   "cell_type": "code",
   "execution_count": 128,
   "metadata": {},
   "outputs": [
    {
     "data": {
      "text/plain": [
       "111"
      ]
     },
     "execution_count": 128,
     "metadata": {},
     "output_type": "execute_result"
    }
   ],
   "source": [
    "chars = sorted(list(set(text.split())))\n",
    "vocab_size = len(chars)\n",
    "stoi = { ch:i for i,ch in enumerate(chars) }\n",
    "itos = { i:ch for i,ch in enumerate(chars) }\n",
    "encode = lambda s: [stoi[w] for w in s.split()]\n",
    "decode = lambda l: ' '.join([itos[i] for i in l])\n",
    "vocab_size"
   ]
  },
  {
   "cell_type": "code",
   "execution_count": 138,
   "metadata": {},
   "outputs": [
    {
     "data": {
      "text/plain": [
       "(81000, 9000)"
      ]
     },
     "execution_count": 138,
     "metadata": {},
     "output_type": "execute_result"
    }
   ],
   "source": [
    "# Train and test splits\n",
    "data = torch.tensor(encode(text), dtype=torch.long)\n",
    "n = int(0.9 * len(data)) # first 90% will be train, rest val\n",
    "train_data = data[:n]\n",
    "val_data = data[n:]\n",
    "len(train_data), len(val_data)"
   ]
  },
  {
   "cell_type": "code",
   "execution_count": 130,
   "metadata": {},
   "outputs": [],
   "source": [
    "def get_batch(split):\n",
    "    # generate a small batch of data inputs x and targets y\n",
    "    data = train_data if split == 'train' else val_data\n",
    "    ix = torch.randint(len(data) - block_size, (batch_size,))\n",
    "    x = torch.stack([data[i:i+block_size] for i in ix])\n",
    "    y = torch.stack([data[i+1:i+block_size+1] for i in ix])\n",
    "    x, y = x.to(device), y.to(device)\n",
    "    return x, y"
   ]
  },
  {
   "cell_type": "code",
   "execution_count": 131,
   "metadata": {},
   "outputs": [],
   "source": [
    "@torch.no_grad()\n",
    "def estimate_loss():\n",
    "    out = {}\n",
    "    model.eval()\n",
    "    for split in ['train', 'val']:\n",
    "        losses = torch.zeros(eval_iters)\n",
    "        for k in range(eval_iters):\n",
    "            X, Y = get_batch(split)\n",
    "            logits, loss = model(X, Y)\n",
    "            losses[k] = loss.item()\n",
    "        out[split] = losses.mean()\n",
    "    model.train()\n",
    "    return out"
   ]
  },
  {
   "cell_type": "code",
   "execution_count": 132,
   "metadata": {},
   "outputs": [],
   "source": [
    "class MultiHeadAttention(nn.Module):\n",
    "\n",
    "    def __init__(self, num_heads, head_size):\n",
    "        super().__init__()\n",
    "        self.Hn = num_heads\n",
    "        self.Hs = head_size\n",
    "        self.attn = nn.Linear(n_embd, 3 * n_embd, bias=False) # key, query and value as one batch\n",
    "        self.register_buffer('tril', torch.tril(torch.ones(block_size, block_size)))\n",
    "\n",
    "        self.proj = nn.Linear(n_embd, n_embd)\n",
    "        self.dropout = nn.Dropout(dropout)\n",
    "\n",
    "    def forward(self, x):\n",
    "        Hs = self.Hs\n",
    "        Hn = self.Hn\n",
    "        B, T, C = x.shape\n",
    "        q, k, v = self.attn(x.float()).split(n_embd, dim=-1)\n",
    "        q = q.view(B, T, Hn, Hs).transpose(1, 2) # (B, Hn, T, Hs)\n",
    "        k = k.view(B, T, Hn, Hs).transpose(1, 2) # (B, Hn, T, Hs)\n",
    "        v = v.view(B, T, Hn, Hs).transpose(1, 2) # (B, Hn, T, Hs)\n",
    "        # compute attention scores (\"affinities\")\n",
    "        wei = q @ k.transpose(-2, -1) * Hs**-0.5 # (B, Hn, T, Hs) @ (B, Hn, Hs, T) ---> (B, Hn, T, T)\n",
    "        wei = wei.masked_fill(self.tril[:T, :T] == 0, float('-inf'))\n",
    "        wei = F.softmax(wei, dim=-1) # (B, Hn, T, T)\n",
    "        wei = self.dropout(wei)\n",
    "        # perform the weighted aggregation of the values\n",
    "        out = wei @ v # (B, Hn, T, T) @ (B, Hn, T, Hs) ---> (B, Hn, T, Hs)\n",
    "\n",
    "        out = out.transpose(1, 2).contiguous().view(B, T, C) # (B, Hn, T, Hs) ---> (B, T, Hn * Hs)\n",
    "        out = self.proj(out) # from MHA\n",
    "        out = self.dropout(out) # from MHA\n",
    "        return out\n",
    "\n",
    "class FeedForward(nn.Module):\n",
    "    \"\"\"a simple linear layer followed by a non-linearity\"\"\"\n",
    "\n",
    "    def __init__(self, n_embd):\n",
    "        super().__init__()\n",
    "        self.net = nn.Sequential(\n",
    "            nn.Linear(n_embd, 4 * n_embd),\n",
    "            nn.ReLU(),\n",
    "            nn.Linear(4 * n_embd, n_embd),\n",
    "            nn.Dropout(dropout)\n",
    "        )\n",
    "\n",
    "    def forward(self, x):\n",
    "        return self.net(x)\n",
    "    \n",
    "class Block(nn.Module):\n",
    "\n",
    "    def __init__(self, n_embd, n_head):\n",
    "        # n_embd: embedding dimension, n_head: the number of heads we'd lile\n",
    "        super().__init__()\n",
    "        head_size = n_embd // n_head\n",
    "        self.sa = MultiHeadAttention(n_head, head_size)\n",
    "        self.ffwd = FeedForward(n_embd)\n",
    "        self.ln1 = nn.LayerNorm(n_embd)\n",
    "        self.ln2 = nn.LayerNorm(n_embd)\n",
    "\n",
    "\n",
    "    def forward(self, x):\n",
    "        x = x + self.sa(self.ln1(x))\n",
    "        x = x + self.ffwd(self.ln2(x))\n",
    "        return x\n",
    "\n",
    "\n",
    "# super simple bigram model\n",
    "class GPTModel(nn.Module):\n",
    "\n",
    "    def __init__(self):\n",
    "        super().__init__()\n",
    "        \n",
    "        self.token_embedding_table = nn.Embedding(vocab_size, n_embd)\n",
    "        self.position_embedding_table = nn.Embedding(block_size, n_embd)\n",
    "        self.blocks = nn.Sequential(*[Block(n_embd=n_embd, n_head=n_head) for _ in range(n_layer)])\n",
    "        self.ln_f = nn.LayerNorm(n_embd) # final layer norm\n",
    "        self.lm_head = nn.Linear(n_embd, vocab_size)\n",
    "\n",
    "    def forward(self, idx, targets=None):\n",
    "        B, T = idx.shape\n",
    "\n",
    "        # idx and targets are both (B, T) tensors of integers\n",
    "        tok_emb = self.token_embedding_table(idx) # (B, T, C)\n",
    "        pos_emb = self.position_embedding_table(torch.arange(T, device=device)) # (T, C)\n",
    "        x = tok_emb + pos_emb # (B, T, C)\n",
    "        x = self.blocks(x)\n",
    "        x = self.ln_f(x)\n",
    "        logits = self.lm_head(x) # (B, T, vocab_size)\n",
    "\n",
    "        if targets is None:\n",
    "            loss = None\n",
    "        else:\n",
    "            B, T, C = logits.shape\n",
    "            logits = logits.view(B*T, C)\n",
    "            targets = targets.view(B*T)\n",
    "            loss = F.cross_entropy(logits, targets)\n",
    "\n",
    "        return logits, loss\n",
    "\n",
    "    def generate(self, idx, max_new_tokens=500):\n",
    "        # idx is (B, T) array of indices in the current context\n",
    "        for _ in range(max_new_tokens):\n",
    "            # crop idx to the last block_size tokens\n",
    "            idx_cond = idx[:, -block_size:]\n",
    "            # get the predictions\n",
    "            logits, loss = self.forward(idx_cond)\n",
    "            # focus only on the last time step\n",
    "            logits = logits[:, -1, :] # becomes (B, C)\n",
    "            # apply softmax to get probabilities\n",
    "            probs = F.softmax(logits, dim=-1) # (B, C)\n",
    "            # sample from the distribution\n",
    "            idx_next = torch.multinomial(probs, num_samples=1) # (B, 1)\n",
    "            # append sampled index to the running sequence\n",
    "            idx = torch.cat((idx, idx_next), dim=1) # (B, T+1)\n",
    "            if idx_next == stoi['<Stop>']:\n",
    "                return idx\n",
    "        return idx"
   ]
  },
  {
   "cell_type": "code",
   "execution_count": 133,
   "metadata": {},
   "outputs": [
    {
     "name": "stdout",
     "output_type": "stream",
     "text": [
      "Parameter count: 0.058735 M parameters\n"
     ]
    }
   ],
   "source": [
    "model = GPTModel()\n",
    "m = model.to(device)\n",
    "\n",
    "print(f\"Parameter count: {sum(p.numel() for p in m.parameters())/1e6} M parameters\")\n",
    "\n",
    "# create a Pytorch optimizer\n",
    "optimizer = torch.optim.AdamW(model.parameters(), lr=learning_rate)"
   ]
  },
  {
   "cell_type": "code",
   "execution_count": 134,
   "metadata": {},
   "outputs": [
    {
     "name": "stdout",
     "output_type": "stream",
     "text": [
      "step 0: train loss 4.8771, val loss 4.8798\n",
      "step 500: train loss 2.2373, val loss 2.2397\n",
      "step 1000: train loss 2.2247, val loss 2.2311\n",
      "step 1500: train loss 1.4230, val loss 1.4280\n",
      "step 2000: train loss 1.3283, val loss 1.3292\n",
      "step 2500: train loss 1.3208, val loss 1.3256\n",
      "step 3000: train loss 1.3198, val loss 1.3240\n",
      "step 3500: train loss 1.3187, val loss 1.3207\n",
      "step 4000: train loss 1.3183, val loss 1.3215\n",
      "step 4500: train loss 1.3171, val loss 1.3221\n",
      "step 5000: train loss 1.3167, val loss 1.3231\n"
     ]
    }
   ],
   "source": [
    "for iter in range(max_iters):\n",
    "\n",
    "    # every once in a while evaluate the loss on train and val sets\n",
    "    if iter % eval_interval == 0:\n",
    "        losses = estimate_loss()\n",
    "        print(f\"step {iter}: train loss {losses['train']:.4f}, val loss {losses['val']:.4f}\")\n",
    "\n",
    "    # sample a batch of data\n",
    "    xb, yb = get_batch('train')\n",
    "\n",
    "    # evaluate the loss\n",
    "    logits, loss = model(xb, yb)\n",
    "    optimizer.zero_grad(set_to_none=True)\n",
    "    loss.backward()\n",
    "    optimizer.step()"
   ]
  },
  {
   "cell_type": "code",
   "execution_count": 135,
   "metadata": {},
   "outputs": [],
   "source": [
    "def query(q):\n",
    "    def resolve(answer):\n",
    "\n",
    "        end_token = '<end>'\n",
    "        for op_token in ['<add>', '<sub>', '<mul>', '<div>']:\n",
    "            if op_token in answer:\n",
    "                operation = op_token\n",
    "                break\n",
    "        resolvable_substring = answer[answer.find(op_token):answer.find(end_token)+len(end_token)]\n",
    "\n",
    "        numbers = answer[answer.find(op_token)+len(op_token):answer.find(end_token)].split()\n",
    "        \n",
    "        result = None\n",
    "        if operation == '<add>': result = sum(int(n) for n in numbers)\n",
    "        elif operation == '<sub>': result = int(numbers[0]) - sum(int(n) for n in numbers[1:])\n",
    "        elif operation == '<mul>': result = torch.prod(torch.tensor([int(n) for n in numbers])).item()\n",
    "        elif operation == '<div>': result = int(numbers[0]) / torch.prod(torch.tensor([int(n) for n in numbers[1:]])).item()\n",
    "\n",
    "        answer = answer.replace(resolvable_substring, str(result))\n",
    "        return answer.replace('<Stop>', '')\n",
    "\n",
    "    context = torch.tensor(encode(q))\n",
    "    prediction = decode(m.generate(context.view(1, -1))[0].tolist())\n",
    "    print(resolve(prediction))"
   ]
  },
  {
   "cell_type": "code",
   "execution_count": 136,
   "metadata": {},
   "outputs": [
    {
     "name": "stdout",
     "output_type": "stream",
     "text": [
      "10 + 20 = 30 \n",
      "30 - 40 = -10 \n",
      "50 * 60 = 3000 \n",
      "70 / 80 = 0.875 \n"
     ]
    }
   ],
   "source": [
    "query(\"10 + 20 = \")\n",
    "query(\"30 - 40 = \")\n",
    "query(\"50 * 60 = \")\n",
    "query(\"70 / 80 = \")"
   ]
  },
  {
   "cell_type": "code",
   "execution_count": null,
   "metadata": {},
   "outputs": [],
   "source": [
    "# I knew it's a bit hacky, but it works and needs less training :)"
   ]
  }
 ],
 "metadata": {
  "kernelspec": {
   "display_name": "venv",
   "language": "python",
   "name": "python3"
  },
  "language_info": {
   "codemirror_mode": {
    "name": "ipython",
    "version": 3
   },
   "file_extension": ".py",
   "mimetype": "text/x-python",
   "name": "python",
   "nbconvert_exporter": "python",
   "pygments_lexer": "ipython3",
   "version": "3.9.16"
  },
  "orig_nbformat": 4
 },
 "nbformat": 4,
 "nbformat_minor": 2
}
