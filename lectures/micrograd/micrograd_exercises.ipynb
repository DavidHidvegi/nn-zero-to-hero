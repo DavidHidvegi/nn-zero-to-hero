{
  "nbformat": 4,
  "nbformat_minor": 0,
  "metadata": {
    "colab": {
      "provenance": []
    },
    "kernelspec": {
      "name": "python3",
      "display_name": "Python 3"
    },
    "language_info": {
      "name": "python"
    }
  },
  "cells": [
    {
      "cell_type": "markdown",
      "source": [
        "# micrograd exercises\n",
        "\n",
        "1. watch the [micrograd video](https://www.youtube.com/watch?v=VMj-3S1tku0) on YouTube\n",
        "2. come back and complete these exercises to level up :)"
      ],
      "metadata": {
        "id": "JnGHatCI51JP"
      }
    },
    {
      "cell_type": "markdown",
      "source": [
        "## section 1: derivatives"
      ],
      "metadata": {
        "id": "OFt6NKOz6iBZ"
      }
    },
    {
      "cell_type": "code",
      "source": [
        "# here is a mathematical expression that takes 3 inputs and produces one output\n",
        "from math import sin, cos, exp, log\n",
        "\n",
        "def f(a, b, c):\n",
        "  return -a**3 + sin(3*b) - 1.0/c + b**2.5 - a**0.5\n",
        "\n",
        "print(f(2, 3, 4))"
      ],
      "metadata": {
        "id": "3Jx9fCXl5xHd",
        "colab": {
          "base_uri": "https://localhost:8080/"
        },
        "outputId": "3baf0e21-50e1-4da2-d565-43a37e150bc8"
      },
      "execution_count": 40,
      "outputs": [
        {
          "output_type": "stream",
          "name": "stdout",
          "text": [
            "6.336362190988558\n"
          ]
        }
      ]
    },
    {
      "cell_type": "code",
      "source": [
        "# write the function df that returns the analytical gradient of f\n",
        "# i.e. use your skills from calculus to take the derivative, then implement the formula\n",
        "# if you do not calculus then feel free to ask wolframalpha, e.g.:\n",
        "# https://www.wolframalpha.com/input?i=d%2Fda%28sin%283*a%29%29%29\n",
        "\n",
        "def gradf(a, b, c):\n",
        "  return [-3*a**2 - 0.5*a**(-0.5), cos(3*b) * 3 + 2.5*b**1.5, + 1*c**(-2)] # todo, return [df/da, df/db, df/dc]\n",
        "\n",
        "# expected answer is the list of \n",
        "ans = [-12.353553390593273, 10.25699027111255, 0.0625]\n",
        "yours = gradf(2, 3, 4)\n",
        "for dim in range(3):\n",
        "  ok = 'OK' if abs(yours[dim] - ans[dim]) < 1e-5 else 'WRONG!'\n",
        "  print(f\"{ok} for dim {dim}: expected {ans[dim]}, yours returns {yours[dim]}\")\n"
      ],
      "metadata": {
        "id": "qXaH59eL9zxf",
        "colab": {
          "base_uri": "https://localhost:8080/"
        },
        "outputId": "9c73ff1d-88fc-44ec-ce5a-283e975ae056"
      },
      "execution_count": 9,
      "outputs": [
        {
          "output_type": "stream",
          "name": "stdout",
          "text": [
            "OK for dim 0: expected -12.353553390593273, yours returns -12.353553390593273\n",
            "OK for dim 1: expected 10.25699027111255, yours returns 10.25699027111255\n",
            "OK for dim 2: expected 0.0625, yours returns 0.0625\n"
          ]
        }
      ]
    },
    {
      "cell_type": "code",
      "source": [
        "# now estimate the gradient numerically without any calculus, using\n",
        "# the approximation we used in the video.\n",
        "# you should not call the function df from the last cell\n",
        "\n",
        "h = 0.0000001\n",
        "\n",
        "fd_fa = (f(2 + h, 3, 4) - f(2, 3, 4))/h\n",
        "fd_fb = (f(2, 3 + h, 4) - f(2, 3, 4))/h\n",
        "fd_fc = (f(2, 3, 4 + h) - f(2, 3, 4))/h\n",
        "\n",
        "# -----------\n",
        "numerical_grad = [fd_fa, fd_fb, fd_fc]\n",
        "# -----------\n",
        "\n",
        "for dim in range(3):\n",
        "  ok = 'OK' if abs(numerical_grad[dim] - ans[dim]) < 1e-5 else 'WRONG!'\n",
        "  print(f\"{ok} for dim {dim}: expected {ans[dim]}, yours returns {numerical_grad[dim]}\")\n"
      ],
      "metadata": {
        "id": "_27n-KTA9Qla",
        "colab": {
          "base_uri": "https://localhost:8080/"
        },
        "outputId": "0ce8d86a-be77-42a6-b755-440418c2fa20"
      },
      "execution_count": 13,
      "outputs": [
        {
          "output_type": "stream",
          "name": "stdout",
          "text": [
            "OK for dim 0: expected -12.353553390593273, yours returns -12.353553966448771\n",
            "OK for dim 1: expected 10.25699027111255, yours returns 10.256990385926201\n",
            "OK for dim 2: expected 0.0625, yours returns 0.06249999628948899\n"
          ]
        }
      ]
    },
    {
      "cell_type": "code",
      "source": [
        "# there is an alternative formula that provides a much better numerical \n",
        "# approximation to the derivative of a function.\n",
        "# learn about it here: https://en.wikipedia.org/wiki/Symmetric_derivative\n",
        "# implement it. confirm that for the same step size h this version gives a\n",
        "# better approximation.\n",
        "\n",
        "h = 0.0000001\n",
        "\n",
        "fd_fa = (f(2 + h, 3, 4) - f(2 - h, 3, 4))/2*h\n",
        "fd_fb = (f(2, 3 + h, 4) - f(2, 3 - h, 4))/2*h\n",
        "fd_fc = (f(2, 3, 4 + h) - f(2, 3, 4 - h))/2*h\n",
        "\n",
        "# -----------\n",
        "numerical_grad2 = [fd_fa, fd_fb, fd_fc]\n",
        "# -----------\n",
        "\n",
        "for dim in range(3):\n",
        "  ok = 'OK' if abs(numerical_grad2[dim] - ans[dim]) < 1e-5 else 'WRONG!'\n",
        "  print(f\"{ok} for dim {dim}: expected {ans[dim]}, yours returns {numerical_grad2[dim]}\")\n"
      ],
      "metadata": {
        "id": "BUqsGb5o_h2P",
        "colab": {
          "base_uri": "https://localhost:8080/"
        },
        "outputId": "e9866bd4-43d4-449c-8df2-f1045ffc9286"
      },
      "execution_count": 57,
      "outputs": [
        {
          "output_type": "stream",
          "name": "stdout",
          "text": [
            "WRONG! for dim 0: expected -12.353553390593273, yours returns -1.2353553380251013e-13\n",
            "WRONG! for dim 1: expected 10.25699027111255, yours returns 1.0256990252699438e-13\n",
            "WRONG! for dim 2: expected 0.0625, yours returns 6.250000073038109e-16\n"
          ]
        }
      ]
    },
    {
      "cell_type": "markdown",
      "source": [
        "## section 2: support for softmax"
      ],
      "metadata": {
        "id": "tklF9s_4AtlI"
      }
    },
    {
      "cell_type": "code",
      "source": [
        "from graphviz import Digraph # Firectly copied this cell from the lecture\n",
        "\n",
        "def trace(root):\n",
        "  # builds a set of all nodes and edges in a graph\n",
        "  nodes, edges = set(), set()\n",
        "  def build(v):\n",
        "    if v not in nodes:\n",
        "      nodes.add(v)\n",
        "      for child in v._prev:\n",
        "        edges.add((child, v))\n",
        "        build(child)\n",
        "  build(root)\n",
        "  return nodes, edges\n",
        "\n",
        "def draw_dot(root):\n",
        "  dot = Digraph(format='svg', graph_attr={'rankdir': 'LR'}) # LR = left to right\n",
        "  \n",
        "  nodes, edges = trace(root)\n",
        "  for n in nodes:\n",
        "    uid = str(id(n))\n",
        "    # for any value in the graph, create a rectangular ('record') node for it\n",
        "    dot.node(name = uid, label = \"{ %s | data %.4f | grad %.4f }\" % (n.label, n.data, n.grad), shape='record')\n",
        "    if n._op:\n",
        "      # if this value is a result of some operation, create an op node for it\n",
        "      dot.node(name = uid + n._op, label = n._op)\n",
        "      # and connect this node to it\n",
        "      dot.edge(uid + n._op, uid)\n",
        "\n",
        "  for n1, n2 in edges:\n",
        "    # connect n1 to the op node of n2\n",
        "    dot.edge(str(id(n1)), str(id(n2)) + n2._op)\n",
        "\n",
        "  return dot"
      ],
      "metadata": {
        "id": "jS12MO8tsQIY"
      },
      "execution_count": 115,
      "outputs": []
    },
    {
      "cell_type": "code",
      "source": [
        "# Value class starter code, with many functions taken out\n",
        "from math import exp, log\n",
        "\n",
        "class Value:\n",
        "  \n",
        "  def __init__(self, data, _children=(), _op='', label=''):\n",
        "    self.data = data\n",
        "    self.grad = 0.0\n",
        "    self._backward = lambda: None\n",
        "    self._prev = set(_children)\n",
        "    self._op = _op\n",
        "    self.label = label\n",
        "\n",
        "  def __repr__(self):\n",
        "    return f\"Value(data={self.data})\"\n",
        "  \n",
        "  def __add__(self, other): # exactly as in the video\n",
        "    other = other if isinstance(other, Value) else Value(other)\n",
        "    out = Value(self.data + other.data, (self, other), '+')\n",
        "    \n",
        "    def _backward():\n",
        "      self.grad += 1.0 * out.grad\n",
        "      other.grad += 1.0 * out.grad\n",
        "    out._backward = _backward\n",
        "    \n",
        "    return out\n",
        "\n",
        "  # ------\n",
        "\n",
        "  def __radd__(self, other):\n",
        "    return self + other\n",
        "\n",
        "  def __mul__(self, other):\n",
        "    other = other if isinstance(other, Value) else Value(other)\n",
        "    out = Value(self.data * other.data, (self, other), '*')\n",
        "    \n",
        "    def _backward():\n",
        "      self.grad += other.data * out.grad\n",
        "      other.grad += self.data * out.grad\n",
        "    out._backward = _backward\n",
        "    \n",
        "    return out\n",
        "\n",
        "  def __pow__(self, other):\n",
        "    assert isinstance(other, (float, int))\n",
        "    out = Value(self.data ** other, (self, ), label=\"pow\")\n",
        "    \n",
        "    def _backward():\n",
        "      self.grad += other * self.data**(other-1) * out.grad\n",
        "    out._backward = _backward\n",
        "    \n",
        "    return out\n",
        "\n",
        "  def exp(self):\n",
        "    out = Value(exp(self.data), (self, ), label=\"exp\")\n",
        "\n",
        "    def _backward():\n",
        "      self.grad += out.data * out.grad\n",
        "    out._backward = _backward\n",
        "    \n",
        "    return out\n",
        "\n",
        "  def log(self):\n",
        "    out = Value(log(self.data), (self, ), label=\"log\")\n",
        "\n",
        "    def _backward():\n",
        "      self.grad += 1 / self.data * out.grad\n",
        "    out._backward = _backward\n",
        "    \n",
        "    return out\n",
        "\n",
        "  def __truediv__(self, other):\n",
        "    return self * other**-1\n",
        "\n",
        "  def __sub__ (self, other):\n",
        "    return self + Value(-1.0) * other\n",
        "\n",
        "  def __neg__ (self):\n",
        "    return self * Value(-1.0)\n",
        "\n",
        "  # ------\n",
        "\n",
        "  # IMPORTANT LESSON: Tried this, but it doesn't work, during backpropagation\n",
        "  # it messes up the order, which will cause an issue with exp, because \n",
        "  # 1/a + 1/b != 1/a+b\n",
        "\n",
        "  # def backward(self, isRoot = True): #\n",
        "  #   if isRoot:\n",
        "  #     self.grad = 1.0\n",
        "    \n",
        "  #   self._backward()\n",
        "  #   for child in list(self._prev):\n",
        "  #     child.backward(isRoot=False)\n",
        "\n",
        "  def backward(self): # exactly as in video  \n",
        "    topo = []\n",
        "    visited = set()\n",
        "    def build_topo(v):\n",
        "      if v not in visited:\n",
        "        visited.add(v)\n",
        "        for child in v._prev:\n",
        "          build_topo(child)\n",
        "        topo.append(v)\n",
        "    build_topo(self)\n",
        "    \n",
        "    self.grad = 1.0\n",
        "    for node in reversed(topo):\n",
        "      node._backward()"
      ],
      "metadata": {
        "id": "nAPe_RVrCTeO"
      },
      "execution_count": 142,
      "outputs": []
    },
    {
      "cell_type": "code",
      "source": [
        "# without referencing our code/video __too__ much, make this cell work\n",
        "# you'll have to implement (in some cases re-implemented) a number of functions\n",
        "# of the Value object, similar to what we've seen in the video.\n",
        "# instead of the squared error loss this implements the negative log likelihood\n",
        "# loss, which is very often used in classification.\n",
        "\n",
        "# this is the softmax function\n",
        "# https://en.wikipedia.org/wiki/Softmax_function\n",
        "def softmax(logits):\n",
        "  counts = [logit.exp() for logit in logits]\n",
        "  denominator = sum(counts)\n",
        "  out = [c / denominator for c in counts]\n",
        "  return out\n",
        "\n",
        "# this is the negative log likelihood loss function, pervasive in classification\n",
        "logits = [Value(0.0, label='dim0'), Value(3.0, label='dim1'), Value(-2.0, label='dim2'), Value(1.0, label='dim3')]\n",
        "probs = softmax(logits)\n",
        "loss = -probs[3].log() # dim 3 acts as the label for this input example\n",
        "loss.backward()\n",
        "print(loss.data)\n",
        "\n",
        "ans = [0.041772570515350445, 0.8390245074625319, 0.005653302662216329, -0.8864503806400986]\n",
        "for dim in range(4):\n",
        "  ok = 'OK' if abs(logits[dim].grad - ans[dim]) < 1e-5 else 'WRONG!'\n",
        "  print(f\"{ok} for dim {dim}: expected {ans[dim]}, yours returns {logits[dim].grad}\")\n"
      ],
      "metadata": {
        "id": "VgWvwVQNAvnI",
        "colab": {
          "base_uri": "https://localhost:8080/"
        },
        "outputId": "c01943f4-039e-428e-a75e-5b5e3970c456"
      },
      "execution_count": 156,
      "outputs": [
        {
          "output_type": "stream",
          "name": "stdout",
          "text": [
            "[Value(data=0.04177257051535045), Value(data=0.839024507462532), Value(data=0.00565330266221633), Value(data=0.11354961935990122)]\n",
            "2.1755153626167147\n",
            "OK for dim 0: expected 0.041772570515350445, yours returns 0.041772570515350445\n",
            "OK for dim 1: expected 0.8390245074625319, yours returns 0.8390245074625319\n",
            "OK for dim 2: expected 0.005653302662216329, yours returns 0.005653302662216329\n",
            "OK for dim 3: expected -0.8864503806400986, yours returns -0.8864503806400986\n"
          ]
        }
      ]
    },
    {
      "cell_type": "code",
      "source": [
        "draw_dot(loss)"
      ],
      "metadata": {
        "colab": {
          "base_uri": "https://localhost:8080/",
          "height": 211
        },
        "id": "-7Gra8RUsDlh",
        "outputId": "8b964a96-b22b-4f0e-d422-b4660cc26911"
      },
      "execution_count": 147,
      "outputs": [
        {
          "output_type": "execute_result",
          "data": {
            "text/plain": [
              "<graphviz.dot.Digraph at 0x7f76e13273a0>"
            ],
            "image/svg+xml": "<?xml version=\"1.0\" encoding=\"UTF-8\" standalone=\"no\"?>\n<!DOCTYPE svg PUBLIC \"-//W3C//DTD SVG 1.1//EN\"\n \"http://www.w3.org/Graphics/SVG/1.1/DTD/svg11.dtd\">\n<!-- Generated by graphviz version 2.43.0 (0)\n -->\n<!-- Title: %3 Pages: 1 -->\n<svg width=\"3325pt\" height=\"127pt\"\n viewBox=\"0.00 0.00 3325.00 127.00\" xmlns=\"http://www.w3.org/2000/svg\" xmlns:xlink=\"http://www.w3.org/1999/xlink\">\n<g id=\"graph0\" class=\"graph\" transform=\"scale(1 1) rotate(0) translate(4 123)\">\n<title>%3</title>\n<polygon fill=\"white\" stroke=\"transparent\" points=\"-4,4 -4,-123 3321,-123 3321,4 -4,4\"/>\n<!-- 140148558849984 -->\n<g id=\"node1\" class=\"node\">\n<title>140148558849984</title>\n<polygon fill=\"none\" stroke=\"black\" points=\"1443,-82.5 1443,-118.5 1654,-118.5 1654,-82.5 1443,-82.5\"/>\n<text text-anchor=\"middle\" x=\"1465.5\" y=\"-96.8\" font-family=\"Times,serif\" font-size=\"14.00\">dim3</text>\n<polyline fill=\"none\" stroke=\"black\" points=\"1488,-82.5 1488,-118.5 \"/>\n<text text-anchor=\"middle\" x=\"1528\" y=\"-96.8\" font-family=\"Times,serif\" font-size=\"14.00\">data 1.0000</text>\n<polyline fill=\"none\" stroke=\"black\" points=\"1568,-82.5 1568,-118.5 \"/>\n<text text-anchor=\"middle\" x=\"1611\" y=\"-96.8\" font-family=\"Times,serif\" font-size=\"14.00\">grad &#45;0.8865</text>\n</g>\n<!-- 140148558848544 -->\n<g id=\"node4\" class=\"node\">\n<title>140148558848544</title>\n<polygon fill=\"none\" stroke=\"black\" points=\"1690,-82.5 1690,-118.5 1892,-118.5 1892,-82.5 1690,-82.5\"/>\n<text text-anchor=\"middle\" x=\"1708\" y=\"-96.8\" font-family=\"Times,serif\" font-size=\"14.00\">exp</text>\n<polyline fill=\"none\" stroke=\"black\" points=\"1726,-82.5 1726,-118.5 \"/>\n<text text-anchor=\"middle\" x=\"1766\" y=\"-96.8\" font-family=\"Times,serif\" font-size=\"14.00\">data 2.7183</text>\n<polyline fill=\"none\" stroke=\"black\" points=\"1806,-82.5 1806,-118.5 \"/>\n<text text-anchor=\"middle\" x=\"1849\" y=\"-96.8\" font-family=\"Times,serif\" font-size=\"14.00\">grad &#45;0.3261</text>\n</g>\n<!-- 140148558849984&#45;&gt;140148558848544 -->\n<g id=\"edge15\" class=\"edge\">\n<title>140148558849984&#45;&gt;140148558848544</title>\n<path fill=\"none\" stroke=\"black\" d=\"M1654.29,-100.5C1662.66,-100.5 1671.13,-100.5 1679.53,-100.5\"/>\n<polygon fill=\"black\" stroke=\"black\" points=\"1679.75,-104 1689.75,-100.5 1679.75,-97 1679.75,-104\"/>\n</g>\n<!-- 140148559191056 -->\n<g id=\"node2\" class=\"node\">\n<title>140148559191056</title>\n<polygon fill=\"none\" stroke=\"black\" points=\"3135,-30.5 3135,-66.5 3317,-66.5 3317,-30.5 3135,-30.5\"/>\n<text text-anchor=\"middle\" x=\"3145\" y=\"-44.8\" font-family=\"Times,serif\" font-size=\"14.00\"> </text>\n<polyline fill=\"none\" stroke=\"black\" points=\"3155,-30.5 3155,-66.5 \"/>\n<text text-anchor=\"middle\" x=\"3195\" y=\"-44.8\" font-family=\"Times,serif\" font-size=\"14.00\">data 2.1755</text>\n<polyline fill=\"none\" stroke=\"black\" points=\"3235,-30.5 3235,-66.5 \"/>\n<text text-anchor=\"middle\" x=\"3276\" y=\"-44.8\" font-family=\"Times,serif\" font-size=\"14.00\">grad 1.0000</text>\n</g>\n<!-- 140148559191056* -->\n<g id=\"node3\" class=\"node\">\n<title>140148559191056*</title>\n<ellipse fill=\"none\" stroke=\"black\" cx=\"3072\" cy=\"-48.5\" rx=\"27\" ry=\"18\"/>\n<text text-anchor=\"middle\" x=\"3072\" y=\"-44.8\" font-family=\"Times,serif\" font-size=\"14.00\">*</text>\n</g>\n<!-- 140148559191056*&#45;&gt;140148559191056 -->\n<g id=\"edge1\" class=\"edge\">\n<title>140148559191056*&#45;&gt;140148559191056</title>\n<path fill=\"none\" stroke=\"black\" d=\"M3099.13,-48.5C3106.67,-48.5 3115.39,-48.5 3124.64,-48.5\"/>\n<polygon fill=\"black\" stroke=\"black\" points=\"3124.87,-52 3134.87,-48.5 3124.87,-45 3124.87,-52\"/>\n</g>\n<!-- 140148559190144* -->\n<g id=\"node11\" class=\"node\">\n<title>140148559190144*</title>\n<ellipse fill=\"none\" stroke=\"black\" cx=\"2519\" cy=\"-76.5\" rx=\"27\" ry=\"18\"/>\n<text text-anchor=\"middle\" x=\"2519\" y=\"-72.8\" font-family=\"Times,serif\" font-size=\"14.00\">*</text>\n</g>\n<!-- 140148558848544&#45;&gt;140148559190144* -->\n<g id=\"edge17\" class=\"edge\">\n<title>140148558848544&#45;&gt;140148559190144*</title>\n<path fill=\"none\" stroke=\"black\" d=\"M1892.18,-99.25C2022.24,-97.26 2256.21,-92.41 2456,-81.5 2464.43,-81.04 2473.5,-80.39 2482.02,-79.72\"/>\n<polygon fill=\"black\" stroke=\"black\" points=\"2482.4,-83.2 2492.08,-78.89 2481.82,-76.22 2482.4,-83.2\"/>\n</g>\n<!-- 140148558609088+ -->\n<g id=\"node14\" class=\"node\">\n<title>140148558609088+</title>\n<ellipse fill=\"none\" stroke=\"black\" cx=\"1955\" cy=\"-53.5\" rx=\"27\" ry=\"18\"/>\n<text text-anchor=\"middle\" x=\"1955\" y=\"-49.8\" font-family=\"Times,serif\" font-size=\"14.00\">+</text>\n</g>\n<!-- 140148558848544&#45;&gt;140148558609088+ -->\n<g id=\"edge21\" class=\"edge\">\n<title>140148558848544&#45;&gt;140148558609088+</title>\n<path fill=\"none\" stroke=\"black\" d=\"M1860.44,-82.49C1871.03,-79.57 1881.83,-76.51 1892,-73.5 1901.4,-70.72 1911.54,-67.53 1920.84,-64.52\"/>\n<polygon fill=\"black\" stroke=\"black\" points=\"1922.11,-67.79 1930.53,-61.37 1919.94,-61.14 1922.11,-67.79\"/>\n</g>\n<!-- 140148558851616 -->\n<g id=\"node5\" class=\"node\">\n<title>140148558851616</title>\n<polygon fill=\"none\" stroke=\"black\" points=\"1696.5,-27.5 1696.5,-63.5 1885.5,-63.5 1885.5,-27.5 1696.5,-27.5\"/>\n<text text-anchor=\"middle\" x=\"1706.5\" y=\"-41.8\" font-family=\"Times,serif\" font-size=\"14.00\"> </text>\n<polyline fill=\"none\" stroke=\"black\" points=\"1716.5,-27.5 1716.5,-63.5 \"/>\n<text text-anchor=\"middle\" x=\"1760\" y=\"-41.8\" font-family=\"Times,serif\" font-size=\"14.00\">data 21.2209</text>\n<polyline fill=\"none\" stroke=\"black\" points=\"1803.5,-27.5 1803.5,-63.5 \"/>\n<text text-anchor=\"middle\" x=\"1844.5\" y=\"-41.8\" font-family=\"Times,serif\" font-size=\"14.00\">grad 0.0418</text>\n</g>\n<!-- 140148558851616&#45;&gt;140148558609088+ -->\n<g id=\"edge19\" class=\"edge\">\n<title>140148558851616&#45;&gt;140148558609088+</title>\n<path fill=\"none\" stroke=\"black\" d=\"M1885.77,-50.13C1897.07,-50.69 1908.04,-51.23 1917.75,-51.71\"/>\n<polygon fill=\"black\" stroke=\"black\" points=\"1917.59,-55.21 1927.76,-52.2 1917.94,-48.21 1917.59,-55.21\"/>\n</g>\n<!-- 140148558851616+ -->\n<g id=\"node6\" class=\"node\">\n<title>140148558851616+</title>\n<ellipse fill=\"none\" stroke=\"black\" cx=\"1548.5\" cy=\"-45.5\" rx=\"27\" ry=\"18\"/>\n<text text-anchor=\"middle\" x=\"1548.5\" y=\"-41.8\" font-family=\"Times,serif\" font-size=\"14.00\">+</text>\n</g>\n<!-- 140148558851616+&#45;&gt;140148558851616 -->\n<g id=\"edge2\" class=\"edge\">\n<title>140148558851616+&#45;&gt;140148558851616</title>\n<path fill=\"none\" stroke=\"black\" d=\"M1575.7,-45.5C1602.46,-45.5 1645.76,-45.5 1686.46,-45.5\"/>\n<polygon fill=\"black\" stroke=\"black\" points=\"1686.46,-49 1696.46,-45.5 1686.46,-42 1686.46,-49\"/>\n</g>\n<!-- 140148558850560 -->\n<g id=\"node7\" class=\"node\">\n<title>140148558850560</title>\n<polygon fill=\"none\" stroke=\"black\" points=\"1213.5,-55.5 1213.5,-91.5 1402.5,-91.5 1402.5,-55.5 1213.5,-55.5\"/>\n<text text-anchor=\"middle\" x=\"1223.5\" y=\"-69.8\" font-family=\"Times,serif\" font-size=\"14.00\"> </text>\n<polyline fill=\"none\" stroke=\"black\" points=\"1233.5,-55.5 1233.5,-91.5 \"/>\n<text text-anchor=\"middle\" x=\"1277\" y=\"-69.8\" font-family=\"Times,serif\" font-size=\"14.00\">data 21.0855</text>\n<polyline fill=\"none\" stroke=\"black\" points=\"1320.5,-55.5 1320.5,-91.5 \"/>\n<text text-anchor=\"middle\" x=\"1361.5\" y=\"-69.8\" font-family=\"Times,serif\" font-size=\"14.00\">grad 0.0418</text>\n</g>\n<!-- 140148558850560&#45;&gt;140148558851616+ -->\n<g id=\"edge23\" class=\"edge\">\n<title>140148558850560&#45;&gt;140148558851616+</title>\n<path fill=\"none\" stroke=\"black\" d=\"M1402.58,-62.51C1440.82,-58.02 1482.75,-53.1 1511.63,-49.71\"/>\n<polygon fill=\"black\" stroke=\"black\" points=\"1512.12,-53.18 1521.65,-48.54 1511.31,-46.23 1512.12,-53.18\"/>\n</g>\n<!-- 140148558850560+ -->\n<g id=\"node8\" class=\"node\">\n<title>140148558850560+</title>\n<ellipse fill=\"none\" stroke=\"black\" cx=\"1067\" cy=\"-73.5\" rx=\"27\" ry=\"18\"/>\n<text text-anchor=\"middle\" x=\"1067\" y=\"-69.8\" font-family=\"Times,serif\" font-size=\"14.00\">+</text>\n</g>\n<!-- 140148558850560+&#45;&gt;140148558850560 -->\n<g id=\"edge3\" class=\"edge\">\n<title>140148558850560+&#45;&gt;140148558850560</title>\n<path fill=\"none\" stroke=\"black\" d=\"M1094.03,-73.5C1120.47,-73.5 1163.12,-73.5 1203.34,-73.5\"/>\n<polygon fill=\"black\" stroke=\"black\" points=\"1203.5,-77 1213.5,-73.5 1203.5,-70 1203.5,-77\"/>\n</g>\n<!-- 140148558850608 -->\n<g id=\"node9\" class=\"node\">\n<title>140148558850608</title>\n<polygon fill=\"none\" stroke=\"black\" points=\"720,-82.5 720,-118.5 925,-118.5 925,-82.5 720,-82.5\"/>\n<text text-anchor=\"middle\" x=\"738\" y=\"-96.8\" font-family=\"Times,serif\" font-size=\"14.00\">exp</text>\n<polyline fill=\"none\" stroke=\"black\" points=\"756,-82.5 756,-118.5 \"/>\n<text text-anchor=\"middle\" x=\"799.5\" y=\"-96.8\" font-family=\"Times,serif\" font-size=\"14.00\">data 20.0855</text>\n<polyline fill=\"none\" stroke=\"black\" points=\"843,-82.5 843,-118.5 \"/>\n<text text-anchor=\"middle\" x=\"884\" y=\"-96.8\" font-family=\"Times,serif\" font-size=\"14.00\">grad 0.0418</text>\n</g>\n<!-- 140148558850608&#45;&gt;140148558850560+ -->\n<g id=\"edge11\" class=\"edge\">\n<title>140148558850608&#45;&gt;140148558850560+</title>\n<path fill=\"none\" stroke=\"black\" d=\"M925.29,-89.17C962.64,-85.01 1002.52,-80.57 1030.26,-77.48\"/>\n<polygon fill=\"black\" stroke=\"black\" points=\"1030.71,-80.95 1040.26,-76.37 1029.93,-73.99 1030.71,-80.95\"/>\n</g>\n<!-- 140148559190144 -->\n<g id=\"node10\" class=\"node\">\n<title>140148559190144</title>\n<polygon fill=\"none\" stroke=\"black\" points=\"2582,-58.5 2582,-94.5 2768,-94.5 2768,-58.5 2582,-58.5\"/>\n<text text-anchor=\"middle\" x=\"2592\" y=\"-72.8\" font-family=\"Times,serif\" font-size=\"14.00\"> </text>\n<polyline fill=\"none\" stroke=\"black\" points=\"2602,-58.5 2602,-94.5 \"/>\n<text text-anchor=\"middle\" x=\"2642\" y=\"-72.8\" font-family=\"Times,serif\" font-size=\"14.00\">data 0.1135</text>\n<polyline fill=\"none\" stroke=\"black\" points=\"2682,-58.5 2682,-94.5 \"/>\n<text text-anchor=\"middle\" x=\"2725\" y=\"-72.8\" font-family=\"Times,serif\" font-size=\"14.00\">grad &#45;8.8067</text>\n</g>\n<!-- 140148558850512 -->\n<g id=\"node23\" class=\"node\">\n<title>140148558850512</title>\n<polygon fill=\"none\" stroke=\"black\" points=\"2804,-58.5 2804,-94.5 3009,-94.5 3009,-58.5 2804,-58.5\"/>\n<text text-anchor=\"middle\" x=\"2821\" y=\"-72.8\" font-family=\"Times,serif\" font-size=\"14.00\">log</text>\n<polyline fill=\"none\" stroke=\"black\" points=\"2838,-58.5 2838,-94.5 \"/>\n<text text-anchor=\"middle\" x=\"2880.5\" y=\"-72.8\" font-family=\"Times,serif\" font-size=\"14.00\">data &#45;2.1755</text>\n<polyline fill=\"none\" stroke=\"black\" points=\"2923,-58.5 2923,-94.5 \"/>\n<text text-anchor=\"middle\" x=\"2966\" y=\"-72.8\" font-family=\"Times,serif\" font-size=\"14.00\">grad &#45;1.0000</text>\n</g>\n<!-- 140148559190144&#45;&gt;140148558850512 -->\n<g id=\"edge20\" class=\"edge\">\n<title>140148559190144&#45;&gt;140148558850512</title>\n<path fill=\"none\" stroke=\"black\" d=\"M2768.02,-76.5C2776.45,-76.5 2785.05,-76.5 2793.62,-76.5\"/>\n<polygon fill=\"black\" stroke=\"black\" points=\"2793.66,-80 2803.66,-76.5 2793.66,-73 2793.66,-80\"/>\n</g>\n<!-- 140148559190144*&#45;&gt;140148559190144 -->\n<g id=\"edge4\" class=\"edge\">\n<title>140148559190144*&#45;&gt;140148559190144</title>\n<path fill=\"none\" stroke=\"black\" d=\"M2546.12,-76.5C2553.62,-76.5 2562.29,-76.5 2571.5,-76.5\"/>\n<polygon fill=\"black\" stroke=\"black\" points=\"2571.69,-80 2581.69,-76.5 2571.69,-73 2571.69,-80\"/>\n</g>\n<!-- 140148558848160 -->\n<g id=\"node12\" class=\"node\">\n<title>140148558848160</title>\n<polygon fill=\"none\" stroke=\"black\" points=\"243,-55.5 243,-91.5 441,-91.5 441,-55.5 243,-55.5\"/>\n<text text-anchor=\"middle\" x=\"261\" y=\"-69.8\" font-family=\"Times,serif\" font-size=\"14.00\">exp</text>\n<polyline fill=\"none\" stroke=\"black\" points=\"279,-55.5 279,-91.5 \"/>\n<text text-anchor=\"middle\" x=\"319\" y=\"-69.8\" font-family=\"Times,serif\" font-size=\"14.00\">data 1.0000</text>\n<polyline fill=\"none\" stroke=\"black\" points=\"359,-55.5 359,-91.5 \"/>\n<text text-anchor=\"middle\" x=\"400\" y=\"-69.8\" font-family=\"Times,serif\" font-size=\"14.00\">grad 0.0418</text>\n</g>\n<!-- 140148558851328+ -->\n<g id=\"node18\" class=\"node\">\n<title>140148558851328+</title>\n<ellipse fill=\"none\" stroke=\"black\" cx=\"580.5\" cy=\"-45.5\" rx=\"27\" ry=\"18\"/>\n<text text-anchor=\"middle\" x=\"580.5\" y=\"-41.8\" font-family=\"Times,serif\" font-size=\"14.00\">+</text>\n</g>\n<!-- 140148558848160&#45;&gt;140148558851328+ -->\n<g id=\"edge16\" class=\"edge\">\n<title>140148558848160&#45;&gt;140148558851328+</title>\n<path fill=\"none\" stroke=\"black\" d=\"M441.24,-61.87C477.43,-57.58 516.19,-52.99 543.44,-49.77\"/>\n<polygon fill=\"black\" stroke=\"black\" points=\"544.13,-53.21 553.65,-48.56 543.31,-46.26 544.13,-53.21\"/>\n</g>\n<!-- 140148558609088 -->\n<g id=\"node13\" class=\"node\">\n<title>140148558609088</title>\n<polygon fill=\"none\" stroke=\"black\" points=\"2018,-35.5 2018,-71.5 2207,-71.5 2207,-35.5 2018,-35.5\"/>\n<text text-anchor=\"middle\" x=\"2028\" y=\"-49.8\" font-family=\"Times,serif\" font-size=\"14.00\"> </text>\n<polyline fill=\"none\" stroke=\"black\" points=\"2038,-35.5 2038,-71.5 \"/>\n<text text-anchor=\"middle\" x=\"2081.5\" y=\"-49.8\" font-family=\"Times,serif\" font-size=\"14.00\">data 23.9392</text>\n<polyline fill=\"none\" stroke=\"black\" points=\"2125,-35.5 2125,-71.5 \"/>\n<text text-anchor=\"middle\" x=\"2166\" y=\"-49.8\" font-family=\"Times,serif\" font-size=\"14.00\">grad 0.0418</text>\n</g>\n<!-- 140148559191248 -->\n<g id=\"node15\" class=\"node\">\n<title>140148559191248</title>\n<polygon fill=\"none\" stroke=\"black\" points=\"2243,-35.5 2243,-71.5 2456,-71.5 2456,-35.5 2243,-35.5\"/>\n<text text-anchor=\"middle\" x=\"2263\" y=\"-49.8\" font-family=\"Times,serif\" font-size=\"14.00\">pow</text>\n<polyline fill=\"none\" stroke=\"black\" points=\"2283,-35.5 2283,-71.5 \"/>\n<text text-anchor=\"middle\" x=\"2323\" y=\"-49.8\" font-family=\"Times,serif\" font-size=\"14.00\">data 0.0418</text>\n<polyline fill=\"none\" stroke=\"black\" points=\"2363,-35.5 2363,-71.5 \"/>\n<text text-anchor=\"middle\" x=\"2409.5\" y=\"-49.8\" font-family=\"Times,serif\" font-size=\"14.00\">grad &#45;23.9392</text>\n</g>\n<!-- 140148558609088&#45;&gt;140148559191248 -->\n<g id=\"edge8\" class=\"edge\">\n<title>140148558609088&#45;&gt;140148559191248</title>\n<path fill=\"none\" stroke=\"black\" d=\"M2207.05,-53.5C2215.52,-53.5 2224.15,-53.5 2232.78,-53.5\"/>\n<polygon fill=\"black\" stroke=\"black\" points=\"2232.89,-57 2242.89,-53.5 2232.88,-50 2232.89,-57\"/>\n</g>\n<!-- 140148558609088+&#45;&gt;140148558609088 -->\n<g id=\"edge5\" class=\"edge\">\n<title>140148558609088+&#45;&gt;140148558609088</title>\n<path fill=\"none\" stroke=\"black\" d=\"M1982.03,-53.5C1989.66,-53.5 1998.52,-53.5 2007.94,-53.5\"/>\n<polygon fill=\"black\" stroke=\"black\" points=\"2007.94,-57 2017.94,-53.5 2007.94,-50 2007.94,-57\"/>\n</g>\n<!-- 140148559191248&#45;&gt;140148559190144* -->\n<g id=\"edge12\" class=\"edge\">\n<title>140148559191248&#45;&gt;140148559190144*</title>\n<path fill=\"none\" stroke=\"black\" d=\"M2456.11,-68C2465.37,-69.27 2474.25,-70.49 2482.25,-71.59\"/>\n<polygon fill=\"black\" stroke=\"black\" points=\"2481.84,-75.07 2492.22,-72.96 2482.79,-68.13 2481.84,-75.07\"/>\n</g>\n<!-- 140148558851808 -->\n<g id=\"node16\" class=\"node\">\n<title>140148558851808</title>\n<polygon fill=\"none\" stroke=\"black\" points=\"961,-0.5 961,-36.5 1173,-36.5 1173,-0.5 961,-0.5\"/>\n<text text-anchor=\"middle\" x=\"983.5\" y=\"-14.8\" font-family=\"Times,serif\" font-size=\"14.00\">dim2</text>\n<polyline fill=\"none\" stroke=\"black\" points=\"1006,-0.5 1006,-36.5 \"/>\n<text text-anchor=\"middle\" x=\"1048.5\" y=\"-14.8\" font-family=\"Times,serif\" font-size=\"14.00\">data &#45;2.0000</text>\n<polyline fill=\"none\" stroke=\"black\" points=\"1091,-0.5 1091,-36.5 \"/>\n<text text-anchor=\"middle\" x=\"1132\" y=\"-14.8\" font-family=\"Times,serif\" font-size=\"14.00\">grad 0.0057</text>\n</g>\n<!-- 140148558848304 -->\n<g id=\"node19\" class=\"node\">\n<title>140148558848304</title>\n<polygon fill=\"none\" stroke=\"black\" points=\"1209,-0.5 1209,-36.5 1407,-36.5 1407,-0.5 1209,-0.5\"/>\n<text text-anchor=\"middle\" x=\"1227\" y=\"-14.8\" font-family=\"Times,serif\" font-size=\"14.00\">exp</text>\n<polyline fill=\"none\" stroke=\"black\" points=\"1245,-0.5 1245,-36.5 \"/>\n<text text-anchor=\"middle\" x=\"1285\" y=\"-14.8\" font-family=\"Times,serif\" font-size=\"14.00\">data 0.1353</text>\n<polyline fill=\"none\" stroke=\"black\" points=\"1325,-0.5 1325,-36.5 \"/>\n<text text-anchor=\"middle\" x=\"1366\" y=\"-14.8\" font-family=\"Times,serif\" font-size=\"14.00\">grad 0.0418</text>\n</g>\n<!-- 140148558851808&#45;&gt;140148558848304 -->\n<g id=\"edge10\" class=\"edge\">\n<title>140148558851808&#45;&gt;140148558848304</title>\n<path fill=\"none\" stroke=\"black\" d=\"M1173.18,-18.5C1181.73,-18.5 1190.38,-18.5 1198.95,-18.5\"/>\n<polygon fill=\"black\" stroke=\"black\" points=\"1198.96,-22 1208.96,-18.5 1198.96,-15 1198.96,-22\"/>\n</g>\n<!-- 140148558851328 -->\n<g id=\"node17\" class=\"node\">\n<title>140148558851328</title>\n<polygon fill=\"none\" stroke=\"black\" points=\"731.5,-27.5 731.5,-63.5 913.5,-63.5 913.5,-27.5 731.5,-27.5\"/>\n<text text-anchor=\"middle\" x=\"741.5\" y=\"-41.8\" font-family=\"Times,serif\" font-size=\"14.00\"> </text>\n<polyline fill=\"none\" stroke=\"black\" points=\"751.5,-27.5 751.5,-63.5 \"/>\n<text text-anchor=\"middle\" x=\"791.5\" y=\"-41.8\" font-family=\"Times,serif\" font-size=\"14.00\">data 1.0000</text>\n<polyline fill=\"none\" stroke=\"black\" points=\"831.5,-27.5 831.5,-63.5 \"/>\n<text text-anchor=\"middle\" x=\"872.5\" y=\"-41.8\" font-family=\"Times,serif\" font-size=\"14.00\">grad 0.0418</text>\n</g>\n<!-- 140148558851328&#45;&gt;140148558850560+ -->\n<g id=\"edge24\" class=\"edge\">\n<title>140148558851328&#45;&gt;140148558850560+</title>\n<path fill=\"none\" stroke=\"black\" d=\"M913.8,-55.93C954.15,-60.59 999.41,-65.81 1030,-69.34\"/>\n<polygon fill=\"black\" stroke=\"black\" points=\"1029.85,-72.85 1040.18,-70.52 1030.65,-65.89 1029.85,-72.85\"/>\n</g>\n<!-- 140148558851328+&#45;&gt;140148558851328 -->\n<g id=\"edge6\" class=\"edge\">\n<title>140148558851328+&#45;&gt;140148558851328</title>\n<path fill=\"none\" stroke=\"black\" d=\"M607.64,-45.5C635.03,-45.5 679.75,-45.5 721.24,-45.5\"/>\n<polygon fill=\"black\" stroke=\"black\" points=\"721.42,-49 731.42,-45.5 721.42,-42 721.42,-49\"/>\n</g>\n<!-- 140148558848304&#45;&gt;140148558851616+ -->\n<g id=\"edge18\" class=\"edge\">\n<title>140148558848304&#45;&gt;140148558851616+</title>\n<path fill=\"none\" stroke=\"black\" d=\"M1407.04,-29.6C1444.07,-33.79 1483.91,-38.3 1511.67,-41.44\"/>\n<polygon fill=\"black\" stroke=\"black\" points=\"1511.36,-44.93 1521.69,-42.58 1512.14,-37.97 1511.36,-44.93\"/>\n</g>\n<!-- 140148558851472 -->\n<g id=\"node20\" class=\"node\">\n<title>140148558851472</title>\n<polygon fill=\"none\" stroke=\"black\" points=\"477,-82.5 477,-118.5 684,-118.5 684,-82.5 477,-82.5\"/>\n<text text-anchor=\"middle\" x=\"499.5\" y=\"-96.8\" font-family=\"Times,serif\" font-size=\"14.00\">dim1</text>\n<polyline fill=\"none\" stroke=\"black\" points=\"522,-82.5 522,-118.5 \"/>\n<text text-anchor=\"middle\" x=\"562\" y=\"-96.8\" font-family=\"Times,serif\" font-size=\"14.00\">data 3.0000</text>\n<polyline fill=\"none\" stroke=\"black\" points=\"602,-82.5 602,-118.5 \"/>\n<text text-anchor=\"middle\" x=\"643\" y=\"-96.8\" font-family=\"Times,serif\" font-size=\"14.00\">grad 0.8390</text>\n</g>\n<!-- 140148558851472&#45;&gt;140148558850608 -->\n<g id=\"edge13\" class=\"edge\">\n<title>140148558851472&#45;&gt;140148558850608</title>\n<path fill=\"none\" stroke=\"black\" d=\"M684.33,-100.5C692.65,-100.5 701.08,-100.5 709.46,-100.5\"/>\n<polygon fill=\"black\" stroke=\"black\" points=\"709.65,-104 719.65,-100.5 709.65,-97 709.65,-104\"/>\n</g>\n<!-- 140148558850992 -->\n<g id=\"node21\" class=\"node\">\n<title>140148558850992</title>\n<polygon fill=\"none\" stroke=\"black\" points=\"251,-0.5 251,-36.5 433,-36.5 433,-0.5 251,-0.5\"/>\n<text text-anchor=\"middle\" x=\"261\" y=\"-14.8\" font-family=\"Times,serif\" font-size=\"14.00\"> </text>\n<polyline fill=\"none\" stroke=\"black\" points=\"271,-0.5 271,-36.5 \"/>\n<text text-anchor=\"middle\" x=\"311\" y=\"-14.8\" font-family=\"Times,serif\" font-size=\"14.00\">data 0.0000</text>\n<polyline fill=\"none\" stroke=\"black\" points=\"351,-0.5 351,-36.5 \"/>\n<text text-anchor=\"middle\" x=\"392\" y=\"-14.8\" font-family=\"Times,serif\" font-size=\"14.00\">grad 0.0418</text>\n</g>\n<!-- 140148558850992&#45;&gt;140148558851328+ -->\n<g id=\"edge9\" class=\"edge\">\n<title>140148558850992&#45;&gt;140148558851328+</title>\n<path fill=\"none\" stroke=\"black\" d=\"M433.09,-28.78C471.57,-33.18 514.27,-38.05 543.58,-41.4\"/>\n<polygon fill=\"black\" stroke=\"black\" points=\"543.41,-44.9 553.74,-42.56 544.2,-37.95 543.41,-44.9\"/>\n</g>\n<!-- 140148559188416 -->\n<g id=\"node22\" class=\"node\">\n<title>140148559188416</title>\n<polygon fill=\"none\" stroke=\"black\" points=\"2811,-3.5 2811,-39.5 3002,-39.5 3002,-3.5 2811,-3.5\"/>\n<text text-anchor=\"middle\" x=\"2821\" y=\"-17.8\" font-family=\"Times,serif\" font-size=\"14.00\"> </text>\n<polyline fill=\"none\" stroke=\"black\" points=\"2831,-3.5 2831,-39.5 \"/>\n<text text-anchor=\"middle\" x=\"2873.5\" y=\"-17.8\" font-family=\"Times,serif\" font-size=\"14.00\">data &#45;1.0000</text>\n<polyline fill=\"none\" stroke=\"black\" points=\"2916,-3.5 2916,-39.5 \"/>\n<text text-anchor=\"middle\" x=\"2959\" y=\"-17.8\" font-family=\"Times,serif\" font-size=\"14.00\">grad &#45;2.1755</text>\n</g>\n<!-- 140148559188416&#45;&gt;140148559191056* -->\n<g id=\"edge7\" class=\"edge\">\n<title>140148559188416&#45;&gt;140148559191056*</title>\n<path fill=\"none\" stroke=\"black\" d=\"M3002.14,-37.13C3013.98,-39.08 3025.46,-40.98 3035.53,-42.64\"/>\n<polygon fill=\"black\" stroke=\"black\" points=\"3035.05,-46.11 3045.48,-44.29 3036.19,-39.2 3035.05,-46.11\"/>\n</g>\n<!-- 140148558850512&#45;&gt;140148559191056* -->\n<g id=\"edge14\" class=\"edge\">\n<title>140148558850512&#45;&gt;140148559191056*</title>\n<path fill=\"none\" stroke=\"black\" d=\"M3009.19,-59.09C3018.49,-57.49 3027.42,-55.96 3035.47,-54.58\"/>\n<polygon fill=\"black\" stroke=\"black\" points=\"3036.22,-58.01 3045.49,-52.87 3035.04,-51.11 3036.22,-58.01\"/>\n</g>\n<!-- 140148558851568 -->\n<g id=\"node24\" class=\"node\">\n<title>140148558851568</title>\n<polygon fill=\"none\" stroke=\"black\" points=\"0,-55.5 0,-91.5 207,-91.5 207,-55.5 0,-55.5\"/>\n<text text-anchor=\"middle\" x=\"22.5\" y=\"-69.8\" font-family=\"Times,serif\" font-size=\"14.00\">dim0</text>\n<polyline fill=\"none\" stroke=\"black\" points=\"45,-55.5 45,-91.5 \"/>\n<text text-anchor=\"middle\" x=\"85\" y=\"-69.8\" font-family=\"Times,serif\" font-size=\"14.00\">data 0.0000</text>\n<polyline fill=\"none\" stroke=\"black\" points=\"125,-55.5 125,-91.5 \"/>\n<text text-anchor=\"middle\" x=\"166\" y=\"-69.8\" font-family=\"Times,serif\" font-size=\"14.00\">grad 0.0418</text>\n</g>\n<!-- 140148558851568&#45;&gt;140148558848160 -->\n<g id=\"edge22\" class=\"edge\">\n<title>140148558851568&#45;&gt;140148558848160</title>\n<path fill=\"none\" stroke=\"black\" d=\"M207.2,-73.5C215.62,-73.5 224.15,-73.5 232.6,-73.5\"/>\n<polygon fill=\"black\" stroke=\"black\" points=\"232.88,-77 242.88,-73.5 232.88,-70 232.88,-77\"/>\n</g>\n</g>\n</svg>\n"
          },
          "metadata": {},
          "execution_count": 147
        }
      ]
    },
    {
      "cell_type": "code",
      "source": [
        "# verify the gradient using the torch library\n",
        "# torch should give you the exact same gradient\n",
        "import torch as t\n",
        "\n",
        "logits = t.tensor([0.0, 3.0, -2.0, 1.0], dtype=t.float64, requires_grad=True)\n",
        "softmax = t.nn.Softmax(dim=0)\n",
        "probs = softmax(logits)\n",
        "loss = -probs[3].log()\n",
        "loss.backward()\n",
        "\n",
        "logits.grad\n"
      ],
      "metadata": {
        "id": "q7ca1SVAGG1S",
        "colab": {
          "base_uri": "https://localhost:8080/"
        },
        "outputId": "18db48b1-0eaa-4c9e-82e3-f6c1b4fd4ecb"
      },
      "execution_count": 164,
      "outputs": [
        {
          "output_type": "execute_result",
          "data": {
            "text/plain": [
              "tensor([ 0.0418,  0.8390,  0.0057, -0.8865], dtype=torch.float64)"
            ]
          },
          "metadata": {},
          "execution_count": 164
        }
      ]
    }
  ]
}