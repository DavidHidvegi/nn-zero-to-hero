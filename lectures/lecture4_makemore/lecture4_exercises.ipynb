{
 "cells": [
  {
   "cell_type": "code",
   "execution_count": null,
   "id": "20f74d22-7eba-4f6e-9835-612bbf0ca015",
   "metadata": {},
   "outputs": [],
   "source": [
    "# ------------------------------ Exercise 1 ------------------------------\n",
    "# I did not get around to seeing what happens when you initialize all \n",
    "# weights and biases to zero. Try this and train the neural net. \n",
    "# You might think either that \n",
    "#     1) the network trains just fine or \n",
    "#     2) the network doesn't train at all, but actually it is \n",
    "#     3) the network trains but only partially, and achieves a pretty bad \n",
    "#        final performance. \n",
    "# Inspect the gradients and activations to figure out what is happening \n",
    "# and why the network is only partially training, and what part is being \n",
    "# trained exactly."
   ]
  },
  {
   "cell_type": "code",
   "execution_count": 4,
   "id": "e02a4457-a6fe-4a02-82db-25b278162f4c",
   "metadata": {
    "tags": []
   },
   "outputs": [],
   "source": [
    "import torch\n",
    "import torch.nn.functional as F\n",
    "import matplotlib.pyplot as plt\n",
    "%matplotlib inline"
   ]
  },
  {
   "cell_type": "code",
   "execution_count": 5,
   "id": "fa9e1203-41b5-4e2f-8ad8-49a3b8f5dd34",
   "metadata": {
    "tags": []
   },
   "outputs": [],
   "source": [
    "words = open('names.txt', 'r').read().splitlines()"
   ]
  },
  {
   "cell_type": "code",
   "execution_count": 6,
   "id": "50dabe25-16eb-492e-9a01-8e265d091ef0",
   "metadata": {
    "tags": []
   },
   "outputs": [],
   "source": [
    "chars = sorted(list(set(''.join(words))))\n",
    "stoi = {s:i+1 for i,s in enumerate(chars)}\n",
    "stoi['.'] = 0\n",
    "itos = {i:s for s, i in stoi.items()}\n",
    "vocab_size = len(itos)"
   ]
  },
  {
   "cell_type": "code",
   "execution_count": 7,
   "id": "06d91efd-cd25-4cf7-bc82-f2b9d528bc20",
   "metadata": {
    "tags": []
   },
   "outputs": [
    {
     "name": "stdout",
     "output_type": "stream",
     "text": [
      "torch.Size([182625, 3]) torch.Size([182625])\n",
      "torch.Size([22655, 3]) torch.Size([22655])\n",
      "torch.Size([22866, 3]) torch.Size([22866])\n"
     ]
    }
   ],
   "source": [
    "# build the dataset\n",
    "\n",
    "block_size = 3 # context length: how many characters do we take to predict the next one?\n",
    "\n",
    "def build_dataset(words):\n",
    "    X, Y = [], []\n",
    "    for w in words:\n",
    "        # print(w)\n",
    "\n",
    "        context = [0] * block_size\n",
    "        for ch in w + '.':\n",
    "            ix = stoi[ch]\n",
    "            X.append(context)\n",
    "            Y.append(ix)\n",
    "            context = context[1:] + [ix] # crop and append\n",
    "\n",
    "    X = torch.tensor(X)\n",
    "    Y = torch.tensor(Y)\n",
    "    print(X.shape, Y.shape)\n",
    "    return X, Y\n",
    "    \n",
    "import random\n",
    "random.seed(42)\n",
    "random.shuffle(words)\n",
    "n1 = int(0.8 * len(words))\n",
    "n2 = int(0.9 * len(words))\n",
    "\n",
    "Xtr, Ytr = build_dataset(words[:n1])       # 80%\n",
    "Xdev, Ydev = build_dataset(words[n1:n2])   # 10%\n",
    "Xte, Yte = build_dataset(words[n2:])   # 10%"
   ]
  },
  {
   "cell_type": "code",
   "execution_count": 9,
   "id": "df958bb7-b116-4ba4-b3a4-fa7bf69ce12f",
   "metadata": {
    "tags": []
   },
   "outputs": [],
   "source": [
    "# Let's train a deeper network\n",
    "\n",
    "class Linear:\n",
    "    \n",
    "    def __init__(self, fan_in, fan_out, bias=True):\n",
    "        self.weight = torch.randn((fan_in, fan_out), generator=g) / fan_in**0.5\n",
    "        self.bias = torch.zeros(fan_out) if bias else None\n",
    "        \n",
    "    def __call__(self, x):\n",
    "        self.out = x @ self.weight\n",
    "        if self.bias is not None:\n",
    "            self.out += self.bias\n",
    "        return self.out\n",
    "    \n",
    "    def parameters(self):\n",
    "        return [self.weight] + ([] if self.bias is None else [self.bias])\n",
    "    \n",
    "class BatchNorm1d:\n",
    "    \n",
    "    def __init__(self, dim, eps=1e-5, momentum=0.1):\n",
    "        self.eps = eps\n",
    "        self.momentum = momentum\n",
    "        self.training = True\n",
    "        # parameters (trained with backprop)\n",
    "        self.gamma = torch.ones(dim)\n",
    "        self.beta = torch.zeros(dim)\n",
    "        # buffers (trained with a running 'momentum update')\n",
    "        self.running_mean = torch.zeros(dim)\n",
    "        self.running_var = torch.ones(dim)\n",
    "        \n",
    "    def __call__(self, x):\n",
    "        # calculate the forward pass\n",
    "        if self.training:\n",
    "            xmean = x.mean(0, keepdim=True) # batch mean\n",
    "            xvar = x.var(0, keepdim=True) # batch variance\n",
    "        else:\n",
    "            xmean = self.running_mean\n",
    "            xvar = self.running_var\n",
    "        xhat = (x - xmean) / torch.sqrt(xvar + self.eps)\n",
    "        self.out = self.gamma * xhat + self.beta\n",
    "        # update the buffers\n",
    "        if self.training:\n",
    "            with torch.no_grad():\n",
    "                self.running_mean = (1 - self.momentum) * self.running_mean + self.momentum * xmean\n",
    "                self.running_var = (1 - self.momentum) * self.running_var + self.momentum * xvar\n",
    "        return self.out\n",
    "    \n",
    "    def parameters(self):\n",
    "        return [self.gamma, self.beta]\n",
    "    \n",
    "class Tanh:\n",
    "    def __call__(self, x):\n",
    "        self.out = torch.tanh(x)\n",
    "        return self.out\n",
    "    def parameters(self):\n",
    "        return []"
   ]
  },
  {
   "cell_type": "code",
   "execution_count": 126,
   "id": "84fd68ca-c064-4fda-9eb3-5c08abaf4c7a",
   "metadata": {
    "tags": []
   },
   "outputs": [
    {
     "name": "stdout",
     "output_type": "stream",
     "text": [
      "47551\n"
     ]
    }
   ],
   "source": [
    "n_embd = 10 # dimensionality of the character embedding vectors\n",
    "n_hidden = 100 # the number of neurons in the hidden layer of the MLP\n",
    "g = torch.Generator().manual_seed(2147483647)\n",
    "\n",
    "C = torch.randn((vocab_size, n_embd), generator = g)\n",
    "layers = [\n",
    "    Linear(n_embd * block_size, n_hidden), BatchNorm1d(n_hidden), Tanh(),\n",
    "    Linear(           n_hidden, n_hidden), BatchNorm1d(n_hidden), Tanh(),\n",
    "    Linear(           n_hidden, n_hidden), BatchNorm1d(n_hidden), Tanh(),\n",
    "    Linear(           n_hidden, n_hidden), BatchNorm1d(n_hidden), Tanh(),\n",
    "    Linear(           n_hidden, n_hidden), BatchNorm1d(n_hidden), Tanh(),\n",
    "    Linear(           n_hidden, vocab_size), BatchNorm1d(vocab_size)\n",
    "]\n",
    "\n",
    "with torch.no_grad():\n",
    "    # last layer: make less confident\n",
    "    layers[-1].gamma *= 0.1\n",
    "    # layers[-1].weight *= 0.1\n",
    "    # all other layers: apply gain\n",
    "    for layer in layers[:-1]:\n",
    "        if isinstance(layer, Linear):\n",
    "            layer.weight *= 5/3\n",
    "            \n",
    "parameters = [C] + [p for layer in layers for p in layer.parameters()]\n",
    "print(sum(p.nelement() for p in parameters)) # number of parameters in total\n",
    "for p in parameters:\n",
    "    p.requires_grad = True"
   ]
  },
  {
   "cell_type": "code",
   "execution_count": 127,
   "id": "006a1aac-4ed5-442e-91ba-d841b1248634",
   "metadata": {},
   "outputs": [],
   "source": [
    "with torch.no_grad():\n",
    "    for layer in layers:\n",
    "        if isinstance(layer, Linear):\n",
    "            layer.weight *= 0"
   ]
  },
  {
   "cell_type": "code",
   "execution_count": 128,
   "id": "18645333-0332-4215-9a3a-bb1cffd5cb4f",
   "metadata": {
    "tags": []
   },
   "outputs": [
    {
     "name": "stdout",
     "output_type": "stream",
     "text": [
      "      0/ 200000: 3.2958\n",
      "  10000/ 200000: 3.0271\n",
      "  20000/ 200000: 2.7633\n",
      "  30000/ 200000: 2.6101\n",
      "  40000/ 200000: 2.8132\n",
      "  50000/ 200000: 2.7690\n",
      "  60000/ 200000: 2.7750\n",
      "  70000/ 200000: 2.8423\n",
      "  80000/ 200000: 2.9841\n",
      "  90000/ 200000: 2.9989\n",
      " 100000/ 200000: 2.8870\n",
      " 110000/ 200000: 2.8799\n",
      " 120000/ 200000: 2.8669\n",
      " 130000/ 200000: 2.5848\n",
      " 140000/ 200000: 2.5401\n",
      " 150000/ 200000: 2.6086\n",
      " 160000/ 200000: 3.0590\n",
      " 170000/ 200000: 2.7276\n",
      " 180000/ 200000: 2.9195\n",
      " 190000/ 200000: 2.6891\n"
     ]
    }
   ],
   "source": [
    "# same optimization as last time\n",
    "max_steps = 200000\n",
    "batch_size = 32\n",
    "lossi = []\n",
    "ud = []\n",
    "\n",
    "for i in range(max_steps):\n",
    "    \n",
    "    # minibatch construct\n",
    "    ix = torch.randint(0, Xtr.shape[0], (batch_size,), generator=g)\n",
    "    Xb, Yb, = Xtr[ix], Ytr[ix] # # batch X, Y\n",
    "\n",
    "    # forward pass\n",
    "    emb = C[Xb] # embed the characters into vectors\n",
    "    x = emb.view(emb.shape[0], -1) # concatenate the vectors\n",
    "    for layer in layers:\n",
    "        x = layer(x)\n",
    "    loss = F.cross_entropy(x, Yb) # loss function\n",
    "\n",
    "    # backward pass\n",
    "    for layer in layers:\n",
    "        layer.out.retain_grad() # AFTER_DEBUG: would take out retain_grad\n",
    "    for p in parameters:\n",
    "        p.grad = None\n",
    "    loss.backward()\n",
    "\n",
    "    # update\n",
    "    lr = 1#0.1 if i < 100000 else 0.01 \n",
    "    for p in parameters:\n",
    "        p.data += -lr * p.grad\n",
    "        \n",
    "    # track stats\n",
    "    if i%10000 == 0:\n",
    "        print(f\"{i:7d}/{max_steps:7d}: {loss.item():.4f}\")\n",
    "    lossi.append(loss.log10().item())\n",
    "    with torch.no_grad():\n",
    "        ud.append([(lr*p.grad.std() / p.data.std()).log10().item() for p in parameters])"
   ]
  },
  {
   "cell_type": "code",
   "execution_count": 129,
   "id": "954dd888-50ea-441c-9e59-fcab6e5f684b",
   "metadata": {
    "tags": []
   },
   "outputs": [
    {
     "name": "stdout",
     "output_type": "stream",
     "text": [
      "Sum of Linear out is 0.0\n",
      "Sum of BatchNorm1d out is 0.0\n",
      "Sum of Tanh out is 0.0\n",
      "Sum of Linear out is 0.0\n",
      "Sum of BatchNorm1d out is 0.0\n",
      "Sum of Tanh out is 0.0\n",
      "Sum of Linear out is 0.0\n",
      "Sum of BatchNorm1d out is 0.0\n",
      "Sum of Tanh out is 0.0\n",
      "Sum of Linear out is 0.0\n",
      "Sum of BatchNorm1d out is 0.0\n",
      "Sum of Tanh out is 0.0\n",
      "Sum of Linear out is 0.0\n",
      "Sum of BatchNorm1d out is 0.0\n",
      "Sum of Tanh out is 0.0\n",
      "Sum of Linear out is 0.08865606784820557\n",
      "Sum of BatchNorm1d out is 0.002830415964126587\n"
     ]
    }
   ],
   "source": [
    "for layer in layers:\n",
    "    print(f'Sum of {layer.__class__.__name__} out is {layer.out.sum()}')\n",
    "    \n",
    "# We can see that we only have visible updates on the last Linear and last BatchNorm1d layers"
   ]
  },
  {
   "cell_type": "code",
   "execution_count": 130,
   "id": "e03e984c-b1e3-4bea-93f3-ccc8de4f95b1",
   "metadata": {
    "tags": []
   },
   "outputs": [
    {
     "data": {
      "text/plain": [
       "<matplotlib.image.AxesImage at 0x16b14ae80>"
      ]
     },
     "execution_count": 130,
     "metadata": {},
     "output_type": "execute_result"
    },
    {
     "data": {
      "image/png": "[encoded data removed]",
      "text/plain": [
       "<Figure size 2000x1000 with 1 Axes>"
      ]
     },
     "metadata": {},
     "output_type": "display_data"
    }
   ],
   "source": [
    "plt.figure(figsize=(20,10))\n",
    "plt.imshow(layers[-1].out.abs() > 0.99, cmap='gray', interpolation='nearest') # White is true, black is false\n",
    "\n",
    "# Since we have full white columns, this means that there are dead neurons."
   ]
  },
  {
   "cell_type": "code",
   "execution_count": 2,
   "id": "41468feb-c27f-475d-bb60-3855aa01df9d",
   "metadata": {},
   "outputs": [],
   "source": [
    "# ------------------------------ Exercise 2 ------------------------------\n",
    "# BatchNorm, unlike other normalization layers like LayerNorm/GroupNorm \n",
    "# etc. has the big advantage that after training, the batchnorm gamma/beta \n",
    "# can be \"folded into\" the weights of the preceeding Linear layers, \n",
    "# effectively erasing the need to forward it at test time.\n",
    "#\n",
    "# Set up a small 3-layer MLP with batchnorms, train the network, then \n",
    "# \"fold\" the batchnorm gamma/beta into the preceeding Linear layer's W,b \n",
    "# by creating a new W2, b2 and erasing the batch norm. \n",
    "#\n",
    "# Verify that this gives the same forward pass during inference. i.e. \n",
    "# we see that the batchnorm is there just for stabilizing the training, \n",
    "# and can be thrown out after training is done! pretty cool."
   ]
  },
  {
   "cell_type": "code",
   "execution_count": 10,
   "id": "793ee3ae-1577-4596-a4ea-966b4a21fa37",
   "metadata": {
    "tags": []
   },
   "outputs": [
    {
     "name": "stdout",
     "output_type": "stream",
     "text": [
      "6297\n"
     ]
    }
   ],
   "source": [
    "n_embd = 10 # dimensionality of the character embedding vectors\n",
    "n_hidden = 100 # the number of neurons in the hidden layer of the MLP\n",
    "g = torch.Generator().manual_seed(2147483647)\n",
    "\n",
    "C = torch.randn((vocab_size, n_embd), generator = g)\n",
    "layers = [\n",
    "    Linear(n_embd * block_size, n_hidden), BatchNorm1d(n_hidden), Tanh(), \n",
    "    Linear(n_hidden, vocab_size),\n",
    "]\n",
    "\n",
    "with torch.no_grad():\n",
    "    # last layer: make less confident\n",
    "    # layers[-1].gamma *= 0.1\n",
    "    layers[-1].weight *= 0.1\n",
    "    # all other layers: apply gain\n",
    "    for layer in layers[:-1]:\n",
    "        if isinstance(layer, Linear):\n",
    "            layer.weight *= 5/3\n",
    "            \n",
    "parameters = [C] + [p for layer in layers for p in layer.parameters()]\n",
    "print(sum(p.nelement() for p in parameters)) # number of parameters in total\n",
    "for p in parameters:\n",
    "    p.requires_grad = True"
   ]
  },
  {
   "cell_type": "code",
   "execution_count": 11,
   "id": "04364d65-8f1b-42db-9ee6-5ce78fde130f",
   "metadata": {
    "tags": []
   },
   "outputs": [
    {
     "name": "stdout",
     "output_type": "stream",
     "text": [
      "      0/ 200000: 3.2912\n",
      "  10000/ 200000: 2.4953\n",
      "  20000/ 200000: 2.4687\n",
      "  30000/ 200000: 2.3428\n",
      "  40000/ 200000: 2.1891\n",
      "  50000/ 200000: 2.4408\n",
      "  60000/ 200000: 2.1279\n",
      "  70000/ 200000: 2.2252\n",
      "  80000/ 200000: 2.2386\n",
      "  90000/ 200000: 2.5566\n",
      " 100000/ 200000: 1.8108\n",
      " 110000/ 200000: 2.3478\n",
      " 120000/ 200000: 2.0202\n",
      " 130000/ 200000: 2.2370\n",
      " 140000/ 200000: 2.3931\n",
      " 150000/ 200000: 2.1625\n",
      " 160000/ 200000: 2.1394\n",
      " 170000/ 200000: 1.9499\n",
      " 180000/ 200000: 2.0418\n",
      " 190000/ 200000: 2.0878\n"
     ]
    }
   ],
   "source": [
    "# same optimization as last time\n",
    "max_steps = 200000\n",
    "batch_size = 32\n",
    "lossi = []\n",
    "ud = []\n",
    "\n",
    "for i in range(max_steps):\n",
    "    \n",
    "    # minibatch construct\n",
    "    ix = torch.randint(0, Xtr.shape[0], (batch_size,), generator=g)\n",
    "    Xb, Yb, = Xtr[ix], Ytr[ix] # # batch X, Y\n",
    "\n",
    "    # forward pass\n",
    "    emb = C[Xb] # embed the characters into vectors\n",
    "    x = emb.view(emb.shape[0], -1) # concatenate the vectors\n",
    "    for layer in layers:\n",
    "        x = layer(x)\n",
    "    loss = F.cross_entropy(x, Yb) # loss function\n",
    "\n",
    "    # backward pass\n",
    "    for layer in layers:\n",
    "        layer.out.retain_grad() # AFTER_DEBUG: would take out retain_grad\n",
    "    for p in parameters:\n",
    "        p.grad = None\n",
    "    loss.backward()\n",
    "\n",
    "    # update\n",
    "    lr = 0.1 if i < 100000 else 0.01 \n",
    "    for p in parameters:\n",
    "        p.data += -lr * p.grad\n",
    "        \n",
    "    # track stats\n",
    "    if i%10000 == 0:\n",
    "        print(f\"{i:7d}/{max_steps:7d}: {loss.item():.4f}\")\n",
    "    lossi.append(loss.log10().item())\n",
    "    with torch.no_grad():\n",
    "        ud.append([(lr*p.grad.std() / p.data.std()).log10().item() for p in parameters])"
   ]
  },
  {
   "cell_type": "code",
   "execution_count": 12,
   "id": "226bb655-c8e2-4a5f-95ad-77a060847d01",
   "metadata": {
    "tags": []
   },
   "outputs": [],
   "source": [
    "layers[1].training = False"
   ]
  },
  {
   "cell_type": "code",
   "execution_count": 253,
   "id": "4f4cf0cc-7d31-4bce-aecb-ac1f0fc2550d",
   "metadata": {
    "tags": []
   },
   "outputs": [
    {
     "name": "stdout",
     "output_type": "stream",
     "text": [
      "tensor(2.0188)\n"
     ]
    }
   ],
   "source": [
    "with torch.no_grad():\n",
    "    emb = C[Xb] # embed the characters into vectors\n",
    "    x = emb.view(emb.shape[0], -1) # concatenate the vectors\n",
    "    for layer in layers:\n",
    "        x = layer(x)\n",
    "    loss = F.cross_entropy(x, Yb)\n",
    "    \n",
    "    print(loss)"
   ]
  },
  {
   "cell_type": "code",
   "execution_count": 254,
   "id": "2cf3e78c-ab3d-442d-b839-ee673b3d8e2d",
   "metadata": {
    "tags": []
   },
   "outputs": [],
   "source": [
    "# now \"fold\" BatchNorm into Linear somehow :D and get the same loss"
   ]
  },
  {
   "cell_type": "code",
   "execution_count": 255,
   "id": "b9da5508-33a7-409a-8060-710f81ad805b",
   "metadata": {},
   "outputs": [
    {
     "data": {
      "text/plain": [
       "[<__main__.Linear at 0x14a677e20>,\n",
       " <__main__.Tanh at 0x14a677fa0>,\n",
       " <__main__.Linear at 0x14a677d60>]"
      ]
     },
     "execution_count": 255,
     "metadata": {},
     "output_type": "execute_result"
    }
   ],
   "source": [
    "import copy\n",
    "newlayers = copy.deepcopy(layers)\n",
    "del newlayers[1] # Delete BatchNorm from newlayers\n",
    "\n",
    "blayer = copy.deepcopy(layers[1]) # Copy of BatchNorm layer\n",
    "\n",
    "linear = newlayers[0] # variable of Linear layer that preceeded the BatchNorm layer\n",
    "\n",
    "newlayers"
   ]
  },
  {
   "cell_type": "code",
   "execution_count": 256,
   "id": "899d881f-59fd-4bb2-b451-6038c2867a9d",
   "metadata": {
    "tags": []
   },
   "outputs": [],
   "source": [
    "# Checking solution exaplined at https://stackoverflow.com/questions/49536856/tensorflow-how-to-merge-batchnorm-into-convolution-for-faster-inference\n",
    "# w_new = gamma * w / np.sqrt(var + epsilon)\n",
    "# b_new = gamma * (b - mean) / np.sqrt(var + epsilon) + beta)\n",
    "\n",
    "with torch.no_grad():\n",
    "    linear.weight = blayer.gamma * linear.weight / torch.sqrt(blayer.running_var + blayer.eps)\n",
    "    linear.bias = blayer.gamma * (linear.bias - blayer.running_mean) / torch.sqrt(blayer.running_var + blayer.eps) + blayer.beta"
   ]
  },
  {
   "cell_type": "code",
   "execution_count": 257,
   "id": "f41baf4d-60eb-4812-958e-d77f8fbea360",
   "metadata": {
    "tags": []
   },
   "outputs": [
    {
     "name": "stdout",
     "output_type": "stream",
     "text": [
      "tensor(2.0188)\n"
     ]
    }
   ],
   "source": [
    "with torch.no_grad():\n",
    "    emb = C[Xb] # embed the characters into vectors\n",
    "    x = emb.view(emb.shape[0], -1) # concatenate the vectors\n",
    "    for layer in newlayers:\n",
    "        x = layer(x)\n",
    "    loss = F.cross_entropy(x, Yb)\n",
    "    \n",
    "    print(loss)"
   ]
  },
  {
   "cell_type": "code",
   "execution_count": null,
   "id": "3066d73a-ad8c-4a7a-8e5e-fce1e4e8122a",
   "metadata": {},
   "outputs": [],
   "source": [
    "# Both losses are the same and the BatchNorm layer is now removed from newlayers NN"
   ]
  }
 ],
 "metadata": {
  "kernelspec": {
   "display_name": "Python 3 (ipykernel)",
   "language": "python",
   "name": "python3"
  },
  "language_info": {
   "codemirror_mode": {
    "name": "ipython",
    "version": 3
   },
   "file_extension": ".py",
   "mimetype": "text/x-python",
   "name": "python",
   "nbconvert_exporter": "python",
   "pygments_lexer": "ipython3",
   "version": "3.9.16"
  }
 },
 "nbformat": 4,
 "nbformat_minor": 5
}
