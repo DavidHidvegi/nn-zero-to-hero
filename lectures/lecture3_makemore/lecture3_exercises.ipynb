{
 "cells": [
  {
   "cell_type": "code",
   "execution_count": 1,
   "id": "1dec0cc7-badd-4987-beaf-c30f8157b8cf",
   "metadata": {
    "tags": []
   },
   "outputs": [],
   "source": [
    "# ------------------------------ Exercise 1 ------------------------------\n",
    "# Tune the hyperparameters of the training to beat my best validation loss of 2.17"
   ]
  },
  {
   "cell_type": "code",
   "execution_count": 238,
   "id": "4a1492e5",
   "metadata": {
    "tags": []
   },
   "outputs": [],
   "source": [
    "import torch\n",
    "import torch.nn.functional as F\n",
    "import matplotlib.pyplot as plt\n",
    "%matplotlib inline"
   ]
  },
  {
   "cell_type": "code",
   "execution_count": 239,
   "id": "ef7b6543",
   "metadata": {
    "tags": []
   },
   "outputs": [],
   "source": [
    "# read in all the words\n",
    "words = open('names.txt', 'r').read().splitlines()"
   ]
  },
  {
   "cell_type": "code",
   "execution_count": 240,
   "id": "a3cdf4ac-e1c1-49a6-a78f-c1f7f2b91868",
   "metadata": {
    "tags": []
   },
   "outputs": [],
   "source": [
    "# build the vocabulary of characters and mappins to/from integers\n",
    "chars = sorted(list(set(''.join(words))))\n",
    "stoi = {s:i+1 for i,s in enumerate(chars)}\n",
    "stoi['.'] = 0\n",
    "itos = {i:s for s, i in stoi.items()}"
   ]
  },
  {
   "cell_type": "code",
   "execution_count": 241,
   "id": "772e7237-9c3a-41f0-85ba-af355c4b734e",
   "metadata": {
    "tags": []
   },
   "outputs": [
    {
     "name": "stdout",
     "output_type": "stream",
     "text": [
      "torch.Size([182625, 3]) torch.Size([182625])\n",
      "torch.Size([22655, 3]) torch.Size([22655])\n",
      "torch.Size([22866, 3]) torch.Size([22866])\n"
     ]
    }
   ],
   "source": [
    "# build the dataset\n",
    "\n",
    "block_size = 3 # context length: how many characters do we take to predict the next one?\n",
    "\n",
    "def build_dataset(words):\n",
    "    X, Y = [], []\n",
    "    for w in words:\n",
    "        # print(w)\n",
    "\n",
    "        context = [0] * block_size\n",
    "        for ch in w + '.':\n",
    "            ix = stoi[ch]\n",
    "            X.append(context)\n",
    "            Y.append(ix)\n",
    "            context = context[1:] + [ix] # crop and append\n",
    "\n",
    "    X = torch.tensor(X)\n",
    "    Y = torch.tensor(Y)\n",
    "    print(X.shape, Y.shape)\n",
    "    return X, Y\n",
    "    \n",
    "import random\n",
    "random.seed(42)\n",
    "random.shuffle(words)\n",
    "n1 = int(0.8 * len(words))\n",
    "n2 = int(0.9 * len(words))\n",
    "\n",
    "Xtr, Ytr = build_dataset(words[:n1])\n",
    "Xdev, Ydev = build_dataset(words[n1:n2])\n",
    "Xtest, Ytest = build_dataset(words[n2:])"
   ]
  },
  {
   "cell_type": "code",
   "execution_count": 242,
   "id": "94c9f124-7846-4b5b-8338-32bd716291f4",
   "metadata": {
    "tags": []
   },
   "outputs": [],
   "source": [
    "emb_size = 20\n",
    "hidden_layer_size = 100\n",
    "mini_batch_size = 1024\n",
    "regularization = 2"
   ]
  },
  {
   "cell_type": "code",
   "execution_count": 243,
   "id": "d700b3a7-fdc3-4fb4-addb-a85374908f46",
   "metadata": {
    "tags": []
   },
   "outputs": [],
   "source": [
    "g = torch.Generator().manual_seed(2147483647)\n",
    "C = torch.randn((27, emb_size), generator=g)\n",
    "W1 = torch.randn((3*emb_size, hidden_layer_size), generator=g)\n",
    "b1 = torch.randn(hidden_layer_size, generator=g)\n",
    "W2 = torch.randn((hidden_layer_size,27), generator=g)\n",
    "b2 = torch.randn(27, generator=g)\n",
    "parameters = [C, W1, b1, W2, b2]"
   ]
  },
  {
   "cell_type": "code",
   "execution_count": 244,
   "id": "c03f8f63-ee85-4f15-add4-01637ce2d9e9",
   "metadata": {
    "tags": []
   },
   "outputs": [
    {
     "data": {
      "text/plain": [
       "9367"
      ]
     },
     "execution_count": 244,
     "metadata": {},
     "output_type": "execute_result"
    }
   ],
   "source": [
    "sum(p.nelement() for p in parameters)"
   ]
  },
  {
   "cell_type": "code",
   "execution_count": 245,
   "id": "d294b0e6-26a1-4472-b569-2db6d47e036b",
   "metadata": {
    "tags": []
   },
   "outputs": [],
   "source": [
    "for p in parameters:\n",
    "    p.requires_grad = True"
   ]
  },
  {
   "cell_type": "code",
   "execution_count": 246,
   "id": "c95b92a4-b0e6-470b-9e47-826b870d6cfe",
   "metadata": {},
   "outputs": [],
   "source": [
    "def total_loss(setX, setY):\n",
    "    emb = C[setX]\n",
    "    h = torch.tanh(emb.view(-1, 3*emb_size) @ W1 + b1)\n",
    "    logits = h @ W2 + b2\n",
    "    loss = F.cross_entropy(logits, setY) + regularization * (W1**2).mean() + regularization * (W2**2).mean()\n",
    "    return loss.item()"
   ]
  },
  {
   "cell_type": "code",
   "execution_count": 247,
   "id": "6206a942-5815-4226-9228-06fd1708e664",
   "metadata": {
    "tags": []
   },
   "outputs": [
    {
     "name": "stdout",
     "output_type": "stream",
     "text": [
      "It count: 0, train loss: 22.164934158325195, dev loss: 22.110742568969727\n",
      "It count: 5000, train loss: 3.5490193367004395, dev loss: 3.562366008758545\n",
      "It count: 10000, train loss: 2.8175747394561768, dev loss: 2.8264577388763428\n",
      "It count: 15000, train loss: 2.515599250793457, dev loss: 2.5256471633911133\n",
      "It count: 20000, train loss: 2.3677351474761963, dev loss: 2.3796639442443848\n",
      "It count: 25000, train loss: 2.2924695014953613, dev loss: 2.3065078258514404\n",
      "It count: 30000, train loss: 2.2537903785705566, dev loss: 2.2689571380615234\n",
      "It count: 35000, train loss: 2.2321958541870117, dev loss: 2.2479729652404785\n",
      "It count: 40000, train loss: 2.2178659439086914, dev loss: 2.2361550331115723\n",
      "It count: 45000, train loss: 2.208737373352051, dev loss: 2.2280123233795166\n",
      "It count: 50000, train loss: 2.200308084487915, dev loss: 2.2216310501098633\n",
      "It count: 55000, train loss: 2.194851875305176, dev loss: 2.216409921646118\n",
      "It count: 60000, train loss: 2.189108371734619, dev loss: 2.212928533554077\n",
      "It count: 65000, train loss: 2.184680223464966, dev loss: 2.2094974517822266\n",
      "It count: 70000, train loss: 2.181328296661377, dev loss: 2.2070207595825195\n",
      "It count: 75000, train loss: 2.178009033203125, dev loss: 2.2032241821289062\n",
      "It count: 80000, train loss: 2.1749446392059326, dev loss: 2.2022087574005127\n",
      "It count: 85000, train loss: 2.17189884185791, dev loss: 2.199817419052124\n",
      "It count: 90000, train loss: 2.1699230670928955, dev loss: 2.1985769271850586\n",
      "It count: 95000, train loss: 2.1676645278930664, dev loss: 2.1965973377227783\n",
      "It count: 100000, train loss: 2.1653435230255127, dev loss: 2.1945722103118896\n",
      "It count: 105000, train loss: 2.1616621017456055, dev loss: 2.1908178329467773\n",
      "It count: 110000, train loss: 2.1614136695861816, dev loss: 2.190443515777588\n",
      "It count: 115000, train loss: 2.1611433029174805, dev loss: 2.1903088092803955\n",
      "It count: 120000, train loss: 2.160943031311035, dev loss: 2.190300464630127\n",
      "It count: 125000, train loss: 2.160679578781128, dev loss: 2.18989896774292\n",
      "It count: 130000, train loss: 2.1604347229003906, dev loss: 2.190194845199585\n",
      "It count: 135000, train loss: 2.16023850440979, dev loss: 2.189913749694824\n",
      "It count: 140000, train loss: 2.160128116607666, dev loss: 2.1896767616271973\n",
      "It count: 145000, train loss: 2.1598713397979736, dev loss: 2.1898388862609863\n",
      "It count: 150000, train loss: 2.1596310138702393, dev loss: 2.1893086433410645\n",
      "It count: 155000, train loss: 2.159531831741333, dev loss: 2.1892380714416504\n",
      "It count: 160000, train loss: 2.1592071056365967, dev loss: 2.1892919540405273\n",
      "It count: 165000, train loss: 2.159045934677124, dev loss: 2.1890504360198975\n",
      "It count: 170000, train loss: 2.1588754653930664, dev loss: 2.1888160705566406\n",
      "It count: 175000, train loss: 2.1587507724761963, dev loss: 2.188671827316284\n",
      "It count: 180000, train loss: 2.1585822105407715, dev loss: 2.1885287761688232\n",
      "It count: 185000, train loss: 2.158374309539795, dev loss: 2.188544273376465\n",
      "It count: 190000, train loss: 2.158170223236084, dev loss: 2.1880452632904053\n",
      "It count: 195000, train loss: 2.158083438873291, dev loss: 2.1884236335754395\n"
     ]
    }
   ],
   "source": [
    "loss_tr = []\n",
    "loss_dev = []\n",
    "stepi = []\n",
    "\n",
    "it_count=200000\n",
    "report_every_it = 1000\n",
    "print_every_it = 5000\n",
    "\n",
    "for i in range(it_count):\n",
    "    \n",
    "    # minibatch construct\n",
    "    ix = torch.randint(0, Xtr.shape[0], (mini_batch_size,))\n",
    "\n",
    "    # forward pass\n",
    "    emb = C[Xtr[ix]] # (32, 3, 2)\n",
    "    h = torch.tanh(emb.view(-1, 3*emb_size) @ W1 + b1) # (32, 100)\n",
    "    logits = h @ W2 + b2\n",
    "    loss = F.cross_entropy(logits, Ytr[ix]) + regularization * (W1**2).mean() + regularization * (W2**2).mean()\n",
    "    # print(loss.item())\n",
    "\n",
    "    # backward pass\n",
    "    for p in parameters:\n",
    "        p.grad = None\n",
    "    loss.backward()\n",
    "\n",
    "    # update\n",
    "    # lr = lrs[i]\n",
    "    lr = 0.1 if i < 100000 else 0.01 \n",
    "    for p in parameters:\n",
    "        p.data += -lr * p.grad\n",
    "        \n",
    "    # track stats\n",
    "    if i%(report_every_it) == 0:\n",
    "        stepi.append(i)\n",
    "        loss_tr.append(total_loss(Xtr, Ytr))\n",
    "        loss_dev.append(total_loss(Xdev, Ydev))\n",
    "        if i%(print_every_it) == 0:\n",
    "            print(f\"It count: {i}, train loss: {loss_tr[-1]}, dev loss: {loss_dev[-1]}\")\n",
    "        \n",
    "        \n",
    "# print(loss.item())"
   ]
  },
  {
   "cell_type": "code",
   "execution_count": 248,
   "id": "2a36a3e3-7dd6-4667-9e5f-14285cc4c7a5",
   "metadata": {
    "tags": []
   },
   "outputs": [
    {
     "data": {
      "text/plain": [
       "[<matplotlib.lines.Line2D at 0x177b23280>]"
      ]
     },
     "execution_count": 248,
     "metadata": {},
     "output_type": "execute_result"
    },
    {
     "data": {
      "image/png": "[encoded data removed]",
      "text/plain": [
       "<Figure size 640x480 with 1 Axes>"
      ]
     },
     "metadata": {},
     "output_type": "display_data"
    }
   ],
   "source": [
    "plt.plot(stepi, loss_tr)\n",
    "plt.plot(stepi, loss_dev)"
   ]
  },
  {
   "cell_type": "code",
   "execution_count": 65,
   "id": "e041f33f-0ecb-4b53-9492-0dc8024cc0e2",
   "metadata": {
    "tags": []
   },
   "outputs": [
    {
     "data": {
      "text/plain": [
       "tensor(2.0875, grad_fn=<NllLossBackward0>)"
      ]
     },
     "execution_count": 65,
     "metadata": {},
     "output_type": "execute_result"
    }
   ],
   "source": [
    "emb = C[Xtr] # (32, 3, 2)\n",
    "h = torch.tanh(emb.view(-1, 3*emb_size) @ W1 + b1) # (32, 100)\n",
    "logits = h @ W2 + b2\n",
    "loss = F.cross_entropy(logits, Ytr)\n",
    "loss "
   ]
  },
  {
   "cell_type": "code",
   "execution_count": 66,
   "id": "d774e34b-1ce7-49f4-9ea3-e6df286f4e25",
   "metadata": {
    "tags": []
   },
   "outputs": [
    {
     "data": {
      "text/plain": [
       "tensor(2.1185, grad_fn=<NllLossBackward0>)"
      ]
     },
     "execution_count": 66,
     "metadata": {},
     "output_type": "execute_result"
    }
   ],
   "source": [
    "emb = C[Xdev] # (32, 3, 2)\n",
    "h = torch.tanh(emb.view(-1, 3*emb_size) @ W1 + b1) # (32, 100)\n",
    "logits = h @ W2 + b2\n",
    "loss = F.cross_entropy(logits, Ydev)\n",
    "loss "
   ]
  },
  {
   "cell_type": "code",
   "execution_count": 249,
   "id": "ae5fd140-1c7d-4d33-9d74-1c8b10905647",
   "metadata": {
    "tags": []
   },
   "outputs": [],
   "source": [
    "# Training took 04:18 minutes"
   ]
  },
  {
   "cell_type": "code",
   "execution_count": 250,
   "id": "3d56dd4a-5b75-4102-b080-e1f5affe96f1",
   "metadata": {
    "tags": []
   },
   "outputs": [],
   "source": [
    "# sample from the model\n",
    "\n",
    "g = torch.Generator().manual_seed(2147483647)\n",
    "samples = []\n",
    "\n",
    "for _ in range(100):\n",
    "    \n",
    "    out = []\n",
    "    context = [0] * block_size\n",
    "    while True:\n",
    "        emb = C[torch.tensor([context])]\n",
    "        logits = None\n",
    "        \n",
    "        h = torch.tanh(emb.view(1, -1) @ a_W1 + a_b1)\n",
    "        logits = h @ a_W2 + a_b2\n",
    "            \n",
    "        probs = F.softmax(logits, dim=1)\n",
    "        ix = torch.multinomial(probs, num_samples=1, generator=g).item()\n",
    "        context = context[1:] + [ix]\n",
    "        \n",
    "        if ix==0:\n",
    "            break\n",
    "        out.append(ix)\n",
    "\n",
    "    samples.append(''.join(itos[i] for i in out))"
   ]
  },
  {
   "cell_type": "code",
   "execution_count": 251,
   "id": "fcd46223-24f1-4109-a642-0184076b312e",
   "metadata": {
    "tags": []
   },
   "outputs": [
    {
     "name": "stdout",
     "output_type": "stream",
     "text": [
      "Sample len: 100\n",
      "New Words len: 83\n",
      "New words: ['deabe', 'ahalie', 'aileik', 'aha', 'eilie', 'aia', 'eeleahk', 'aha', 'icheeleiha', 'iah', 'iei', 'kha', 'keiged', 'aea', 'eadee', 'aakaigeagif', 'bai', 'haliel', 'alaheah', 'dhad', 'ahaila', 'kaedeil', 'fie', 'aheaika', 'bhaab', 'aalh', 'khaliellee', 'ablieahhakeechee', 'aia', 'aed', 'ehleileahaleegedlieiahea', 'ebhaleia', 'aahali', 'haae', 'ael', 'keilia', 'fiailcalha', 'fabe', 'eela', 'eehaliah', 'aiah', 'eahi', 'akha', 'geich', 'aihleah', 'eabl', 'aea', 'aaddelia', 'addelkaha', 'cahlacdealiahali', 'hagh', 'had', 'ahahili', 'dha', 'kahaye', 'eck', 'ahal', 'fic', 'aed', 'deelie', 'iei', 'had', 'dahae', 'alei', 'fali', 'eig', 'alkilleaheilea', 'aad', 'eie', 'iab', 'aalief', 'eiae', 'aea', 'geadeaha', 'aia', 'aeh', 'chaeik', 'aha', 'abhaiciawa', 'jaidelie', 'aediegha', 'lha', 'deah']\n"
     ]
    }
   ],
   "source": [
    "new_words = [sample for sample in samples if sample not in words]\n",
    "\n",
    "print(f\"Sample len: {len(samples)}\")\n",
    "print(f\"New Words len: {len(new_words)}\")\n",
    "\n",
    "print(\"New words:\", new_words)"
   ]
  },
  {
   "cell_type": "code",
   "execution_count": 36,
   "id": "fbc84d54-6ead-478f-9291-de6f2493e4d9",
   "metadata": {
    "tags": []
   },
   "outputs": [],
   "source": [
    "# ------------------------------ Exercise 2 ------------------------------\n",
    "# I was not careful with the intialization of the network in this video. \n",
    "# (1) What is the loss you'd get if the predicted probabilities at initialization were perfectly uniform? What loss do we achieve? \n",
    "# (2) Can you tune the initialization to get a starting loss that is much more similar to (1)?\n",
    "\n",
    "# (1) The starting loss is 7, much lower than with non-uniform initial parameters, however the loss after 200k iterations is 2.4677 (much worse)\n",
    "# (2) I assume it can be done by initializing C, W and b tensors with zeros and ones"
   ]
  },
  {
   "cell_type": "code",
   "execution_count": 55,
   "id": "544c7eb8-ef20-4f49-82be-45cbe608f840",
   "metadata": {},
   "outputs": [],
   "source": [
    "# Initialization\n",
    "\n",
    "g = torch.Generator().manual_seed(2147483647)\n",
    "C = torch.ones((27, emb_size))\n",
    "W1 = torch.ones((3*emb_size, hidden_layer_size))\n",
    "b1 = torch.zeros(hidden_layer_size)\n",
    "W2 = torch.ones((hidden_layer_size,27))\n",
    "b2 = torch.zeros(27)\n",
    "parameters = [C, W1, b1, W2, b2]\n",
    "\n",
    "for p in parameters:\n",
    "    p.requires_grad = True"
   ]
  },
  {
   "cell_type": "code",
   "execution_count": 56,
   "id": "e9d7a346-cc59-4e29-a5a1-17c1aaa2c4f8",
   "metadata": {},
   "outputs": [
    {
     "name": "stdout",
     "output_type": "stream",
     "text": [
      "It count: 0, train loss: 6.980022430419922, dev loss: 6.979219436645508\n",
      "It count: 5000, train loss: 4.307507038116455, dev loss: 4.306113243103027\n",
      "It count: 10000, train loss: 3.460493803024292, dev loss: 3.4585511684417725\n",
      "It count: 15000, train loss: 3.1187005043029785, dev loss: 3.116990089416504\n",
      "It count: 20000, train loss: 2.9700562953948975, dev loss: 2.968836545944214\n",
      "It count: 25000, train loss: 2.915227174758911, dev loss: 2.9129257202148438\n",
      "It count: 30000, train loss: 2.8632805347442627, dev loss: 2.862459659576416\n",
      "It count: 35000, train loss: 2.846811532974243, dev loss: 2.8458452224731445\n",
      "It count: 40000, train loss: 2.8395028114318848, dev loss: 2.837057590484619\n",
      "It count: 45000, train loss: 2.833026647567749, dev loss: 2.8312292098999023\n",
      "It count: 50000, train loss: 2.7294132709503174, dev loss: 2.72556734085083\n",
      "It count: 55000, train loss: 2.596628427505493, dev loss: 2.5883986949920654\n",
      "It count: 60000, train loss: 2.553548574447632, dev loss: 2.546391010284424\n",
      "It count: 65000, train loss: 2.5307154655456543, dev loss: 2.5215678215026855\n",
      "It count: 70000, train loss: 2.507373571395874, dev loss: 2.496030807495117\n",
      "It count: 75000, train loss: 2.501268148422241, dev loss: 2.4914135932922363\n",
      "It count: 80000, train loss: 2.499107837677002, dev loss: 2.489222288131714\n",
      "It count: 85000, train loss: 2.494985342025757, dev loss: 2.485642671585083\n",
      "It count: 90000, train loss: 2.4928090572357178, dev loss: 2.483083963394165\n",
      "It count: 95000, train loss: 2.4920568466186523, dev loss: 2.4827966690063477\n",
      "It count: 100000, train loss: 2.4893434047698975, dev loss: 2.4812769889831543\n",
      "It count: 105000, train loss: 2.4875905513763428, dev loss: 2.478553295135498\n",
      "It count: 110000, train loss: 2.487337589263916, dev loss: 2.4785051345825195\n",
      "It count: 115000, train loss: 2.487157106399536, dev loss: 2.478424549102783\n",
      "It count: 120000, train loss: 2.4870858192443848, dev loss: 2.4782705307006836\n",
      "It count: 125000, train loss: 2.4869630336761475, dev loss: 2.4782567024230957\n",
      "It count: 130000, train loss: 2.486833095550537, dev loss: 2.478120803833008\n",
      "It count: 135000, train loss: 2.4867308139801025, dev loss: 2.478065013885498\n",
      "It count: 140000, train loss: 2.486696243286133, dev loss: 2.4778146743774414\n",
      "It count: 145000, train loss: 2.4865963459014893, dev loss: 2.4778153896331787\n",
      "It count: 150000, train loss: 2.486546516418457, dev loss: 2.4777746200561523\n",
      "It count: 155000, train loss: 2.4864747524261475, dev loss: 2.4779770374298096\n",
      "It count: 160000, train loss: 2.4864397048950195, dev loss: 2.4776971340179443\n",
      "It count: 165000, train loss: 2.486524820327759, dev loss: 2.477560520172119\n",
      "It count: 170000, train loss: 2.486315965652466, dev loss: 2.4776360988616943\n",
      "It count: 175000, train loss: 2.4862754344940186, dev loss: 2.477443218231201\n",
      "It count: 180000, train loss: 2.4862356185913086, dev loss: 2.4775924682617188\n",
      "It count: 185000, train loss: 2.486140012741089, dev loss: 2.4775052070617676\n",
      "It count: 190000, train loss: 2.486116647720337, dev loss: 2.4773707389831543\n",
      "It count: 195000, train loss: 2.4861109256744385, dev loss: 2.47749924659729\n"
     ]
    }
   ],
   "source": [
    "#Training\n",
    "\n",
    "loss_tr = []\n",
    "loss_dev = []\n",
    "stepi = []\n",
    "\n",
    "it_count=200000\n",
    "report_every_it = 1000\n",
    "print_every_it = 5000\n",
    "\n",
    "for i in range(it_count):\n",
    "    \n",
    "    # minibatch construct\n",
    "    ix = torch.randint(0, Xtr.shape[0], (mini_batch_size,))\n",
    "\n",
    "    # forward pass\n",
    "    emb = C[Xtr[ix]] # (32, 3, 2)\n",
    "    h = torch.tanh(emb.view(-1, 3*emb_size) @ W1 + b1) # (32, 100)\n",
    "    logits = h @ W2 + b2\n",
    "    loss = F.cross_entropy(logits, Ytr[ix]) + regularization * (W1**2).mean() + regularization * (W2**2).mean()\n",
    "    # print(loss.item())\n",
    "\n",
    "    # backward pass\n",
    "    for p in parameters:\n",
    "        p.grad = None\n",
    "    loss.backward()\n",
    "\n",
    "    # update\n",
    "    # lr = lrs[i]\n",
    "    lr = 0.1 if i < 100000 else 0.01 \n",
    "    for p in parameters:\n",
    "        p.data += -lr * p.grad\n",
    "        \n",
    "    # track stats\n",
    "    if i%(report_every_it) == 0:\n",
    "        stepi.append(i)\n",
    "        loss_tr.append(total_loss(Xtr, Ytr))\n",
    "        loss_dev.append(total_loss(Xdev, Ydev))\n",
    "        if i%(print_every_it) == 0:\n",
    "            print(f\"It count: {i}, train loss: {loss_tr[-1]}, dev loss: {loss_dev[-1]}\")\n",
    "        \n",
    "        \n",
    "# print(loss.item())"
   ]
  },
  {
   "cell_type": "code",
   "execution_count": 57,
   "id": "799e4ee6-709d-4d57-94b9-6f512d82b1f1",
   "metadata": {},
   "outputs": [
    {
     "data": {
      "text/plain": [
       "tensor(2.4764, grad_fn=<NllLossBackward0>)"
      ]
     },
     "execution_count": 57,
     "metadata": {},
     "output_type": "execute_result"
    }
   ],
   "source": [
    "# Loss Train\n",
    "\n",
    "emb = C[Xtr] # (32, 3, 2)\n",
    "h = torch.tanh(emb.view(-1, 3*emb_size) @ W1 + b1) # (32, 100)\n",
    "logits = h @ W2 + b2\n",
    "loss = F.cross_entropy(logits, Ytr)\n",
    "loss "
   ]
  },
  {
   "cell_type": "code",
   "execution_count": 58,
   "id": "64685ecd-b9ab-4be1-b560-09c7fb7cfc61",
   "metadata": {},
   "outputs": [
    {
     "data": {
      "text/plain": [
       "tensor(2.4677, grad_fn=<NllLossBackward0>)"
      ]
     },
     "execution_count": 58,
     "metadata": {},
     "output_type": "execute_result"
    }
   ],
   "source": [
    "# Loss Dev\n",
    "emb = C[Xdev] # (32, 3, 2)\n",
    "h = torch.tanh(emb.view(-1, 3*emb_size) @ W1 + b1) # (32, 100)\n",
    "logits = h @ W2 + b2\n",
    "loss = F.cross_entropy(logits, Ydev)\n",
    "loss "
   ]
  },
  {
   "cell_type": "code",
   "execution_count": 75,
   "id": "1bfa7568-73eb-4db6-80ad-1e14ce88ee63",
   "metadata": {},
   "outputs": [],
   "source": [
    "# ------------------------------ Exercise 3 ------------------------------\n",
    "# Read the Bengio et al 2003 paper, implement and try any idea from the paper. Did it work?\n",
    "# Bengio et al 2003 paper: https://www.jmlr.org/papers/volume3/bengio03a/bengio03a.pdf\n",
    "\n",
    "# Let's try this one:\n",
    "# 1. Decomposing the network in sub-networks, for example using a clustering of the words.\n",
    "# Training many smaller networks should be easier and faster.\n",
    "\n",
    "# Attempt:\n",
    "# Split the vocabulary into 2, in the middle --> chars1, chars2\n",
    "# Train two separate networks, depending on which vocabulary was the last letter in\n",
    "# Calculate loss\n",
    "# Sample from the network combination"
   ]
  },
  {
   "cell_type": "code",
   "execution_count": 7,
   "id": "371b94fc-6b50-4110-aa08-c614981bb18b",
   "metadata": {},
   "outputs": [],
   "source": [
    "import torch\n",
    "import torch.nn.functional as F\n",
    "import matplotlib.pyplot as plt\n",
    "%matplotlib inline"
   ]
  },
  {
   "cell_type": "code",
   "execution_count": 8,
   "id": "dcabdda0-03a2-45fe-84cb-a79a451c5ae3",
   "metadata": {},
   "outputs": [],
   "source": [
    "# read in all the words\n",
    "words = open('names.txt', 'r').read().splitlines()"
   ]
  },
  {
   "cell_type": "code",
   "execution_count": 12,
   "id": "262326ab-2c22-4404-b253-c43c61b42808",
   "metadata": {},
   "outputs": [],
   "source": [
    "# build the vocabulary of characters and mappins to/from integers\n",
    "chars = ['.'] + sorted(list(set(''.join(words))))\n",
    "stoi = {s:i for i,s in enumerate(chars)}\n",
    "itos = {i:s for s, i in stoi.items()}\n",
    "\n",
    "chars_split_i = int(len(chars)/2)\n",
    "a_chars = chars[:chars_split_i]\n",
    "b_chars = chars[chars_split_i:]\n",
    "\n",
    "a_chars_size = len(a_chars)\n",
    "b_chars_size = len(b_chars)"
   ]
  },
  {
   "cell_type": "code",
   "execution_count": 13,
   "id": "621d4039-3b4f-403a-a92a-b35785c5bac5",
   "metadata": {
    "tags": []
   },
   "outputs": [],
   "source": [
    "# build the dataset\n",
    "\n",
    "block_size = 3 # context length: how many characters do we take to predict the next one?\n",
    "\n",
    "def build_dataset(words, a_chars, b_chars):\n",
    "    a_X, a_Y, b_X, b_Y = [], [], [], []\n",
    "    for w in words:\n",
    "\n",
    "        context = [0] * block_size\n",
    "        for ch in w + '.':\n",
    "            ix = stoi[ch]\n",
    "            if ch in a_chars:\n",
    "                a_X.append(context)\n",
    "                a_Y.append(ix)\n",
    "            else:\n",
    "                b_X.append(context)\n",
    "                b_Y.append(ix)\n",
    "            context = context[1:] + [ix] # crop and append\n",
    "\n",
    "    a_X = torch.tensor(a_X)\n",
    "    a_Y = torch.tensor(a_Y)\n",
    "    b_X = torch.tensor(b_X)\n",
    "    b_Y = torch.tensor(b_Y)\n",
    "    return a_X, a_Y, b_X, b_Y\n",
    "    \n",
    "import random\n",
    "random.seed(42)\n",
    "random.shuffle(words)\n",
    "n1 = int(0.8 * len(words))\n",
    "n2 = int(0.9 * len(words))\n",
    "\n",
    "a_Xtr, a_Ytr, b_Xtr, b_Ytr = build_dataset(words[:n1], a_chars, b_chars)\n",
    "a_Xdev, a_Ydev, b_Xdev, b_Ydev = build_dataset(words[n1:n2], a_chars, b_chars)\n",
    "a_Xtest, a_Ytest, b_Xtest, b_Ytest = build_dataset(words[n2:], a_chars, b_chars)"
   ]
  },
  {
   "cell_type": "code",
   "execution_count": 23,
   "id": "4565a47b-68d7-4707-92d9-5d3a537c3246",
   "metadata": {
    "tags": []
   },
   "outputs": [],
   "source": [
    "emb_size = 20\n",
    "hidden_layer_size = 50\n",
    "mini_batch_size = 1024\n",
    "regularization = 2\n",
    "\n",
    "g = torch.Generator().manual_seed(2147483647)\n",
    "C = torch.randn((27, emb_size), generator=g)\n",
    "\n",
    "a_W1 = torch.randn((3*emb_size, hidden_layer_size), generator=g)\n",
    "a_b1 = torch.randn(hidden_layer_size, generator=g)\n",
    "a_W2 = torch.randn((hidden_layer_size,27), generator=g)\n",
    "a_b2 = torch.randn(27, generator=g)\n",
    "\n",
    "b_W1 = torch.randn((3*emb_size, hidden_layer_size), generator=g)\n",
    "b_b1 = torch.randn(hidden_layer_size, generator=g)\n",
    "b_W2 = torch.randn((hidden_layer_size,27), generator=g)\n",
    "b_b2 = torch.randn(27, generator=g)\n",
    "\n",
    "a_parameters = [C, a_W1, a_b1, a_W2, a_b2]\n",
    "b_parameters = [C, b_W1, b_b1, b_W2, b_b2]\n",
    "parameters = [C, a_W1, a_b1, a_W2, a_b2, b_W1, b_b1, b_W2, b_b2]"
   ]
  },
  {
   "cell_type": "code",
   "execution_count": 24,
   "id": "536ca974-5244-41b1-9649-3e7a3837ffda",
   "metadata": {
    "tags": []
   },
   "outputs": [
    {
     "data": {
      "text/plain": [
       "9394"
      ]
     },
     "execution_count": 24,
     "metadata": {},
     "output_type": "execute_result"
    }
   ],
   "source": [
    "sum(p.nelement() for p in parameters)"
   ]
  },
  {
   "cell_type": "code",
   "execution_count": 25,
   "id": "41d4ef42-3220-42b8-b413-f047227122d1",
   "metadata": {
    "tags": []
   },
   "outputs": [],
   "source": [
    "for p in parameters:\n",
    "    p.requires_grad = True"
   ]
  },
  {
   "cell_type": "code",
   "execution_count": 26,
   "id": "c92145aa-77cb-41d8-aa37-640218d190a6",
   "metadata": {
    "tags": []
   },
   "outputs": [],
   "source": [
    "def total_loss(setX, setY, W1, b1, W2, b2):\n",
    "    emb = C[setX]\n",
    "    h = torch.tanh(emb.view(-1, 3*emb_size) @ W1 + b1)\n",
    "    logits = h @ W2 + b2\n",
    "    loss = F.cross_entropy(logits, setY) + regularization * (W1**2).mean() + regularization * (W2**2).mean()\n",
    "    return loss.item()"
   ]
  },
  {
   "cell_type": "code",
   "execution_count": 27,
   "id": "18a4164d-eafa-4d6c-aaba-36f82878fed6",
   "metadata": {
    "tags": []
   },
   "outputs": [
    {
     "name": "stdout",
     "output_type": "stream",
     "text": [
      "It count: 0, train loss: 17.398569107055664, dev loss: 17.453584671020508\n",
      "It count: 5000, train loss: 2.2550759315490723, dev loss: 2.2553458213806152\n",
      "It count: 10000, train loss: 1.765372395515442, dev loss: 1.7680097818374634\n",
      "It count: 15000, train loss: 1.647465467453003, dev loss: 1.649801254272461\n",
      "It count: 20000, train loss: 1.612952709197998, dev loss: 1.6157277822494507\n",
      "It count: 25000, train loss: 1.609444260597229, dev loss: 1.6120115518569946\n",
      "It count: 30000, train loss: 1.607559084892273, dev loss: 1.610450029373169\n",
      "It count: 35000, train loss: 1.605723261833191, dev loss: 1.608553409576416\n",
      "It count: 0, train loss: 17.847610473632812, dev loss: 17.944202423095703\n",
      "It count: 5000, train loss: 2.405029058456421, dev loss: 2.430474281311035\n",
      "It count: 10000, train loss: 1.9169265031814575, dev loss: 1.94203519821167\n",
      "It count: 15000, train loss: 1.7964328527450562, dev loss: 1.820769190788269\n",
      "It count: 20000, train loss: 1.759708285331726, dev loss: 1.7838166952133179\n",
      "It count: 25000, train loss: 1.756131887435913, dev loss: 1.7802211046218872\n",
      "It count: 30000, train loss: 1.7540240287780762, dev loss: 1.779109001159668\n",
      "It count: 35000, train loss: 1.7521605491638184, dev loss: 1.7771316766738892\n",
      "It count: 0, train loss: 1.6619741916656494, dev loss: 1.6644401550292969\n",
      "It count: 5000, train loss: 1.589187502861023, dev loss: 1.5936001539230347\n",
      "It count: 10000, train loss: 1.581007957458496, dev loss: 1.5881175994873047\n",
      "It count: 15000, train loss: 1.5748043060302734, dev loss: 1.581451416015625\n",
      "It count: 20000, train loss: 1.5704493522644043, dev loss: 1.5794677734375\n",
      "It count: 25000, train loss: 1.5679532289505005, dev loss: 1.577021598815918\n",
      "It count: 30000, train loss: 1.5674508810043335, dev loss: 1.5765424966812134\n",
      "It count: 35000, train loss: 1.5669190883636475, dev loss: 1.5764553546905518\n",
      "It count: 0, train loss: 1.7535662651062012, dev loss: 1.7847356796264648\n",
      "It count: 5000, train loss: 1.729928970336914, dev loss: 1.7599557638168335\n",
      "It count: 10000, train loss: 1.719616413116455, dev loss: 1.7532318830490112\n",
      "It count: 15000, train loss: 1.7135473489761353, dev loss: 1.7487404346466064\n",
      "It count: 20000, train loss: 1.7087256908416748, dev loss: 1.7470176219940186\n",
      "It count: 25000, train loss: 1.705317497253418, dev loss: 1.7441593408584595\n",
      "It count: 30000, train loss: 1.7046979665756226, dev loss: 1.7443515062332153\n",
      "It count: 35000, train loss: 1.704230785369873, dev loss: 1.744591474533081\n"
     ]
    }
   ],
   "source": [
    "#Training\n",
    "\n",
    "for _ in range(2):\n",
    "\n",
    "    for Xtr,Ytr,Xdev,Ydev,W1,b1,W2,b2, parameters in [(a_Xtr,a_Ytr,a_Xdev,a_Ydev,a_W1,a_b1,a_W2,a_b2, a_parameters),\n",
    "                                                     (b_Xtr,b_Ytr,b_Xdev,b_Ydev,b_W1,b_b1,b_W2,b_b2, b_parameters)]:\n",
    "\n",
    "        loss_tr = []\n",
    "        loss_dev = []\n",
    "        stepi = []\n",
    "\n",
    "        it_count=40000\n",
    "        report_every_it = 1000\n",
    "        print_every_it = 5000\n",
    "\n",
    "        for i in range(it_count):\n",
    "\n",
    "            # minibatch construct\n",
    "            ix = torch.randint(0, Xtr.shape[0], (mini_batch_size,))\n",
    "\n",
    "            # forward pass\n",
    "            emb = C[Xtr[ix]] # (32, 3, 2)\n",
    "            h = torch.tanh(emb.view(-1, 3*emb_size) @ W1 + b1) # (32, 100)\n",
    "            logits = h @ W2 + b2\n",
    "            loss = F.cross_entropy(logits, Ytr[ix]) + regularization * (W1**2).mean() + regularization * (W2**2).mean()\n",
    "            # print(loss.item())\n",
    "\n",
    "            # backward pass\n",
    "            for p in parameters:\n",
    "                p.grad = None\n",
    "            loss.backward()\n",
    "\n",
    "            # update\n",
    "            # lr = lrs[i]\n",
    "            lr = 0.1 if i < it_count/2 else 0.01 \n",
    "            for p in parameters:\n",
    "                p.data += -lr * p.grad\n",
    "\n",
    "            # track stats\n",
    "            if i%(report_every_it) == 0:\n",
    "                stepi.append(i)\n",
    "                loss_tr.append(total_loss(Xtr, Ytr, W1, b1, W2, b2))\n",
    "                loss_dev.append(total_loss(Xdev, Ydev, W1, b1, W2, b2))\n",
    "                if i%(print_every_it) == 0:\n",
    "                    print(f\"It count: {i}, train loss: {loss_tr[-1]}, dev loss: {loss_dev[-1]}\")"
   ]
  },
  {
   "cell_type": "code",
   "execution_count": 28,
   "id": "d883f886-b1f8-4458-a143-3b3823b88e41",
   "metadata": {
    "tags": []
   },
   "outputs": [],
   "source": [
    "# sample from the model\n",
    "\n",
    "g = torch.Generator().manual_seed(2147483647)\n",
    "samples = []\n",
    "\n",
    "for _ in range(100):\n",
    "    \n",
    "    out = []\n",
    "    context = [0] * block_size\n",
    "    while True:\n",
    "        emb = C[torch.tensor([context])]\n",
    "        logits = None\n",
    "        \n",
    "        if itos[context[2]] in a_chars:\n",
    "            h = torch.tanh(emb.view(1, -1) @ a_W1 + a_b1)\n",
    "            logits = h @ a_W2 + a_b2\n",
    "        else:\n",
    "            h = torch.tanh(emb.view(1, -1) @ b_W1 + b_b1)\n",
    "            logits = h @ b_W2 + b_b2\n",
    "            \n",
    "        probs = F.softmax(logits, dim=1)\n",
    "        ix = torch.multinomial(probs, num_samples=1, generator=g).item()\n",
    "        context = context[1:] + [ix]\n",
    "        \n",
    "        if ix==0:\n",
    "            break\n",
    "        out.append(ix)\n",
    "\n",
    "    samples.append(''.join(itos[i] for i in out))"
   ]
  },
  {
   "cell_type": "code",
   "execution_count": 29,
   "id": "17629c64-4366-4b5f-9586-04118844b297",
   "metadata": {
    "tags": []
   },
   "outputs": [
    {
     "name": "stdout",
     "output_type": "stream",
     "text": [
      "Sample len: 100\n",
      "New Words len: 70\n",
      "New words: ['delie', 'adilah', 'ell', 'ich', 'caidella', 'kakaida', 'jacille', 'jaleigi', 'aai', 'iclaellah', 'jacia', 'daeka', 'kadel', 'akaigeli', 'fell', 'ihilie', 'balah', 'all', 'baleil', 'geal', 'feille', 'deli', 'fie', 'legaika', 'bhaab', 'aale', 'khallee', 'abellia', 'aah', 'keecle', 'jaed', 'lice', 'ellaileah', 'deagadihailee', 'cheille', 'lah', 'deah', 'aajhaad', 'gel', 'keilla', 'ficalcalli', 'kaddailiah', 'behlagha', 'kaelica', 'badelka', 'heacdaiaa', 'jagh', 'calle', 'ahlliklalia', 'kahayvonnonyxnossonnynorttonnytrrynntonnyszynnonyonnoztontustoroornorrynnsmontynontorynnovonnyronnynnnsurmynnnontonnysonsonnontryxsonntonnoynnottusswornozumnsonnystonnynnorustonnontonostytzrumourttynnormontrosstonvynnnonsynnnszorrynnsonnossonnonnyponnynsonortonnstyntonnorynnnwoustorynnonortonnonystoptrosssynnourmynontromononustontrystonnyxtonnonournntonnstonnysstonontryntonntzynnontonustonnzsonnystonyssonnyssontromyrosspsprnyntonnyvonnovonnyxsontryssonnontorynnoxtynnontonnyussonnyusporunustonnynnytonnypoonpynnyronstoourttymonnorvynnoynnnytorrynntzynnortomontrossonnstortonnyunonxynnnxoryntonnssonstonnonmyzonnyvontryvronzynnustynosmonnzurtonntzpontrossonnyszynnstornoryonnysonnynnsonnoxtonnyyzonnyntonnysusynnnnysontonnystynnoptonnyssonnoyrustynnorsonnowossynnzonnyynontrynnomontronosynnnsonnysttynnstynnonmorynnyxsonnmynnnyonnynsorrynsomustortuvonnomurttontryonnynzorystopzynnstonoryusturottymonyzynnynontynorrynnsynnsynnsustonysonnuynonsonnorynontzonnyonnzonnysonnysssporrynnonnysonsowossontrysonnoruwnnystoortontrystovynntynnnorronnoxtontoonstonnooryontrurtynnnzorynnonyyronnysunponvontorroztponnyzsia', 'elghaleigal', 'khala', 'bleigha', 'aaha', 'kalba', 'aice', 'kaelle', 'ick', 'beabella', 'liid', 'hea', 'deli', 'faahia', 'dalah', 'elee', 'dalee', 'aleilia', 'dae', 'ceel', 'gadah']\n"
     ]
    }
   ],
   "source": [
    "new_words = [sample for sample in samples if sample not in words]\n",
    "\n",
    "print(f\"Sample len: {len(samples)}\")\n",
    "print(f\"New Words len: {len(new_words)}\")\n",
    "\n",
    "print(\"New words:\", new_words)"
   ]
  },
  {
   "cell_type": "code",
   "execution_count": 227,
   "id": "cb8529c9-0886-4aee-98ef-d7216621df78",
   "metadata": {
    "tags": []
   },
   "outputs": [],
   "source": [
    "# Interesting... it somewhat feels like it worked, but I don't understand how I get so low losses\n",
    "\n",
    "# Seems like training a_char, then b_char then a_char again helps lower the loss faster\n",
    "# The training takes 2:45 minutes"
   ]
  },
  {
   "cell_type": "code",
   "execution_count": null,
   "id": "b0d08cef-52e9-41f0-94e5-10e1a8e52537",
   "metadata": {},
   "outputs": [],
   "source": []
  }
 ],
 "metadata": {
  "kernelspec": {
   "display_name": "Python 3 (ipykernel)",
   "language": "python",
   "name": "python3"
  },
  "language_info": {
   "codemirror_mode": {
    "name": "ipython",
    "version": 3
   },
   "file_extension": ".py",
   "mimetype": "text/x-python",
   "name": "python",
   "nbconvert_exporter": "python",
   "pygments_lexer": "ipython3",
   "version": "3.9.16"
  }
 },
 "nbformat": 4,
 "nbformat_minor": 5
}
