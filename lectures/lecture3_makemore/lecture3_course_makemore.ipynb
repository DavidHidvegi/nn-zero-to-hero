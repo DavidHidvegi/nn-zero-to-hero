{
 "cells": [
  {
   "cell_type": "code",
   "execution_count": 1,
   "id": "6d41c24c-824f-4c9c-9a0b-84dc78c99a06",
   "metadata": {},
   "outputs": [],
   "source": [
    "# Key takeaways:\n",
    "\n",
    "# training split, ~80%, used to optimize the parameters of the model\n",
    "# dev/validation split, ~10%, used to tune the hyperparameters\n",
    "# test split, ~10%, used to evaluate the performance of the model at the end\n",
    "\n",
    "# models with bigger parameter sizes aren't necessarly better, they are also more prone to overfitting\n",
    "# regularization can help a lot to achieve good results"
   ]
  },
  {
   "cell_type": "code",
   "execution_count": 2,
   "id": "4a1492e5",
   "metadata": {
    "tags": []
   },
   "outputs": [],
   "source": [
    "import torch\n",
    "import torch.nn.functional as F\n",
    "import matplotlib.pyplot as plt\n",
    "%matplotlib inline"
   ]
  },
  {
   "cell_type": "code",
   "execution_count": 3,
   "id": "ef7b6543",
   "metadata": {
    "tags": []
   },
   "outputs": [
    {
     "data": {
      "text/plain": [
       "['emma', 'olivia', 'ava', 'isabella', 'sophia', 'charlotte', 'mia', 'amelia']"
      ]
     },
     "execution_count": 3,
     "metadata": {},
     "output_type": "execute_result"
    }
   ],
   "source": [
    "# read in all the words\n",
    "words = open('names.txt', 'r').read().splitlines()\n",
    "words[:8]"
   ]
  },
  {
   "cell_type": "code",
   "execution_count": 4,
   "id": "23ec2420-2071-46cb-a58a-6c7127e7b123",
   "metadata": {
    "tags": []
   },
   "outputs": [
    {
     "data": {
      "text/plain": [
       "32033"
      ]
     },
     "execution_count": 4,
     "metadata": {},
     "output_type": "execute_result"
    }
   ],
   "source": [
    "len(words)"
   ]
  },
  {
   "cell_type": "code",
   "execution_count": 5,
   "id": "a3cdf4ac-e1c1-49a6-a78f-c1f7f2b91868",
   "metadata": {
    "tags": []
   },
   "outputs": [],
   "source": [
    "# build the vocabulary of characters and mappins to/from integers\n",
    "chars = sorted(list(set(''.join(words))))\n",
    "stoi = {s:i+1 for i,s in enumerate(chars)}\n",
    "stoi['.'] = 0\n",
    "itos = {i:s for s, i in stoi.items()}"
   ]
  },
  {
   "cell_type": "code",
   "execution_count": 6,
   "id": "44e3ba92-fe52-4d14-bf5e-699663bb8950",
   "metadata": {
    "tags": []
   },
   "outputs": [
    {
     "name": "stdout",
     "output_type": "stream",
     "text": [
      "{1: 'a', 2: 'b', 3: 'c', 4: 'd', 5: 'e', 6: 'f', 7: 'g', 8: 'h', 9: 'i', 10: 'j', 11: 'k', 12: 'l', 13: 'm', 14: 'n', 15: 'o', 16: 'p', 17: 'q', 18: 'r', 19: 's', 20: 't', 21: 'u', 22: 'v', 23: 'w', 24: 'x', 25: 'y', 26: 'z', 0: '.'}\n"
     ]
    }
   ],
   "source": [
    "print(itos)"
   ]
  },
  {
   "cell_type": "code",
   "execution_count": 7,
   "id": "52860d3b-22f9-49d0-8ab9-1cd893d0b729",
   "metadata": {
    "tags": []
   },
   "outputs": [],
   "source": [
    "# build the dataset\n",
    "\n",
    "block_size = 3 # context length: how many characters do we take to predict the next one?\n",
    "X, Y = [], []\n",
    "for w in words:\n",
    "    # print(w)\n",
    "    \n",
    "    context = [0] * block_size\n",
    "    for ch in w + '.':\n",
    "        ix = stoi[ch]\n",
    "        X.append(context)\n",
    "        Y.append(ix)\n",
    "        # print(''.join(itos[i] for i in context), '--->', itos[ix])\n",
    "        context = context[1:] + [ix] # crop and append\n",
    "              \n",
    "X = torch.tensor(X)\n",
    "Y = torch.tensor(Y)"
   ]
  },
  {
   "cell_type": "code",
   "execution_count": 8,
   "id": "d626297a-b788-483b-aedc-d7c77c544ce3",
   "metadata": {
    "tags": []
   },
   "outputs": [
    {
     "data": {
      "text/plain": [
       "(torch.Size([228146, 3]), torch.int64, torch.Size([228146]), torch.int64)"
      ]
     },
     "execution_count": 8,
     "metadata": {},
     "output_type": "execute_result"
    }
   ],
   "source": [
    "X.shape, X.dtype, Y.shape, Y.dtype"
   ]
  },
  {
   "cell_type": "code",
   "execution_count": 9,
   "id": "14c5378f-cf40-4240-aaa6-4d95c08f3e4d",
   "metadata": {
    "tags": []
   },
   "outputs": [],
   "source": [
    "C = torch.randn((27,2))"
   ]
  },
  {
   "cell_type": "code",
   "execution_count": 10,
   "id": "96b2c25d-c9db-4494-b05f-47363d982508",
   "metadata": {
    "tags": []
   },
   "outputs": [
    {
     "data": {
      "text/plain": [
       "torch.Size([228146, 3, 2])"
      ]
     },
     "execution_count": 10,
     "metadata": {},
     "output_type": "execute_result"
    }
   ],
   "source": [
    "emb = C[X]\n",
    "emb.shape"
   ]
  },
  {
   "cell_type": "code",
   "execution_count": 11,
   "id": "7af8afc5-4ccd-4452-bb25-f5bbeda4d603",
   "metadata": {
    "tags": []
   },
   "outputs": [],
   "source": [
    "W1 = torch.randn((6,100))\n",
    "b1 = torch.randn(100)"
   ]
  },
  {
   "cell_type": "code",
   "execution_count": 12,
   "id": "c4a42a60-ad3c-4101-b9ed-29c0657be52f",
   "metadata": {
    "tags": []
   },
   "outputs": [],
   "source": [
    "h = torch.tanh(emb.view(-1, 6) @ W1 + b1)"
   ]
  },
  {
   "cell_type": "code",
   "execution_count": 13,
   "id": "45d9fd86-31a8-4d8a-bd8a-0d366ba3bd67",
   "metadata": {
    "tags": []
   },
   "outputs": [
    {
     "data": {
      "text/plain": [
       "torch.Size([228146, 100])"
      ]
     },
     "execution_count": 13,
     "metadata": {},
     "output_type": "execute_result"
    }
   ],
   "source": [
    "h.shape"
   ]
  },
  {
   "cell_type": "code",
   "execution_count": 14,
   "id": "2a069fa7-d81f-496e-9045-acb296f16c99",
   "metadata": {
    "tags": []
   },
   "outputs": [],
   "source": [
    "W2 = torch.randn((100, 27))\n",
    "b2 = torch.randn(27)"
   ]
  },
  {
   "cell_type": "code",
   "execution_count": 15,
   "id": "a5c1918b-94d6-4180-8162-029ec678ddbe",
   "metadata": {
    "tags": []
   },
   "outputs": [],
   "source": [
    "logits = h @ W2 + b2"
   ]
  },
  {
   "cell_type": "code",
   "execution_count": 16,
   "id": "339dcc66-a43a-4c41-9baa-03fd50ceca02",
   "metadata": {
    "tags": []
   },
   "outputs": [
    {
     "data": {
      "text/plain": [
       "torch.Size([228146, 27])"
      ]
     },
     "execution_count": 16,
     "metadata": {},
     "output_type": "execute_result"
    }
   ],
   "source": [
    "logits.shape"
   ]
  },
  {
   "cell_type": "code",
   "execution_count": 17,
   "id": "4f271608-7de1-4c7d-9baa-035a728bf864",
   "metadata": {
    "tags": []
   },
   "outputs": [],
   "source": [
    "counts = logits.exp()\n",
    "prob = counts / counts.sum(1, keepdims=True)"
   ]
  },
  {
   "cell_type": "code",
   "execution_count": 18,
   "id": "2f9949e0-28e9-421a-8bcf-0831d77d6ad1",
   "metadata": {
    "tags": []
   },
   "outputs": [
    {
     "data": {
      "text/plain": [
       "torch.Size([228146, 27])"
      ]
     },
     "execution_count": 18,
     "metadata": {},
     "output_type": "execute_result"
    }
   ],
   "source": [
    "prob.shape"
   ]
  },
  {
   "cell_type": "code",
   "execution_count": 21,
   "id": "1352fba7-dce1-4984-bc40-0b9531c6e2e1",
   "metadata": {},
   "outputs": [],
   "source": [
    "# ---------------------- Cleanup of the code above ----------------------"
   ]
  },
  {
   "cell_type": "code",
   "execution_count": 22,
   "id": "772e7237-9c3a-41f0-85ba-af355c4b734e",
   "metadata": {
    "tags": []
   },
   "outputs": [
    {
     "name": "stdout",
     "output_type": "stream",
     "text": [
      "torch.Size([182625, 3]) torch.Size([182625])\n",
      "torch.Size([22655, 3]) torch.Size([22655])\n",
      "torch.Size([22866, 3]) torch.Size([22866])\n"
     ]
    }
   ],
   "source": [
    "# build the dataset\n",
    "\n",
    "block_size = 3 # context length: how many characters do we take to predict the next one?\n",
    "\n",
    "def build_dataset(words):\n",
    "    X, Y = [], []\n",
    "    for w in words:\n",
    "        # print(w)\n",
    "\n",
    "        context = [0] * block_size\n",
    "        for ch in w + '.':\n",
    "            ix = stoi[ch]\n",
    "            X.append(context)\n",
    "            Y.append(ix)\n",
    "            context = context[1:] + [ix] # crop and append\n",
    "\n",
    "    X = torch.tensor(X)\n",
    "    Y = torch.tensor(Y)\n",
    "    print(X.shape, Y.shape)\n",
    "    return X, Y\n",
    "    \n",
    "import random\n",
    "random.seed(42)\n",
    "random.shuffle(words)\n",
    "n1 = int(0.8 * len(words))\n",
    "n2 = int(0.9 * len(words))\n",
    "\n",
    "Xtr, Ytr = build_dataset(words[:n1])\n",
    "Xdev, Ydev = build_dataset(words[n1:n2])\n",
    "Xtest, Ytest = build_dataset(words[n2:])"
   ]
  },
  {
   "cell_type": "code",
   "execution_count": 23,
   "id": "576a5b57-2a1e-431a-812f-73bed6f1421d",
   "metadata": {
    "tags": []
   },
   "outputs": [
    {
     "data": {
      "text/plain": [
       "(torch.Size([182625, 3]), torch.Size([182625]))"
      ]
     },
     "execution_count": 23,
     "metadata": {},
     "output_type": "execute_result"
    }
   ],
   "source": [
    "Xtr.shape, Ytr.shape"
   ]
  },
  {
   "cell_type": "code",
   "execution_count": 24,
   "id": "94c9f124-7846-4b5b-8338-32bd716291f4",
   "metadata": {
    "tags": []
   },
   "outputs": [],
   "source": [
    "emb_size = 20\n",
    "hidden_layer_size = 100\n",
    "mini_batch_size = 1024\n",
    "regularization = 2"
   ]
  },
  {
   "cell_type": "code",
   "execution_count": 25,
   "id": "d700b3a7-fdc3-4fb4-addb-a85374908f46",
   "metadata": {
    "tags": []
   },
   "outputs": [],
   "source": [
    "g = torch.Generator().manual_seed(2147483647)\n",
    "C = torch.randn((27, emb_size), generator=g)\n",
    "W1 = torch.randn((3*emb_size, hidden_layer_size), generator=g)\n",
    "b1 = torch.randn(hidden_layer_size, generator=g)\n",
    "W2 = torch.randn((hidden_layer_size,27), generator=g)\n",
    "b2 = torch.randn(27, generator=g)\n",
    "parameters = [C, W1, b1, W2, b2]"
   ]
  },
  {
   "cell_type": "code",
   "execution_count": 26,
   "id": "c03f8f63-ee85-4f15-add4-01637ce2d9e9",
   "metadata": {
    "tags": []
   },
   "outputs": [
    {
     "data": {
      "text/plain": [
       "9367"
      ]
     },
     "execution_count": 26,
     "metadata": {},
     "output_type": "execute_result"
    }
   ],
   "source": [
    "sum(p.nelement() for p in parameters)"
   ]
  },
  {
   "cell_type": "code",
   "execution_count": 27,
   "id": "d294b0e6-26a1-4472-b569-2db6d47e036b",
   "metadata": {
    "tags": []
   },
   "outputs": [],
   "source": [
    "for p in parameters:\n",
    "    p.requires_grad = True"
   ]
  },
  {
   "cell_type": "code",
   "execution_count": 28,
   "id": "7ecdcabc-b46a-4a5b-a381-708289c4998d",
   "metadata": {
    "tags": []
   },
   "outputs": [],
   "source": [
    "loss_tr = []\n",
    "loss_dev = []\n",
    "stepi = []"
   ]
  },
  {
   "cell_type": "code",
   "execution_count": 29,
   "id": "c95b92a4-b0e6-470b-9e47-826b870d6cfe",
   "metadata": {},
   "outputs": [],
   "source": [
    "def total_loss(setX, setY):\n",
    "    emb = C[setX]\n",
    "    h = torch.tanh(emb.view(-1, 3*emb_size) @ W1 + b1)\n",
    "    logits = h @ W2 + b2\n",
    "    loss = F.cross_entropy(logits, setY) + regularization * (W1**2).mean() + regularization * (W2**2).mean()\n",
    "    return loss.item()"
   ]
  },
  {
   "cell_type": "code",
   "execution_count": 30,
   "id": "6206a942-5815-4226-9228-06fd1708e664",
   "metadata": {
    "tags": []
   },
   "outputs": [
    {
     "name": "stdout",
     "output_type": "stream",
     "text": [
      "It count: 0, train loss: 22.197509765625, dev loss: 22.14596176147461\n",
      "It count: 5000, train loss: 3.552011489868164, dev loss: 3.560950517654419\n",
      "It count: 10000, train loss: 2.8185160160064697, dev loss: 2.825432062149048\n",
      "It count: 15000, train loss: 2.5147817134857178, dev loss: 2.5247905254364014\n",
      "It count: 20000, train loss: 2.3673930168151855, dev loss: 2.3793787956237793\n",
      "It count: 25000, train loss: 2.291459560394287, dev loss: 2.305297613143921\n",
      "It count: 30000, train loss: 2.252495527267456, dev loss: 2.267923355102539\n",
      "It count: 35000, train loss: 2.2314186096191406, dev loss: 2.2473599910736084\n",
      "It count: 40000, train loss: 2.2168233394622803, dev loss: 2.234220027923584\n",
      "It count: 45000, train loss: 2.2076752185821533, dev loss: 2.225250005722046\n",
      "It count: 50000, train loss: 2.2000555992126465, dev loss: 2.219130754470825\n",
      "It count: 55000, train loss: 2.1954703330993652, dev loss: 2.2145862579345703\n",
      "It count: 60000, train loss: 2.190124034881592, dev loss: 2.2111504077911377\n",
      "It count: 65000, train loss: 2.186854362487793, dev loss: 2.2090258598327637\n",
      "It count: 70000, train loss: 2.1813902854919434, dev loss: 2.205077648162842\n",
      "It count: 75000, train loss: 2.1792151927948, dev loss: 2.202990770339966\n",
      "It count: 80000, train loss: 2.175200939178467, dev loss: 2.2003390789031982\n",
      "It count: 85000, train loss: 2.172309160232544, dev loss: 2.197435140609741\n",
      "It count: 90000, train loss: 2.1696760654449463, dev loss: 2.196683406829834\n",
      "It count: 95000, train loss: 2.1674349308013916, dev loss: 2.19637131690979\n",
      "It count: 100000, train loss: 2.166226863861084, dev loss: 2.195610761642456\n",
      "It count: 105000, train loss: 2.1617696285247803, dev loss: 2.1918163299560547\n",
      "It count: 110000, train loss: 2.161409378051758, dev loss: 2.1914713382720947\n",
      "It count: 115000, train loss: 2.161208391189575, dev loss: 2.191293478012085\n",
      "It count: 120000, train loss: 2.161011219024658, dev loss: 2.1910791397094727\n",
      "It count: 125000, train loss: 2.160790205001831, dev loss: 2.1909427642822266\n",
      "It count: 130000, train loss: 2.1605279445648193, dev loss: 2.1910197734832764\n",
      "It count: 135000, train loss: 2.1603260040283203, dev loss: 2.190753221511841\n",
      "It count: 140000, train loss: 2.16019606590271, dev loss: 2.190768241882324\n",
      "It count: 145000, train loss: 2.159902572631836, dev loss: 2.1907293796539307\n",
      "It count: 150000, train loss: 2.159668445587158, dev loss: 2.1908814907073975\n",
      "It count: 155000, train loss: 2.1594622135162354, dev loss: 2.1907544136047363\n",
      "It count: 160000, train loss: 2.1592659950256348, dev loss: 2.1902828216552734\n",
      "It count: 165000, train loss: 2.159092903137207, dev loss: 2.190606117248535\n",
      "It count: 170000, train loss: 2.158865451812744, dev loss: 2.190206527709961\n",
      "It count: 175000, train loss: 2.1586577892303467, dev loss: 2.190026044845581\n",
      "It count: 180000, train loss: 2.158487558364868, dev loss: 2.190361976623535\n",
      "It count: 185000, train loss: 2.158302068710327, dev loss: 2.189875602722168\n",
      "It count: 190000, train loss: 2.1580519676208496, dev loss: 2.189889907836914\n",
      "It count: 195000, train loss: 2.1578359603881836, dev loss: 2.189696788787842\n"
     ]
    }
   ],
   "source": [
    "i_start = 0 if len(stepi) == 0 else stepi[-1]\n",
    "it_count=200000\n",
    "report_every_it = 1000\n",
    "print_every_it = 5000\n",
    "\n",
    "for i in range(it_count):\n",
    "    \n",
    "    # minibatch construct\n",
    "    ix = torch.randint(0, Xtr.shape[0], (mini_batch_size,))\n",
    "\n",
    "    # forward pass\n",
    "    emb = C[Xtr[ix]] # (32, 3, 2)\n",
    "    h = torch.tanh(emb.view(-1, 3*emb_size) @ W1 + b1) # (32, 100)\n",
    "    logits = h @ W2 + b2\n",
    "    loss = F.cross_entropy(logits, Ytr[ix]) + regularization * (W1**2).mean() + regularization * (W2**2).mean()\n",
    "    # print(loss.item())\n",
    "\n",
    "    # backward pass\n",
    "    for p in parameters:\n",
    "        p.grad = None\n",
    "    loss.backward()\n",
    "\n",
    "    # update\n",
    "    # lr = lrs[i]\n",
    "    lr = 0.1 if i < 100000 else 0.01 \n",
    "    for p in parameters:\n",
    "        p.data += -lr * p.grad\n",
    "        \n",
    "    # track stats\n",
    "    if i%(report_every_it) == 0:\n",
    "        stepi.append(i)\n",
    "        loss_tr.append(total_loss(Xtr, Ytr))\n",
    "        loss_dev.append(total_loss(Xdev, Ydev))\n",
    "        if i%(print_every_it) == 0:\n",
    "            print(f\"It count: {i}, train loss: {loss_tr[-1]}, dev loss: {loss_dev[-1]}\")\n",
    "        \n",
    "        \n",
    "# print(loss.item())"
   ]
  },
  {
   "cell_type": "code",
   "execution_count": null,
   "id": "2a36a3e3-7dd6-4667-9e5f-14285cc4c7a5",
   "metadata": {
    "collapsed": true,
    "jupyter": {
     "outputs_hidden": true,
     "source_hidden": true
    },
    "tags": []
   },
   "outputs": [
    {
     "data": {
      "text/plain": [
       "[<matplotlib.lines.Line2D at 0x3d19c2a00>]"
      ]
     },
     "execution_count": 1308,
     "metadata": {},
     "output_type": "execute_result"
    },
    {
     "data": {
      "image/png": "[encoded data removed]",
      "text/plain": [
       "<Figure size 640x480 with 1 Axes>"
      ]
     },
     "metadata": {},
     "output_type": "display_data"
    }
   ],
   "source": [
    "plt.plot(stepi, loss_tr)\n",
    "plt.plot(stepi, loss_dev)"
   ]
  },
  {
   "cell_type": "code",
   "execution_count": 31,
   "id": "e041f33f-0ecb-4b53-9492-0dc8024cc0e2",
   "metadata": {
    "tags": []
   },
   "outputs": [
    {
     "data": {
      "text/plain": [
       "tensor(2.0860, grad_fn=<NllLossBackward0>)"
      ]
     },
     "execution_count": 31,
     "metadata": {},
     "output_type": "execute_result"
    }
   ],
   "source": [
    "emb = C[Xtr] # (32, 3, 2)\n",
    "h = torch.tanh(emb.view(-1, 3*emb_size) @ W1 + b1) # (32, 100)\n",
    "logits = h @ W2 + b2\n",
    "loss = F.cross_entropy(logits, Ytr)\n",
    "loss "
   ]
  },
  {
   "cell_type": "code",
   "execution_count": 32,
   "id": "d774e34b-1ce7-49f4-9ea3-e6df286f4e25",
   "metadata": {
    "tags": []
   },
   "outputs": [
    {
     "data": {
      "text/plain": [
       "tensor(2.1182, grad_fn=<NllLossBackward0>)"
      ]
     },
     "execution_count": 32,
     "metadata": {},
     "output_type": "execute_result"
    }
   ],
   "source": [
    "emb = C[Xdev] # (32, 3, 2)\n",
    "h = torch.tanh(emb.view(-1, 3*emb_size) @ W1 + b1) # (32, 100)\n",
    "logits = h @ W2 + b2\n",
    "loss = F.cross_entropy(logits, Ydev)\n",
    "loss "
   ]
  },
  {
   "cell_type": "code",
   "execution_count": null,
   "id": "4561784b-fd09-4126-9a9b-b1da3a5c5ce9",
   "metadata": {},
   "outputs": [],
   "source": [
    "# after 200k (100k with 0.1 lr, 100k with 0.01)\n",
    "\n",
    "# emb_size = 20\n",
    "# hidden_layer_size = 100\n",
    "# mini_batch_size = 1024\n",
    "# regularization = 2\n",
    "#\n",
    "# tra loss = 2.0860\n",
    "# dev loss = 2.1182\n",
    "\n",
    "# emb_size = 20\n",
    "# hidden_layer_size = 80\n",
    "# mini_batch_size = 1024\n",
    "# regularization = 1\n",
    "#\n",
    "# tra loss = 2.0908\n",
    "# dev loss = 2.1340\n",
    "\n",
    "# emb_size = 20\n",
    "# hidden_layer_size = 80\n",
    "# mini_batch_size = 1024\n",
    "# regularization = 3\n",
    "#\n",
    "# tra loss = 2.1240\n",
    "# dev loss = 2.1536\n",
    "\n",
    "# emb_size = 20\n",
    "# hidden_layer_size = 80\n",
    "# mini_batch_size = 1024\n",
    "# regularization = 0.0\n",
    "#\n",
    "# tra loss = 2.1298\n",
    "# dev loss = 2.1847\n",
    "\n",
    "# emb_size = 10\n",
    "# hidden_layer_size = 200\n",
    "# mini_batch_size = 32\n",
    "# regularization = 0.0\n",
    "#\n",
    "# tra loss = 2.1315\n",
    "# dev loss = 2.1854"
   ]
  },
  {
   "cell_type": "code",
   "execution_count": 595,
   "id": "75cc7f0a-fba6-45f7-9b1c-17c5b4793634",
   "metadata": {
    "tags": []
   },
   "outputs": [],
   "source": [
    "# End of video Task: beat 2.17 Xdev loss"
   ]
  },
  {
   "cell_type": "code",
   "execution_count": 356,
   "id": "ce2b7aec-8876-468c-b183-ecfaf2b56650",
   "metadata": {
    "collapsed": true,
    "jupyter": {
     "outputs_hidden": true
    },
    "tags": []
   },
   "outputs": [
    {
     "data": {
      "image/png": "[encoded data removed]",
      "text/plain": [
       "<Figure size 800x800 with 1 Axes>"
      ]
     },
     "metadata": {},
     "output_type": "display_data"
    }
   ],
   "source": [
    "plt.figure(figsize=(8,8))\n",
    "plt.scatter(C[:,0].data, C[:,1].data, s=200)\n",
    "for i in range(C.shape[0]):\n",
    "    plt.text(C[i,0].item(), C[i,1].item(), itos[i], ha=\"center\", va=\"center\", color=\"white\")\n",
    "plt.grid('minor')"
   ]
  },
  {
   "cell_type": "code",
   "execution_count": 443,
   "id": "08b79537-ca97-424e-8330-2d989ffc0278",
   "metadata": {
    "collapsed": true,
    "jupyter": {
     "outputs_hidden": true
    },
    "tags": []
   },
   "outputs": [
    {
     "name": "stdout",
     "output_type": "stream",
     "text": [
      "cezar\n",
      "mouhamakylez\n",
      "tyhirvinicolter\n",
      "makayla\n",
      "ana\n",
      "khamiyah\n",
      "javariana\n",
      "shiv\n",
      "amelaya\n",
      "kaya\n",
      "darek\n",
      "hadja\n",
      "ade\n",
      "aniamyrn\n",
      "hasna\n",
      "malynn\n",
      "broox\n",
      "asukh\n",
      "dra\n",
      "anwyn\n"
     ]
    }
   ],
   "source": [
    "# sample from the model\n",
    "\n",
    "g = torch.Generator().manual_seed(2147483647)\n",
    "\n",
    "for _ in range(20):\n",
    "    \n",
    "    out = []\n",
    "    context = [0] * block_size\n",
    "    while True:\n",
    "        emb = C[torch.tensor([context])]\n",
    "        h = torch.tanh(emb.view(1, -1) @ W1 + b1)\n",
    "        logits = h @ W2 + b2\n",
    "        probs = F.softmax(logits, dim=1)\n",
    "        ix = torch.multinomial(probs, num_samples=1, generator=g).item()\n",
    "        context = context[1:] + [ix]\n",
    "        if ix==0:\n",
    "            break\n",
    "        out.append(ix)\n",
    "\n",
    "    print(''.join(itos[i] for i in out))"
   ]
  }
 ],
 "metadata": {
  "kernelspec": {
   "display_name": "Python 3 (ipykernel)",
   "language": "python",
   "name": "python3"
  },
  "language_info": {
   "codemirror_mode": {
    "name": "ipython",
    "version": 3
   },
   "file_extension": ".py",
   "mimetype": "text/x-python",
   "name": "python",
   "nbconvert_exporter": "python",
   "pygments_lexer": "ipython3",
   "version": "3.9.16"
  }
 },
 "nbformat": 4,
 "nbformat_minor": 5
}
